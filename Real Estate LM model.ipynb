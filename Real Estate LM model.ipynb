{
 "cells": [
  {
   "attachments": {},
   "cell_type": "markdown",
   "metadata": {},
   "source": [
    "# Real Estate Price Predictions"
   ]
  },
  {
   "attachments": {},
   "cell_type": "markdown",
   "metadata": {},
   "source": [
    "Notebook com predição do preço por unidade de área de casas.  \n",
    "Dataset extraído do kaggle (https://www.kaggle.com/datasets/quantbruce/real-estate-price-prediction)"
   ]
  },
  {
   "cell_type": "code",
   "execution_count": 1,
   "metadata": {},
   "outputs": [],
   "source": [
    "\n",
    "# Importando pacotes\n",
    "import pandas as pd\n",
    "import numpy as np\n",
    "import seaborn as sns\n",
    "import matplotlib.pyplot as plt\n",
    "from scipy import stats\n",
    "from scipy.stats import pearsonr\n",
    "from sklearn.preprocessing import StandardScaler\n",
    "from sklearn.model_selection import train_test_split\n",
    "from sklearn.linear_model import LinearRegression\n",
    "from sklearn.feature_selection import SequentialFeatureSelector\n",
    "import statsmodels.api as sm\n",
    "from sklearn.metrics import mean_absolute_error, mean_squared_error, r2_score, explained_variance_score\n",
    "from stepwise_process.statsmodels import stepwise\n",
    "from sfrancia import shapiroFrancia\n",
    "from scipy.stats import norm\n",
    "from scipy.stats import boxcox\n",
    "import re\n",
    "import warnings\n",
    "\n",
    "warnings.filterwarnings(\"ignore\")"
   ]
  },
  {
   "cell_type": "code",
   "execution_count": 2,
   "metadata": {},
   "outputs": [],
   "source": [
    "# Visualizando os dados\n",
    "df = pd.read_csv('Real estate.csv')"
   ]
  },
  {
   "cell_type": "code",
   "execution_count": 3,
   "metadata": {},
   "outputs": [
    {
     "data": {
      "text/html": [
       "<div>\n",
       "<style scoped>\n",
       "    .dataframe tbody tr th:only-of-type {\n",
       "        vertical-align: middle;\n",
       "    }\n",
       "\n",
       "    .dataframe tbody tr th {\n",
       "        vertical-align: top;\n",
       "    }\n",
       "\n",
       "    .dataframe thead th {\n",
       "        text-align: right;\n",
       "    }\n",
       "</style>\n",
       "<table border=\"1\" class=\"dataframe\">\n",
       "  <thead>\n",
       "    <tr style=\"text-align: right;\">\n",
       "      <th></th>\n",
       "      <th>No</th>\n",
       "      <th>X1 transaction date</th>\n",
       "      <th>X2 house age</th>\n",
       "      <th>X3 distance to the nearest MRT station</th>\n",
       "      <th>X4 number of convenience stores</th>\n",
       "      <th>X5 latitude</th>\n",
       "      <th>X6 longitude</th>\n",
       "      <th>Y house price of unit area</th>\n",
       "    </tr>\n",
       "  </thead>\n",
       "  <tbody>\n",
       "    <tr>\n",
       "      <th>0</th>\n",
       "      <td>1</td>\n",
       "      <td>2012.917</td>\n",
       "      <td>32.0</td>\n",
       "      <td>84.87882</td>\n",
       "      <td>10</td>\n",
       "      <td>24.98298</td>\n",
       "      <td>121.54024</td>\n",
       "      <td>37.9</td>\n",
       "    </tr>\n",
       "    <tr>\n",
       "      <th>1</th>\n",
       "      <td>2</td>\n",
       "      <td>2012.917</td>\n",
       "      <td>19.5</td>\n",
       "      <td>306.59470</td>\n",
       "      <td>9</td>\n",
       "      <td>24.98034</td>\n",
       "      <td>121.53951</td>\n",
       "      <td>42.2</td>\n",
       "    </tr>\n",
       "    <tr>\n",
       "      <th>2</th>\n",
       "      <td>3</td>\n",
       "      <td>2013.583</td>\n",
       "      <td>13.3</td>\n",
       "      <td>561.98450</td>\n",
       "      <td>5</td>\n",
       "      <td>24.98746</td>\n",
       "      <td>121.54391</td>\n",
       "      <td>47.3</td>\n",
       "    </tr>\n",
       "    <tr>\n",
       "      <th>3</th>\n",
       "      <td>4</td>\n",
       "      <td>2013.500</td>\n",
       "      <td>13.3</td>\n",
       "      <td>561.98450</td>\n",
       "      <td>5</td>\n",
       "      <td>24.98746</td>\n",
       "      <td>121.54391</td>\n",
       "      <td>54.8</td>\n",
       "    </tr>\n",
       "    <tr>\n",
       "      <th>4</th>\n",
       "      <td>5</td>\n",
       "      <td>2012.833</td>\n",
       "      <td>5.0</td>\n",
       "      <td>390.56840</td>\n",
       "      <td>5</td>\n",
       "      <td>24.97937</td>\n",
       "      <td>121.54245</td>\n",
       "      <td>43.1</td>\n",
       "    </tr>\n",
       "  </tbody>\n",
       "</table>\n",
       "</div>"
      ],
      "text/plain": [
       "   No  X1 transaction date  X2 house age  \\\n",
       "0   1             2012.917          32.0   \n",
       "1   2             2012.917          19.5   \n",
       "2   3             2013.583          13.3   \n",
       "3   4             2013.500          13.3   \n",
       "4   5             2012.833           5.0   \n",
       "\n",
       "   X3 distance to the nearest MRT station  X4 number of convenience stores  \\\n",
       "0                                84.87882                               10   \n",
       "1                               306.59470                                9   \n",
       "2                               561.98450                                5   \n",
       "3                               561.98450                                5   \n",
       "4                               390.56840                                5   \n",
       "\n",
       "   X5 latitude  X6 longitude  Y house price of unit area  \n",
       "0     24.98298     121.54024                        37.9  \n",
       "1     24.98034     121.53951                        42.2  \n",
       "2     24.98746     121.54391                        47.3  \n",
       "3     24.98746     121.54391                        54.8  \n",
       "4     24.97937     121.54245                        43.1  "
      ]
     },
     "execution_count": 3,
     "metadata": {},
     "output_type": "execute_result"
    }
   ],
   "source": [
    "df.head()"
   ]
  },
  {
   "cell_type": "markdown",
   "metadata": {},
   "source": [
    "#"
   ]
  },
  {
   "attachments": {},
   "cell_type": "markdown",
   "metadata": {},
   "source": [
    "## Data Cleaning"
   ]
  },
  {
   "cell_type": "code",
   "execution_count": 4,
   "metadata": {},
   "outputs": [],
   "source": [
    "# Drop da primeira coluna\n",
    "df.drop('No', axis=1, inplace = True)"
   ]
  },
  {
   "cell_type": "code",
   "execution_count": 5,
   "metadata": {},
   "outputs": [],
   "source": [
    "# Renomeando as colunas\n",
    "df.rename(columns= {'X1 transaction date': 'Data Transacao',\n",
    "                    'X2 house age': 'Idade casa',\n",
    "                    'X3 distance to the nearest MRT station': 'Distancia da estacao metro',\n",
    "                    'X4 number of convenience stores': 'Numero lojas conveniencia',\n",
    "                    'X5 latitude': 'Latitude',\n",
    "                    'X6 longitude': 'Longitude',\n",
    "                    'Y house price of unit area': 'Preco por unidade de area'}, inplace=True)"
   ]
  },
  {
   "cell_type": "code",
   "execution_count": 6,
   "metadata": {},
   "outputs": [
    {
     "data": {
      "text/html": [
       "<div>\n",
       "<style scoped>\n",
       "    .dataframe tbody tr th:only-of-type {\n",
       "        vertical-align: middle;\n",
       "    }\n",
       "\n",
       "    .dataframe tbody tr th {\n",
       "        vertical-align: top;\n",
       "    }\n",
       "\n",
       "    .dataframe thead th {\n",
       "        text-align: right;\n",
       "    }\n",
       "</style>\n",
       "<table border=\"1\" class=\"dataframe\">\n",
       "  <thead>\n",
       "    <tr style=\"text-align: right;\">\n",
       "      <th></th>\n",
       "      <th>Data Transacao</th>\n",
       "      <th>Idade casa</th>\n",
       "      <th>Distancia da estacao metro</th>\n",
       "      <th>Numero lojas conveniencia</th>\n",
       "      <th>Latitude</th>\n",
       "      <th>Longitude</th>\n",
       "      <th>Preco por unidade de area</th>\n",
       "    </tr>\n",
       "  </thead>\n",
       "  <tbody>\n",
       "    <tr>\n",
       "      <th>0</th>\n",
       "      <td>2012.917</td>\n",
       "      <td>32.0</td>\n",
       "      <td>84.87882</td>\n",
       "      <td>10</td>\n",
       "      <td>24.98298</td>\n",
       "      <td>121.54024</td>\n",
       "      <td>37.9</td>\n",
       "    </tr>\n",
       "    <tr>\n",
       "      <th>1</th>\n",
       "      <td>2012.917</td>\n",
       "      <td>19.5</td>\n",
       "      <td>306.59470</td>\n",
       "      <td>9</td>\n",
       "      <td>24.98034</td>\n",
       "      <td>121.53951</td>\n",
       "      <td>42.2</td>\n",
       "    </tr>\n",
       "    <tr>\n",
       "      <th>2</th>\n",
       "      <td>2013.583</td>\n",
       "      <td>13.3</td>\n",
       "      <td>561.98450</td>\n",
       "      <td>5</td>\n",
       "      <td>24.98746</td>\n",
       "      <td>121.54391</td>\n",
       "      <td>47.3</td>\n",
       "    </tr>\n",
       "    <tr>\n",
       "      <th>3</th>\n",
       "      <td>2013.500</td>\n",
       "      <td>13.3</td>\n",
       "      <td>561.98450</td>\n",
       "      <td>5</td>\n",
       "      <td>24.98746</td>\n",
       "      <td>121.54391</td>\n",
       "      <td>54.8</td>\n",
       "    </tr>\n",
       "    <tr>\n",
       "      <th>4</th>\n",
       "      <td>2012.833</td>\n",
       "      <td>5.0</td>\n",
       "      <td>390.56840</td>\n",
       "      <td>5</td>\n",
       "      <td>24.97937</td>\n",
       "      <td>121.54245</td>\n",
       "      <td>43.1</td>\n",
       "    </tr>\n",
       "  </tbody>\n",
       "</table>\n",
       "</div>"
      ],
      "text/plain": [
       "   Data Transacao  Idade casa  Distancia da estacao metro  \\\n",
       "0        2012.917        32.0                    84.87882   \n",
       "1        2012.917        19.5                   306.59470   \n",
       "2        2013.583        13.3                   561.98450   \n",
       "3        2013.500        13.3                   561.98450   \n",
       "4        2012.833         5.0                   390.56840   \n",
       "\n",
       "   Numero lojas conveniencia  Latitude  Longitude  Preco por unidade de area  \n",
       "0                         10  24.98298  121.54024                       37.9  \n",
       "1                          9  24.98034  121.53951                       42.2  \n",
       "2                          5  24.98746  121.54391                       47.3  \n",
       "3                          5  24.98746  121.54391                       54.8  \n",
       "4                          5  24.97937  121.54245                       43.1  "
      ]
     },
     "execution_count": 6,
     "metadata": {},
     "output_type": "execute_result"
    }
   ],
   "source": [
    "df.head()"
   ]
  },
  {
   "cell_type": "code",
   "execution_count": 7,
   "metadata": {},
   "outputs": [
    {
     "data": {
      "text/plain": [
       "0"
      ]
     },
     "execution_count": 7,
     "metadata": {},
     "output_type": "execute_result"
    }
   ],
   "source": [
    "# Verificação de registros duplicados\n",
    "df.duplicated().sum() # Não há"
   ]
  },
  {
   "cell_type": "code",
   "execution_count": 8,
   "metadata": {},
   "outputs": [
    {
     "data": {
      "text/plain": [
       "Data Transacao                0\n",
       "Idade casa                    0\n",
       "Distancia da estacao metro    0\n",
       "Numero lojas conveniencia     0\n",
       "Latitude                      0\n",
       "Longitude                     0\n",
       "Preco por unidade de area     0\n",
       "dtype: int64"
      ]
     },
     "execution_count": 8,
     "metadata": {},
     "output_type": "execute_result"
    }
   ],
   "source": [
    "# Verificação de valores ausentes\n",
    "df.isna().sum() # Não há"
   ]
  },
  {
   "attachments": {},
   "cell_type": "markdown",
   "metadata": {},
   "source": [
    "## Pré-Processamento de Dados"
   ]
  },
  {
   "cell_type": "code",
   "execution_count": 9,
   "metadata": {},
   "outputs": [],
   "source": [
    "# Separando a coluna \"Data Transacao\" em ano e mês.\n",
    "ano_mes = df['Data Transacao'].apply(lambda x: str(x).split('.'))\n",
    "\n",
    "ano = [year[0] for year in ano_mes]\n",
    "mes = [month[1] for month in ano_mes]\n",
    "\n",
    "df['Ano Transacao'] = ano\n",
    "df['Mes Transacao'] = mes\n"
   ]
  },
  {
   "cell_type": "code",
   "execution_count": 10,
   "metadata": {},
   "outputs": [
    {
     "data": {
      "text/html": [
       "<div>\n",
       "<style scoped>\n",
       "    .dataframe tbody tr th:only-of-type {\n",
       "        vertical-align: middle;\n",
       "    }\n",
       "\n",
       "    .dataframe tbody tr th {\n",
       "        vertical-align: top;\n",
       "    }\n",
       "\n",
       "    .dataframe thead th {\n",
       "        text-align: right;\n",
       "    }\n",
       "</style>\n",
       "<table border=\"1\" class=\"dataframe\">\n",
       "  <thead>\n",
       "    <tr style=\"text-align: right;\">\n",
       "      <th></th>\n",
       "      <th>Data Transacao</th>\n",
       "      <th>Idade casa</th>\n",
       "      <th>Distancia da estacao metro</th>\n",
       "      <th>Numero lojas conveniencia</th>\n",
       "      <th>Latitude</th>\n",
       "      <th>Longitude</th>\n",
       "      <th>Preco por unidade de area</th>\n",
       "      <th>Ano Transacao</th>\n",
       "      <th>Mes Transacao</th>\n",
       "    </tr>\n",
       "  </thead>\n",
       "  <tbody>\n",
       "    <tr>\n",
       "      <th>0</th>\n",
       "      <td>2012.917</td>\n",
       "      <td>32.0</td>\n",
       "      <td>84.87882</td>\n",
       "      <td>10</td>\n",
       "      <td>24.98298</td>\n",
       "      <td>121.54024</td>\n",
       "      <td>37.9</td>\n",
       "      <td>2012</td>\n",
       "      <td>917</td>\n",
       "    </tr>\n",
       "    <tr>\n",
       "      <th>1</th>\n",
       "      <td>2012.917</td>\n",
       "      <td>19.5</td>\n",
       "      <td>306.59470</td>\n",
       "      <td>9</td>\n",
       "      <td>24.98034</td>\n",
       "      <td>121.53951</td>\n",
       "      <td>42.2</td>\n",
       "      <td>2012</td>\n",
       "      <td>917</td>\n",
       "    </tr>\n",
       "    <tr>\n",
       "      <th>2</th>\n",
       "      <td>2013.583</td>\n",
       "      <td>13.3</td>\n",
       "      <td>561.98450</td>\n",
       "      <td>5</td>\n",
       "      <td>24.98746</td>\n",
       "      <td>121.54391</td>\n",
       "      <td>47.3</td>\n",
       "      <td>2013</td>\n",
       "      <td>583</td>\n",
       "    </tr>\n",
       "    <tr>\n",
       "      <th>3</th>\n",
       "      <td>2013.500</td>\n",
       "      <td>13.3</td>\n",
       "      <td>561.98450</td>\n",
       "      <td>5</td>\n",
       "      <td>24.98746</td>\n",
       "      <td>121.54391</td>\n",
       "      <td>54.8</td>\n",
       "      <td>2013</td>\n",
       "      <td>5</td>\n",
       "    </tr>\n",
       "    <tr>\n",
       "      <th>4</th>\n",
       "      <td>2012.833</td>\n",
       "      <td>5.0</td>\n",
       "      <td>390.56840</td>\n",
       "      <td>5</td>\n",
       "      <td>24.97937</td>\n",
       "      <td>121.54245</td>\n",
       "      <td>43.1</td>\n",
       "      <td>2012</td>\n",
       "      <td>833</td>\n",
       "    </tr>\n",
       "  </tbody>\n",
       "</table>\n",
       "</div>"
      ],
      "text/plain": [
       "   Data Transacao  Idade casa  Distancia da estacao metro  \\\n",
       "0        2012.917        32.0                    84.87882   \n",
       "1        2012.917        19.5                   306.59470   \n",
       "2        2013.583        13.3                   561.98450   \n",
       "3        2013.500        13.3                   561.98450   \n",
       "4        2012.833         5.0                   390.56840   \n",
       "\n",
       "   Numero lojas conveniencia  Latitude  Longitude  Preco por unidade de area  \\\n",
       "0                         10  24.98298  121.54024                       37.9   \n",
       "1                          9  24.98034  121.53951                       42.2   \n",
       "2                          5  24.98746  121.54391                       47.3   \n",
       "3                          5  24.98746  121.54391                       54.8   \n",
       "4                          5  24.97937  121.54245                       43.1   \n",
       "\n",
       "  Ano Transacao Mes Transacao  \n",
       "0          2012           917  \n",
       "1          2012           917  \n",
       "2          2013           583  \n",
       "3          2013             5  \n",
       "4          2012           833  "
      ]
     },
     "execution_count": 10,
     "metadata": {},
     "output_type": "execute_result"
    }
   ],
   "source": [
    "df.head()"
   ]
  },
  {
   "cell_type": "code",
   "execution_count": 11,
   "metadata": {},
   "outputs": [],
   "source": [
    "# Mudar posiçao das colunas de data e remover a inicial\n",
    "mudar_posicao1 = df.pop('Ano Transacao')\n",
    "mudar_posicao2 = df.pop('Mes Transacao')\n",
    "remove_coluna = df.pop('Data Transacao')\n",
    "\n",
    "df.insert(0, 'Ano Transacao', mudar_posicao1)\n",
    "df.insert(1, 'Mes Transacao', mudar_posicao2)"
   ]
  },
  {
   "cell_type": "code",
   "execution_count": 12,
   "metadata": {},
   "outputs": [
    {
     "data": {
      "text/html": [
       "<div>\n",
       "<style scoped>\n",
       "    .dataframe tbody tr th:only-of-type {\n",
       "        vertical-align: middle;\n",
       "    }\n",
       "\n",
       "    .dataframe tbody tr th {\n",
       "        vertical-align: top;\n",
       "    }\n",
       "\n",
       "    .dataframe thead th {\n",
       "        text-align: right;\n",
       "    }\n",
       "</style>\n",
       "<table border=\"1\" class=\"dataframe\">\n",
       "  <thead>\n",
       "    <tr style=\"text-align: right;\">\n",
       "      <th></th>\n",
       "      <th>Ano Transacao</th>\n",
       "      <th>Mes Transacao</th>\n",
       "      <th>Idade casa</th>\n",
       "      <th>Distancia da estacao metro</th>\n",
       "      <th>Numero lojas conveniencia</th>\n",
       "      <th>Latitude</th>\n",
       "      <th>Longitude</th>\n",
       "      <th>Preco por unidade de area</th>\n",
       "    </tr>\n",
       "  </thead>\n",
       "  <tbody>\n",
       "    <tr>\n",
       "      <th>0</th>\n",
       "      <td>2012</td>\n",
       "      <td>917</td>\n",
       "      <td>32.0</td>\n",
       "      <td>84.87882</td>\n",
       "      <td>10</td>\n",
       "      <td>24.98298</td>\n",
       "      <td>121.54024</td>\n",
       "      <td>37.9</td>\n",
       "    </tr>\n",
       "    <tr>\n",
       "      <th>1</th>\n",
       "      <td>2012</td>\n",
       "      <td>917</td>\n",
       "      <td>19.5</td>\n",
       "      <td>306.59470</td>\n",
       "      <td>9</td>\n",
       "      <td>24.98034</td>\n",
       "      <td>121.53951</td>\n",
       "      <td>42.2</td>\n",
       "    </tr>\n",
       "    <tr>\n",
       "      <th>2</th>\n",
       "      <td>2013</td>\n",
       "      <td>583</td>\n",
       "      <td>13.3</td>\n",
       "      <td>561.98450</td>\n",
       "      <td>5</td>\n",
       "      <td>24.98746</td>\n",
       "      <td>121.54391</td>\n",
       "      <td>47.3</td>\n",
       "    </tr>\n",
       "    <tr>\n",
       "      <th>3</th>\n",
       "      <td>2013</td>\n",
       "      <td>5</td>\n",
       "      <td>13.3</td>\n",
       "      <td>561.98450</td>\n",
       "      <td>5</td>\n",
       "      <td>24.98746</td>\n",
       "      <td>121.54391</td>\n",
       "      <td>54.8</td>\n",
       "    </tr>\n",
       "    <tr>\n",
       "      <th>4</th>\n",
       "      <td>2012</td>\n",
       "      <td>833</td>\n",
       "      <td>5.0</td>\n",
       "      <td>390.56840</td>\n",
       "      <td>5</td>\n",
       "      <td>24.97937</td>\n",
       "      <td>121.54245</td>\n",
       "      <td>43.1</td>\n",
       "    </tr>\n",
       "  </tbody>\n",
       "</table>\n",
       "</div>"
      ],
      "text/plain": [
       "  Ano Transacao Mes Transacao  Idade casa  Distancia da estacao metro  \\\n",
       "0          2012           917        32.0                    84.87882   \n",
       "1          2012           917        19.5                   306.59470   \n",
       "2          2013           583        13.3                   561.98450   \n",
       "3          2013             5        13.3                   561.98450   \n",
       "4          2012           833         5.0                   390.56840   \n",
       "\n",
       "   Numero lojas conveniencia  Latitude  Longitude  Preco por unidade de area  \n",
       "0                         10  24.98298  121.54024                       37.9  \n",
       "1                          9  24.98034  121.53951                       42.2  \n",
       "2                          5  24.98746  121.54391                       47.3  \n",
       "3                          5  24.98746  121.54391                       54.8  \n",
       "4                          5  24.97937  121.54245                       43.1  "
      ]
     },
     "execution_count": 12,
     "metadata": {},
     "output_type": "execute_result"
    }
   ],
   "source": [
    "df.head()"
   ]
  },
  {
   "cell_type": "code",
   "execution_count": 13,
   "metadata": {},
   "outputs": [
    {
     "data": {
      "text/html": [
       "<div>\n",
       "<style scoped>\n",
       "    .dataframe tbody tr th:only-of-type {\n",
       "        vertical-align: middle;\n",
       "    }\n",
       "\n",
       "    .dataframe tbody tr th {\n",
       "        vertical-align: top;\n",
       "    }\n",
       "\n",
       "    .dataframe thead th {\n",
       "        text-align: right;\n",
       "    }\n",
       "</style>\n",
       "<table border=\"1\" class=\"dataframe\">\n",
       "  <thead>\n",
       "    <tr style=\"text-align: right;\">\n",
       "      <th></th>\n",
       "      <th>Ano Transacao</th>\n",
       "      <th>Mes Transacao</th>\n",
       "      <th>Idade casa</th>\n",
       "      <th>Distancia da estacao metro</th>\n",
       "      <th>Numero lojas conveniencia</th>\n",
       "      <th>Latitude</th>\n",
       "      <th>Longitude</th>\n",
       "      <th>Preco por unidade de area</th>\n",
       "    </tr>\n",
       "  </thead>\n",
       "  <tbody>\n",
       "    <tr>\n",
       "      <th>0</th>\n",
       "      <td>2012</td>\n",
       "      <td>11.004440</td>\n",
       "      <td>32.0</td>\n",
       "      <td>84.87882</td>\n",
       "      <td>10</td>\n",
       "      <td>24.98298</td>\n",
       "      <td>121.54024</td>\n",
       "      <td>37.9</td>\n",
       "    </tr>\n",
       "    <tr>\n",
       "      <th>1</th>\n",
       "      <td>2012</td>\n",
       "      <td>11.004440</td>\n",
       "      <td>19.5</td>\n",
       "      <td>306.59470</td>\n",
       "      <td>9</td>\n",
       "      <td>24.98034</td>\n",
       "      <td>121.53951</td>\n",
       "      <td>42.2</td>\n",
       "    </tr>\n",
       "    <tr>\n",
       "      <th>2</th>\n",
       "      <td>2013</td>\n",
       "      <td>6.996280</td>\n",
       "      <td>13.3</td>\n",
       "      <td>561.98450</td>\n",
       "      <td>5</td>\n",
       "      <td>24.98746</td>\n",
       "      <td>121.54391</td>\n",
       "      <td>47.3</td>\n",
       "    </tr>\n",
       "    <tr>\n",
       "      <th>3</th>\n",
       "      <td>2013</td>\n",
       "      <td>0.060002</td>\n",
       "      <td>13.3</td>\n",
       "      <td>561.98450</td>\n",
       "      <td>5</td>\n",
       "      <td>24.98746</td>\n",
       "      <td>121.54391</td>\n",
       "      <td>54.8</td>\n",
       "    </tr>\n",
       "    <tr>\n",
       "      <th>4</th>\n",
       "      <td>2012</td>\n",
       "      <td>9.996400</td>\n",
       "      <td>5.0</td>\n",
       "      <td>390.56840</td>\n",
       "      <td>5</td>\n",
       "      <td>24.97937</td>\n",
       "      <td>121.54245</td>\n",
       "      <td>43.1</td>\n",
       "    </tr>\n",
       "  </tbody>\n",
       "</table>\n",
       "</div>"
      ],
      "text/plain": [
       "  Ano Transacao  Mes Transacao  Idade casa  Distancia da estacao metro  \\\n",
       "0          2012      11.004440        32.0                    84.87882   \n",
       "1          2012      11.004440        19.5                   306.59470   \n",
       "2          2013       6.996280        13.3                   561.98450   \n",
       "3          2013       0.060002        13.3                   561.98450   \n",
       "4          2012       9.996400         5.0                   390.56840   \n",
       "\n",
       "   Numero lojas conveniencia  Latitude  Longitude  Preco por unidade de area  \n",
       "0                         10  24.98298  121.54024                       37.9  \n",
       "1                          9  24.98034  121.53951                       42.2  \n",
       "2                          5  24.98746  121.54391                       47.3  \n",
       "3                          5  24.98746  121.54391                       54.8  \n",
       "4                          5  24.97937  121.54245                       43.1  "
      ]
     },
     "execution_count": 13,
     "metadata": {},
     "output_type": "execute_result"
    }
   ],
   "source": [
    "# Agora é preciso adequar a coluna 'Mes Transacao' para ficar de 0 a 12 (Jan-Dez)\n",
    "df['Mes Transacao'] = [int(mes)/83.33 for mes in df['Mes Transacao']]\n",
    "df.head()"
   ]
  },
  {
   "cell_type": "code",
   "execution_count": 14,
   "metadata": {},
   "outputs": [],
   "source": [
    "for i in range(0, len(df)):\n",
    "    if df['Mes Transacao'][i] < 1:\n",
    "         df['Mes Transacao'][i] = 1\n",
    "    elif df['Mes Transacao'][i] < 2:\n",
    "         df['Mes Transacao'][i] = 2\n",
    "    elif df['Mes Transacao'][i] < 3:\n",
    "         df['Mes Transacao'][i] = 3\n",
    "    elif df['Mes Transacao'][i] < 4:\n",
    "         df['Mes Transacao'][i] = 4\n",
    "    elif df['Mes Transacao'][i] < 5:\n",
    "         df['Mes Transacao'][i] = 5\n",
    "    elif df['Mes Transacao'][i] < 6:\n",
    "         df['Mes Transacao'][i] = 6\n",
    "    elif df['Mes Transacao'][i] < 7:\n",
    "         df['Mes Transacao'][i] = 7\n",
    "    elif df['Mes Transacao'][i] < 8:\n",
    "         df['Mes Transacao'][i] = 8\n",
    "    elif df['Mes Transacao'][i] < 9:\n",
    "         df['Mes Transacao'][i] = 9\n",
    "    elif df['Mes Transacao'][i] < 10:\n",
    "         df['Mes Transacao'][i] = 10\n",
    "    elif df['Mes Transacao'][i] < 11:\n",
    "         df['Mes Transacao'][i] = 11\n",
    "    elif df['Mes Transacao'][i] < 12:\n",
    "         df['Mes Transacao'][i] = 12\n",
    "\n",
    "# Transformndo a coluna de mês em inteiro\n",
    "df = df.astype({'Mes Transacao': 'int'})\n",
    "df = df.astype({'Ano Transacao': 'int'})"
   ]
  },
  {
   "cell_type": "code",
   "execution_count": 15,
   "metadata": {},
   "outputs": [
    {
     "data": {
      "text/html": [
       "<div>\n",
       "<style scoped>\n",
       "    .dataframe tbody tr th:only-of-type {\n",
       "        vertical-align: middle;\n",
       "    }\n",
       "\n",
       "    .dataframe tbody tr th {\n",
       "        vertical-align: top;\n",
       "    }\n",
       "\n",
       "    .dataframe thead th {\n",
       "        text-align: right;\n",
       "    }\n",
       "</style>\n",
       "<table border=\"1\" class=\"dataframe\">\n",
       "  <thead>\n",
       "    <tr style=\"text-align: right;\">\n",
       "      <th></th>\n",
       "      <th>Ano Transacao</th>\n",
       "      <th>Mes Transacao</th>\n",
       "      <th>Idade casa</th>\n",
       "      <th>Distancia da estacao metro</th>\n",
       "      <th>Numero lojas conveniencia</th>\n",
       "      <th>Latitude</th>\n",
       "      <th>Longitude</th>\n",
       "      <th>Preco por unidade de area</th>\n",
       "    </tr>\n",
       "  </thead>\n",
       "  <tbody>\n",
       "  </tbody>\n",
       "</table>\n",
       "</div>"
      ],
      "text/plain": [
       "Empty DataFrame\n",
       "Columns: [Ano Transacao, Mes Transacao, Idade casa, Distancia da estacao metro, Numero lojas conveniencia, Latitude, Longitude, Preco por unidade de area]\n",
       "Index: []"
      ]
     },
     "execution_count": 15,
     "metadata": {},
     "output_type": "execute_result"
    }
   ],
   "source": [
    "df[(df['Mes Transacao']== '1')]"
   ]
  },
  {
   "cell_type": "code",
   "execution_count": 16,
   "metadata": {},
   "outputs": [
    {
     "data": {
      "text/html": [
       "<div>\n",
       "<style scoped>\n",
       "    .dataframe tbody tr th:only-of-type {\n",
       "        vertical-align: middle;\n",
       "    }\n",
       "\n",
       "    .dataframe tbody tr th {\n",
       "        vertical-align: top;\n",
       "    }\n",
       "\n",
       "    .dataframe thead th {\n",
       "        text-align: right;\n",
       "    }\n",
       "</style>\n",
       "<table border=\"1\" class=\"dataframe\">\n",
       "  <thead>\n",
       "    <tr style=\"text-align: right;\">\n",
       "      <th></th>\n",
       "      <th>Ano Transacao</th>\n",
       "      <th>Mes Transacao</th>\n",
       "      <th>Idade casa</th>\n",
       "      <th>Distancia da estacao metro</th>\n",
       "      <th>Numero lojas conveniencia</th>\n",
       "      <th>Latitude</th>\n",
       "      <th>Longitude</th>\n",
       "      <th>Preco por unidade de area</th>\n",
       "    </tr>\n",
       "  </thead>\n",
       "  <tbody>\n",
       "    <tr>\n",
       "      <th>0</th>\n",
       "      <td>2012</td>\n",
       "      <td>12</td>\n",
       "      <td>32.0</td>\n",
       "      <td>84.87882</td>\n",
       "      <td>10</td>\n",
       "      <td>24.98298</td>\n",
       "      <td>121.54024</td>\n",
       "      <td>37.9</td>\n",
       "    </tr>\n",
       "    <tr>\n",
       "      <th>1</th>\n",
       "      <td>2012</td>\n",
       "      <td>12</td>\n",
       "      <td>19.5</td>\n",
       "      <td>306.59470</td>\n",
       "      <td>9</td>\n",
       "      <td>24.98034</td>\n",
       "      <td>121.53951</td>\n",
       "      <td>42.2</td>\n",
       "    </tr>\n",
       "    <tr>\n",
       "      <th>2</th>\n",
       "      <td>2013</td>\n",
       "      <td>7</td>\n",
       "      <td>13.3</td>\n",
       "      <td>561.98450</td>\n",
       "      <td>5</td>\n",
       "      <td>24.98746</td>\n",
       "      <td>121.54391</td>\n",
       "      <td>47.3</td>\n",
       "    </tr>\n",
       "    <tr>\n",
       "      <th>3</th>\n",
       "      <td>2013</td>\n",
       "      <td>1</td>\n",
       "      <td>13.3</td>\n",
       "      <td>561.98450</td>\n",
       "      <td>5</td>\n",
       "      <td>24.98746</td>\n",
       "      <td>121.54391</td>\n",
       "      <td>54.8</td>\n",
       "    </tr>\n",
       "    <tr>\n",
       "      <th>4</th>\n",
       "      <td>2012</td>\n",
       "      <td>10</td>\n",
       "      <td>5.0</td>\n",
       "      <td>390.56840</td>\n",
       "      <td>5</td>\n",
       "      <td>24.97937</td>\n",
       "      <td>121.54245</td>\n",
       "      <td>43.1</td>\n",
       "    </tr>\n",
       "  </tbody>\n",
       "</table>\n",
       "</div>"
      ],
      "text/plain": [
       "   Ano Transacao  Mes Transacao  Idade casa  Distancia da estacao metro  \\\n",
       "0           2012             12        32.0                    84.87882   \n",
       "1           2012             12        19.5                   306.59470   \n",
       "2           2013              7        13.3                   561.98450   \n",
       "3           2013              1        13.3                   561.98450   \n",
       "4           2012             10         5.0                   390.56840   \n",
       "\n",
       "   Numero lojas conveniencia  Latitude  Longitude  Preco por unidade de area  \n",
       "0                         10  24.98298  121.54024                       37.9  \n",
       "1                          9  24.98034  121.53951                       42.2  \n",
       "2                          5  24.98746  121.54391                       47.3  \n",
       "3                          5  24.98746  121.54391                       54.8  \n",
       "4                          5  24.97937  121.54245                       43.1  "
      ]
     },
     "execution_count": 16,
     "metadata": {},
     "output_type": "execute_result"
    }
   ],
   "source": [
    "df.head()"
   ]
  },
  {
   "cell_type": "code",
   "execution_count": 17,
   "metadata": {},
   "outputs": [
    {
     "data": {
      "text/html": [
       "<div>\n",
       "<style scoped>\n",
       "    .dataframe tbody tr th:only-of-type {\n",
       "        vertical-align: middle;\n",
       "    }\n",
       "\n",
       "    .dataframe tbody tr th {\n",
       "        vertical-align: top;\n",
       "    }\n",
       "\n",
       "    .dataframe thead th {\n",
       "        text-align: right;\n",
       "    }\n",
       "</style>\n",
       "<table border=\"1\" class=\"dataframe\">\n",
       "  <thead>\n",
       "    <tr style=\"text-align: right;\">\n",
       "      <th></th>\n",
       "      <th>Ano Transacao</th>\n",
       "      <th>Mes Transacao</th>\n",
       "      <th>Idade casa</th>\n",
       "      <th>Distancia da estacao metro</th>\n",
       "      <th>Numero lojas conveniencia</th>\n",
       "      <th>Preco por unidade de area</th>\n",
       "    </tr>\n",
       "  </thead>\n",
       "  <tbody>\n",
       "    <tr>\n",
       "      <th>0</th>\n",
       "      <td>2012</td>\n",
       "      <td>12</td>\n",
       "      <td>32.0</td>\n",
       "      <td>84.87882</td>\n",
       "      <td>10</td>\n",
       "      <td>37.9</td>\n",
       "    </tr>\n",
       "    <tr>\n",
       "      <th>1</th>\n",
       "      <td>2012</td>\n",
       "      <td>12</td>\n",
       "      <td>19.5</td>\n",
       "      <td>306.59470</td>\n",
       "      <td>9</td>\n",
       "      <td>42.2</td>\n",
       "    </tr>\n",
       "    <tr>\n",
       "      <th>2</th>\n",
       "      <td>2013</td>\n",
       "      <td>7</td>\n",
       "      <td>13.3</td>\n",
       "      <td>561.98450</td>\n",
       "      <td>5</td>\n",
       "      <td>47.3</td>\n",
       "    </tr>\n",
       "    <tr>\n",
       "      <th>3</th>\n",
       "      <td>2013</td>\n",
       "      <td>1</td>\n",
       "      <td>13.3</td>\n",
       "      <td>561.98450</td>\n",
       "      <td>5</td>\n",
       "      <td>54.8</td>\n",
       "    </tr>\n",
       "    <tr>\n",
       "      <th>4</th>\n",
       "      <td>2012</td>\n",
       "      <td>10</td>\n",
       "      <td>5.0</td>\n",
       "      <td>390.56840</td>\n",
       "      <td>5</td>\n",
       "      <td>43.1</td>\n",
       "    </tr>\n",
       "  </tbody>\n",
       "</table>\n",
       "</div>"
      ],
      "text/plain": [
       "   Ano Transacao  Mes Transacao  Idade casa  Distancia da estacao metro  \\\n",
       "0           2012             12        32.0                    84.87882   \n",
       "1           2012             12        19.5                   306.59470   \n",
       "2           2013              7        13.3                   561.98450   \n",
       "3           2013              1        13.3                   561.98450   \n",
       "4           2012             10         5.0                   390.56840   \n",
       "\n",
       "   Numero lojas conveniencia  Preco por unidade de area  \n",
       "0                         10                       37.9  \n",
       "1                          9                       42.2  \n",
       "2                          5                       47.3  \n",
       "3                          5                       54.8  \n",
       "4                          5                       43.1  "
      ]
     },
     "execution_count": 17,
     "metadata": {},
     "output_type": "execute_result"
    }
   ],
   "source": [
    "# Removendo as colunas 'Latitude' e 'Longitude' pois não serão necessárias.\n",
    "df.drop(['Latitude', 'Longitude'],axis =1 , inplace = True)\n",
    "df.head()"
   ]
  },
  {
   "attachments": {},
   "cell_type": "markdown",
   "metadata": {},
   "source": [
    "## Análise Exploratória"
   ]
  },
  {
   "cell_type": "code",
   "execution_count": 18,
   "metadata": {},
   "outputs": [
    {
     "data": {
      "text/html": [
       "<div>\n",
       "<style scoped>\n",
       "    .dataframe tbody tr th:only-of-type {\n",
       "        vertical-align: middle;\n",
       "    }\n",
       "\n",
       "    .dataframe tbody tr th {\n",
       "        vertical-align: top;\n",
       "    }\n",
       "\n",
       "    .dataframe thead th {\n",
       "        text-align: right;\n",
       "    }\n",
       "</style>\n",
       "<table border=\"1\" class=\"dataframe\">\n",
       "  <thead>\n",
       "    <tr style=\"text-align: right;\">\n",
       "      <th></th>\n",
       "      <th>Ano Transacao</th>\n",
       "      <th>Mes Transacao</th>\n",
       "      <th>Idade casa</th>\n",
       "      <th>Distancia da estacao metro</th>\n",
       "      <th>Numero lojas conveniencia</th>\n",
       "      <th>Preco por unidade de area</th>\n",
       "    </tr>\n",
       "  </thead>\n",
       "  <tbody>\n",
       "    <tr>\n",
       "      <th>count</th>\n",
       "      <td>414.000000</td>\n",
       "      <td>414.000000</td>\n",
       "      <td>414.000000</td>\n",
       "      <td>414.000000</td>\n",
       "      <td>414.000000</td>\n",
       "      <td>414.000000</td>\n",
       "    </tr>\n",
       "    <tr>\n",
       "      <th>mean</th>\n",
       "      <td>2012.695652</td>\n",
       "      <td>4.628019</td>\n",
       "      <td>17.712560</td>\n",
       "      <td>1083.885689</td>\n",
       "      <td>4.094203</td>\n",
       "      <td>37.980193</td>\n",
       "    </tr>\n",
       "    <tr>\n",
       "      <th>std</th>\n",
       "      <td>0.460687</td>\n",
       "      <td>3.880389</td>\n",
       "      <td>11.392485</td>\n",
       "      <td>1262.109595</td>\n",
       "      <td>2.945562</td>\n",
       "      <td>13.606488</td>\n",
       "    </tr>\n",
       "    <tr>\n",
       "      <th>min</th>\n",
       "      <td>2012.000000</td>\n",
       "      <td>1.000000</td>\n",
       "      <td>0.000000</td>\n",
       "      <td>23.382840</td>\n",
       "      <td>0.000000</td>\n",
       "      <td>7.600000</td>\n",
       "    </tr>\n",
       "    <tr>\n",
       "      <th>25%</th>\n",
       "      <td>2012.000000</td>\n",
       "      <td>1.000000</td>\n",
       "      <td>9.025000</td>\n",
       "      <td>289.324800</td>\n",
       "      <td>1.000000</td>\n",
       "      <td>27.700000</td>\n",
       "    </tr>\n",
       "    <tr>\n",
       "      <th>50%</th>\n",
       "      <td>2013.000000</td>\n",
       "      <td>4.000000</td>\n",
       "      <td>16.100000</td>\n",
       "      <td>492.231300</td>\n",
       "      <td>4.000000</td>\n",
       "      <td>38.450000</td>\n",
       "    </tr>\n",
       "    <tr>\n",
       "      <th>75%</th>\n",
       "      <td>2013.000000</td>\n",
       "      <td>7.000000</td>\n",
       "      <td>28.150000</td>\n",
       "      <td>1454.279000</td>\n",
       "      <td>6.000000</td>\n",
       "      <td>46.600000</td>\n",
       "    </tr>\n",
       "    <tr>\n",
       "      <th>max</th>\n",
       "      <td>2013.000000</td>\n",
       "      <td>12.000000</td>\n",
       "      <td>43.800000</td>\n",
       "      <td>6488.021000</td>\n",
       "      <td>10.000000</td>\n",
       "      <td>117.500000</td>\n",
       "    </tr>\n",
       "  </tbody>\n",
       "</table>\n",
       "</div>"
      ],
      "text/plain": [
       "       Ano Transacao  Mes Transacao  Idade casa  Distancia da estacao metro  \\\n",
       "count     414.000000     414.000000  414.000000                  414.000000   \n",
       "mean     2012.695652       4.628019   17.712560                 1083.885689   \n",
       "std         0.460687       3.880389   11.392485                 1262.109595   \n",
       "min      2012.000000       1.000000    0.000000                   23.382840   \n",
       "25%      2012.000000       1.000000    9.025000                  289.324800   \n",
       "50%      2013.000000       4.000000   16.100000                  492.231300   \n",
       "75%      2013.000000       7.000000   28.150000                 1454.279000   \n",
       "max      2013.000000      12.000000   43.800000                 6488.021000   \n",
       "\n",
       "       Numero lojas conveniencia  Preco por unidade de area  \n",
       "count                 414.000000                 414.000000  \n",
       "mean                    4.094203                  37.980193  \n",
       "std                     2.945562                  13.606488  \n",
       "min                     0.000000                   7.600000  \n",
       "25%                     1.000000                  27.700000  \n",
       "50%                     4.000000                  38.450000  \n",
       "75%                     6.000000                  46.600000  \n",
       "max                    10.000000                 117.500000  "
      ]
     },
     "execution_count": 18,
     "metadata": {},
     "output_type": "execute_result"
    }
   ],
   "source": [
    "df.describe()"
   ]
  },
  {
   "cell_type": "code",
   "execution_count": 19,
   "metadata": {},
   "outputs": [
    {
     "data": {
      "text/plain": [
       "<Figure size 1500x800 with 0 Axes>"
      ]
     },
     "metadata": {},
     "output_type": "display_data"
    },
    {
     "data": {
      "image/png": "[encoded data removed]",
      "text/plain": [
       "<Figure size 1000x1000 with 20 Axes>"
      ]
     },
     "metadata": {},
     "output_type": "display_data"
    }
   ],
   "source": [
    "def corrfunc(x, y, **kws):\n",
    "    (r, p) = pearsonr(x, y) # r² e p-val\n",
    "    ax = plt.gca()\n",
    "    ax.annotate(\"r = {:.2f} \".format(r),\n",
    "                xy=(.1, .9), xycoords=ax.transAxes)\n",
    "    ax.annotate(\"p = {:.3f}\".format(p),\n",
    "                xy=(.4, .9), xycoords=ax.transAxes)\n",
    "\n",
    "plt.figure(figsize=(15,8))\n",
    "graph = sns.pairplot(df.loc[:,\"Idade casa\":\"Preco por unidade de area\"], diag_kind=\"kde\")\n",
    "graph.map(corrfunc)\n",
    "plt.show()"
   ]
  },
  {
   "cell_type": "code",
   "execution_count": 20,
   "metadata": {},
   "outputs": [
    {
     "data": {
      "image/png": "[encoded data removed]",
      "text/plain": [
       "<Figure size 800x600 with 4 Axes>"
      ]
     },
     "metadata": {},
     "output_type": "display_data"
    }
   ],
   "source": [
    "# Boxplot das variáveis quant contínuas\n",
    "box_columns = ['Idade casa','Distancia da estacao metro', 'Numero lojas conveniencia', 'Preco por unidade de area']\n",
    "fig, ax = plt.subplots(figsize=(8,6), nrows = 2, ncols = 2)\n",
    "\n",
    "for i, col in enumerate(box_columns):\n",
    "    sns.boxplot(y= df[col],ax=ax[i//2, i%2], color = 'green')\n",
    "fig.tight_layout()\n",
    "\n"
   ]
  },
  {
   "attachments": {},
   "cell_type": "markdown",
   "metadata": {},
   "source": [
    "### Tratamento de Outliers"
   ]
  },
  {
   "attachments": {},
   "cell_type": "markdown",
   "metadata": {},
   "source": [
    "> É possível verificar a presença de alguns outliers nas variáveis 'preco por unidade de area' e 'distancia da estacao'"
   ]
  },
  {
   "cell_type": "code",
   "execution_count": 21,
   "metadata": {},
   "outputs": [
    {
     "name": "stdout",
     "output_type": "stream",
     "text": [
      "Número de outliers na variável 'Distancia da estacao metro': 5\n",
      "Número de outliers na variável 'Preco por unidade de area'': 1\n",
      "Número de outliers na variável 'Numero lojas conveniencia': 0\n",
      "Número de outliers na variável 'Idade casa': 0\n"
     ]
    }
   ],
   "source": [
    "print(f\"Número de outliers na variável 'Distancia da estacao metro': {(stats.zscore(df['Distancia da estacao metro']) > abs(3)).sum()}\")\n",
    "print(f\"Número de outliers na variável 'Preco por unidade de area'': {(stats.zscore(df['Preco por unidade de area']) > abs(3)).sum()}\")\n",
    "print(f\"Número de outliers na variável 'Numero lojas conveniencia': {(stats.zscore(df['Numero lojas conveniencia']) > abs(3)).sum()}\")\n",
    "print(f\"Número de outliers na variável 'Idade casa': {(stats.zscore(df['Idade casa']) > abs(3)).sum()}\")"
   ]
  },
  {
   "attachments": {},
   "cell_type": "markdown",
   "metadata": {},
   "source": [
    "> No entanto, apesar de ser possível tratar outliers via zscore, não será a melhor alternativa nesse caso, pois as variáveis não estão normalmente distribuídas e ao remover os outliers originais, novos podem aparecer, como exemplificado abaixo.  \n",
    "> Ao removermos os 5 outliers que tínhamos, 8 novos outliers aparecem."
   ]
  },
  {
   "cell_type": "code",
   "execution_count": 22,
   "metadata": {},
   "outputs": [
    {
     "name": "stdout",
     "output_type": "stream",
     "text": [
      "Número de outliers na variável 'Distancia da estacao metro': 8\n"
     ]
    }
   ],
   "source": [
    "df_teste = df[(stats.zscore(df['Distancia da estacao metro']) < abs(3))]\n",
    "print(f\"Número de outliers na variável 'Distancia da estacao metro': {(stats.zscore(df_teste['Distancia da estacao metro']) > abs(3)).sum()}\")"
   ]
  },
  {
   "attachments": {},
   "cell_type": "markdown",
   "metadata": {},
   "source": [
    "> Portanto, iremos fazer por IQR"
   ]
  },
  {
   "cell_type": "code",
   "execution_count": 23,
   "metadata": {},
   "outputs": [],
   "source": [
    "# Função para tratar outliers\n",
    "\n",
    "def remove_outliers(df, colunas):\n",
    "    clean_df = df.copy()\n",
    "    \n",
    "    for col in colunas:\n",
    "        # quartil 1, quartil 3 e IQR\n",
    "        Q1 = clean_df[col].quantile(0.25)\n",
    "        Q3 = clean_df[col].quantile(0.75)\n",
    "        IQR = Q3 - Q1\n",
    "    \n",
    "        # Calcular limites superior e inferior\n",
    "        limite_inferior = Q1 - 1.5 * IQR\n",
    "        limite_superior = Q3 + 1.5 * IQR\n",
    "\n",
    "        # Identificar o indice das colunas com outliers para ser removidos posteriormente\n",
    "        \n",
    "        outlier_indices = clean_df[(clean_df[col] < limite_inferior) | (clean_df[col] > limite_superior)].index\n",
    "\n",
    "        # Remove os outliers do dataset nessa coluna\n",
    "        clean_df.drop(outlier_indices, inplace=True)\n",
    "    \n",
    "    return clean_df\n",
    "        "
   ]
  },
  {
   "cell_type": "code",
   "execution_count": 24,
   "metadata": {},
   "outputs": [],
   "source": [
    "#Objeto com as colunas a serem tratados\n",
    "col_outliers = ['Distancia da estacao metro','Preco por unidade de area']\n",
    "df = remove_outliers(df, col_outliers)"
   ]
  },
  {
   "cell_type": "code",
   "execution_count": 25,
   "metadata": {},
   "outputs": [],
   "source": [
    "#############"
   ]
  },
  {
   "cell_type": "code",
   "execution_count": 26,
   "metadata": {},
   "outputs": [
    {
     "data": {
      "text/plain": [
       "array([12,  7,  1, 10,  9,  6,  4,  3])"
      ]
     },
     "execution_count": 26,
     "metadata": {},
     "output_type": "execute_result"
    }
   ],
   "source": [
    "# Não temos todos os meses do ano. Ao inves de separar por mês, talvez seja ideal separar por quarter (trimestre).\n",
    "df['Mes Transacao'].unique()"
   ]
  },
  {
   "cell_type": "code",
   "execution_count": 27,
   "metadata": {},
   "outputs": [
    {
     "data": {
      "text/html": [
       "<div>\n",
       "<style scoped>\n",
       "    .dataframe tbody tr th:only-of-type {\n",
       "        vertical-align: middle;\n",
       "    }\n",
       "\n",
       "    .dataframe tbody tr th {\n",
       "        vertical-align: top;\n",
       "    }\n",
       "\n",
       "    .dataframe thead th {\n",
       "        text-align: right;\n",
       "    }\n",
       "</style>\n",
       "<table border=\"1\" class=\"dataframe\">\n",
       "  <thead>\n",
       "    <tr style=\"text-align: right;\">\n",
       "      <th></th>\n",
       "      <th>Ano Transacao</th>\n",
       "      <th>Mes Transacao</th>\n",
       "      <th>Idade casa</th>\n",
       "      <th>Distancia da estacao metro</th>\n",
       "      <th>Numero lojas conveniencia</th>\n",
       "      <th>Preco por unidade de area</th>\n",
       "    </tr>\n",
       "  </thead>\n",
       "  <tbody>\n",
       "    <tr>\n",
       "      <th>80</th>\n",
       "      <td>2013</td>\n",
       "      <td>1</td>\n",
       "      <td>11.8</td>\n",
       "      <td>533.4762</td>\n",
       "      <td>4</td>\n",
       "      <td>40.3</td>\n",
       "    </tr>\n",
       "    <tr>\n",
       "      <th>171</th>\n",
       "      <td>2013</td>\n",
       "      <td>1</td>\n",
       "      <td>3.6</td>\n",
       "      <td>383.8624</td>\n",
       "      <td>5</td>\n",
       "      <td>58.8</td>\n",
       "    </tr>\n",
       "    <tr>\n",
       "      <th>22</th>\n",
       "      <td>2012</td>\n",
       "      <td>12</td>\n",
       "      <td>14.7</td>\n",
       "      <td>1360.1390</td>\n",
       "      <td>1</td>\n",
       "      <td>24.6</td>\n",
       "    </tr>\n",
       "    <tr>\n",
       "      <th>168</th>\n",
       "      <td>2013</td>\n",
       "      <td>1</td>\n",
       "      <td>27.6</td>\n",
       "      <td>515.1122</td>\n",
       "      <td>5</td>\n",
       "      <td>37.4</td>\n",
       "    </tr>\n",
       "    <tr>\n",
       "      <th>137</th>\n",
       "      <td>2013</td>\n",
       "      <td>1</td>\n",
       "      <td>13.6</td>\n",
       "      <td>319.0708</td>\n",
       "      <td>6</td>\n",
       "      <td>47.4</td>\n",
       "    </tr>\n",
       "    <tr>\n",
       "      <th>303</th>\n",
       "      <td>2013</td>\n",
       "      <td>1</td>\n",
       "      <td>38.3</td>\n",
       "      <td>439.7105</td>\n",
       "      <td>0</td>\n",
       "      <td>38.4</td>\n",
       "    </tr>\n",
       "    <tr>\n",
       "      <th>190</th>\n",
       "      <td>2013</td>\n",
       "      <td>1</td>\n",
       "      <td>35.3</td>\n",
       "      <td>616.5735</td>\n",
       "      <td>8</td>\n",
       "      <td>42.3</td>\n",
       "    </tr>\n",
       "    <tr>\n",
       "      <th>297</th>\n",
       "      <td>2012</td>\n",
       "      <td>10</td>\n",
       "      <td>34.9</td>\n",
       "      <td>567.0349</td>\n",
       "      <td>4</td>\n",
       "      <td>28.5</td>\n",
       "    </tr>\n",
       "    <tr>\n",
       "      <th>302</th>\n",
       "      <td>2013</td>\n",
       "      <td>1</td>\n",
       "      <td>16.5</td>\n",
       "      <td>2288.0110</td>\n",
       "      <td>3</td>\n",
       "      <td>23.2</td>\n",
       "    </tr>\n",
       "    <tr>\n",
       "      <th>85</th>\n",
       "      <td>2012</td>\n",
       "      <td>1</td>\n",
       "      <td>0.0</td>\n",
       "      <td>338.9679</td>\n",
       "      <td>9</td>\n",
       "      <td>50.8</td>\n",
       "    </tr>\n",
       "  </tbody>\n",
       "</table>\n",
       "</div>"
      ],
      "text/plain": [
       "     Ano Transacao  Mes Transacao  Idade casa  Distancia da estacao metro  \\\n",
       "80            2013              1        11.8                    533.4762   \n",
       "171           2013              1         3.6                    383.8624   \n",
       "22            2012             12        14.7                   1360.1390   \n",
       "168           2013              1        27.6                    515.1122   \n",
       "137           2013              1        13.6                    319.0708   \n",
       "303           2013              1        38.3                    439.7105   \n",
       "190           2013              1        35.3                    616.5735   \n",
       "297           2012             10        34.9                    567.0349   \n",
       "302           2013              1        16.5                   2288.0110   \n",
       "85            2012              1         0.0                    338.9679   \n",
       "\n",
       "     Numero lojas conveniencia  Preco por unidade de area  \n",
       "80                           4                       40.3  \n",
       "171                          5                       58.8  \n",
       "22                           1                       24.6  \n",
       "168                          5                       37.4  \n",
       "137                          6                       47.4  \n",
       "303                          0                       38.4  \n",
       "190                          8                       42.3  \n",
       "297                          4                       28.5  \n",
       "302                          3                       23.2  \n",
       "85                           9                       50.8  "
      ]
     },
     "execution_count": 27,
     "metadata": {},
     "output_type": "execute_result"
    }
   ],
   "source": [
    "df.sample(10)"
   ]
  },
  {
   "cell_type": "code",
   "execution_count": 28,
   "metadata": {},
   "outputs": [
    {
     "data": {
      "text/plain": [
       "array(['Q4', 'Q3', 'Q1', 'Q2'], dtype=object)"
      ]
     },
     "execution_count": 28,
     "metadata": {},
     "output_type": "execute_result"
    }
   ],
   "source": [
    "# Transformando a coluna mes em trimestre.\n",
    "def trimestre_from_mes(mes):\n",
    "    if mes <= 3:\n",
    "        return 'Q1'\n",
    "    elif mes <= 6:\n",
    "        return 'Q2'\n",
    "    elif mes <= 9:\n",
    "        return 'Q3'    \n",
    "    elif mes <= 12:\n",
    "        return 'Q4'\n",
    "\n",
    "df['Mes Transacao'] = df['Mes Transacao'].apply(lambda x: trimestre_from_mes(x))\n",
    "df['Mes Transacao'].unique()"
   ]
  },
  {
   "cell_type": "code",
   "execution_count": 29,
   "metadata": {},
   "outputs": [
    {
     "data": {
      "text/plain": [
       "2013    257\n",
       "2012    116\n",
       "Name: Ano Transacao, dtype: int64"
      ]
     },
     "execution_count": 29,
     "metadata": {},
     "output_type": "execute_result"
    }
   ],
   "source": [
    "# Temos apenas dois anos diferentes\n",
    "df['Ano Transacao'].value_counts()"
   ]
  },
  {
   "cell_type": "code",
   "execution_count": 30,
   "metadata": {},
   "outputs": [
    {
     "data": {
      "text/plain": [
       "<AxesSubplot:>"
      ]
     },
     "execution_count": 30,
     "metadata": {},
     "output_type": "execute_result"
    },
    {
     "data": {
      "image/png": "[encoded data removed]",
      "text/plain": [
       "<Figure size 640x480 with 2 Axes>"
      ]
     },
     "metadata": {},
     "output_type": "display_data"
    }
   ],
   "source": [
    "# Correlação\n",
    "correlacao = df.corr()\n",
    "sns.heatmap(correlacao, cmap = 'PiYG', annot = True, fmt = '.2f')"
   ]
  },
  {
   "cell_type": "code",
   "execution_count": 31,
   "metadata": {},
   "outputs": [
    {
     "data": {
      "image/png": "[encoded data removed]",
      "text/plain": [
       "<Figure size 1200x500 with 4 Axes>"
      ]
     },
     "metadata": {},
     "output_type": "display_data"
    }
   ],
   "source": [
    "# Visualização das variáveis preditoras\n",
    "fig, axs = plt.subplots(nrows = 1, ncols = 4, figsize=(12,5))\n",
    "\n",
    "# Numero de bins\n",
    "bins = 20\n",
    "\n",
    "var_pred = [df['Idade casa'], df['Distancia da estacao metro'], df['Numero lojas conveniencia'], df['Preco por unidade de area']]\n",
    "\n",
    "for i, data in enumerate(var_pred):\n",
    "    axs[i].hist(data, bins = bins, alpha = 0.7)\n",
    "    axs[i].set_xlabel('Valor')\n",
    "    axs[i].set_ylabel('Frequencia')\n",
    "    axs[i].set_title(f'{df.columns[i+2]}')\n",
    "    \n",
    "plt.tight_layout()\n",
    "    \n",
    "plt.show()"
   ]
  },
  {
   "attachments": {},
   "cell_type": "markdown",
   "metadata": {},
   "source": [
    "### Dummização das variáveis Ano e Mês"
   ]
  },
  {
   "cell_type": "code",
   "execution_count": 32,
   "metadata": {},
   "outputs": [
    {
     "data": {
      "text/html": [
       "<div>\n",
       "<style scoped>\n",
       "    .dataframe tbody tr th:only-of-type {\n",
       "        vertical-align: middle;\n",
       "    }\n",
       "\n",
       "    .dataframe tbody tr th {\n",
       "        vertical-align: top;\n",
       "    }\n",
       "\n",
       "    .dataframe thead th {\n",
       "        text-align: right;\n",
       "    }\n",
       "</style>\n",
       "<table border=\"1\" class=\"dataframe\">\n",
       "  <thead>\n",
       "    <tr style=\"text-align: right;\">\n",
       "      <th></th>\n",
       "      <th>Idade casa</th>\n",
       "      <th>Distancia da estacao metro</th>\n",
       "      <th>Numero lojas conveniencia</th>\n",
       "      <th>Preco por unidade de area</th>\n",
       "      <th>Ano Transacao_2013</th>\n",
       "      <th>Mes Transacao_Q2</th>\n",
       "      <th>Mes Transacao_Q3</th>\n",
       "      <th>Mes Transacao_Q4</th>\n",
       "    </tr>\n",
       "  </thead>\n",
       "  <tbody>\n",
       "    <tr>\n",
       "      <th>0</th>\n",
       "      <td>32.0</td>\n",
       "      <td>84.87882</td>\n",
       "      <td>10</td>\n",
       "      <td>37.9</td>\n",
       "      <td>0</td>\n",
       "      <td>0</td>\n",
       "      <td>0</td>\n",
       "      <td>1</td>\n",
       "    </tr>\n",
       "    <tr>\n",
       "      <th>1</th>\n",
       "      <td>19.5</td>\n",
       "      <td>306.59470</td>\n",
       "      <td>9</td>\n",
       "      <td>42.2</td>\n",
       "      <td>0</td>\n",
       "      <td>0</td>\n",
       "      <td>0</td>\n",
       "      <td>1</td>\n",
       "    </tr>\n",
       "    <tr>\n",
       "      <th>2</th>\n",
       "      <td>13.3</td>\n",
       "      <td>561.98450</td>\n",
       "      <td>5</td>\n",
       "      <td>47.3</td>\n",
       "      <td>1</td>\n",
       "      <td>0</td>\n",
       "      <td>1</td>\n",
       "      <td>0</td>\n",
       "    </tr>\n",
       "    <tr>\n",
       "      <th>3</th>\n",
       "      <td>13.3</td>\n",
       "      <td>561.98450</td>\n",
       "      <td>5</td>\n",
       "      <td>54.8</td>\n",
       "      <td>1</td>\n",
       "      <td>0</td>\n",
       "      <td>0</td>\n",
       "      <td>0</td>\n",
       "    </tr>\n",
       "    <tr>\n",
       "      <th>4</th>\n",
       "      <td>5.0</td>\n",
       "      <td>390.56840</td>\n",
       "      <td>5</td>\n",
       "      <td>43.1</td>\n",
       "      <td>0</td>\n",
       "      <td>0</td>\n",
       "      <td>0</td>\n",
       "      <td>1</td>\n",
       "    </tr>\n",
       "  </tbody>\n",
       "</table>\n",
       "</div>"
      ],
      "text/plain": [
       "   Idade casa  Distancia da estacao metro  Numero lojas conveniencia  \\\n",
       "0        32.0                    84.87882                         10   \n",
       "1        19.5                   306.59470                          9   \n",
       "2        13.3                   561.98450                          5   \n",
       "3        13.3                   561.98450                          5   \n",
       "4         5.0                   390.56840                          5   \n",
       "\n",
       "   Preco por unidade de area  Ano Transacao_2013  Mes Transacao_Q2  \\\n",
       "0                       37.9                   0                 0   \n",
       "1                       42.2                   0                 0   \n",
       "2                       47.3                   1                 0   \n",
       "3                       54.8                   1                 0   \n",
       "4                       43.1                   0                 0   \n",
       "\n",
       "   Mes Transacao_Q3  Mes Transacao_Q4  \n",
       "0                 0                 1  \n",
       "1                 0                 1  \n",
       "2                 1                 0  \n",
       "3                 0                 0  \n",
       "4                 0                 1  "
      ]
     },
     "execution_count": 32,
     "metadata": {},
     "output_type": "execute_result"
    }
   ],
   "source": [
    "df_dummies = pd.get_dummies(df, columns=['Ano Transacao', 'Mes Transacao'], drop_first= True)\n",
    "df_dummies.head()"
   ]
  },
  {
   "attachments": {},
   "cell_type": "markdown",
   "metadata": {},
   "source": [
    "## Modelo 1"
   ]
  },
  {
   "attachments": {},
   "cell_type": "markdown",
   "metadata": {},
   "source": [
    "> Modelo usando o algortimo LinearRegression do pacote scikitleran"
   ]
  },
  {
   "cell_type": "code",
   "execution_count": 33,
   "metadata": {},
   "outputs": [],
   "source": [
    "# Separando os dados em dados de treino e dados de teste\n",
    "X = df_dummies.drop('Preco por unidade de area', axis = 1)\n",
    "y = df_dummies['Preco por unidade de area']\n",
    "\n",
    "X_train, X_teste, y_train, y_teste = train_test_split(X, y, test_size=0.25)"
   ]
  },
  {
   "cell_type": "code",
   "execution_count": 34,
   "metadata": {},
   "outputs": [],
   "source": [
    "X_train.reset_index(drop=True, inplace=True)\n",
    "X_teste.reset_index(drop=True, inplace=True)"
   ]
  },
  {
   "cell_type": "code",
   "execution_count": 35,
   "metadata": {},
   "outputs": [],
   "source": [
    "# Vamos fazer a padronização dos dados visto que as variáveis se encontram em grandezas diferentes\n",
    "scaler = StandardScaler()\n",
    "X_train_scaled = scaler.fit_transform(X_train[['Idade casa', 'Distancia da estacao metro', 'Numero lojas conveniencia']])\n",
    "X_teste_scaled = scaler.transform(X_teste[['Idade casa', 'Distancia da estacao metro', 'Numero lojas conveniencia']])"
   ]
  },
  {
   "cell_type": "code",
   "execution_count": 36,
   "metadata": {},
   "outputs": [],
   "source": [
    "# Transformando os ddos padronizados em dataframes\n",
    "X_train_scaled = pd.DataFrame(X_train_scaled)\n",
    "X_teste_scaled = pd.DataFrame(X_teste_scaled)"
   ]
  },
  {
   "cell_type": "code",
   "execution_count": 37,
   "metadata": {},
   "outputs": [],
   "source": [
    "# Juntando aos dados de treino e removendo os originais\n",
    "X_train['Idade casa'] = X_train_scaled[0]\n",
    "X_train['Distancia da estacao metro'] = X_train_scaled[1]\n",
    "X_train['Numero lojas conveniencia'] = X_train_scaled[2]\n",
    "X_teste['Idade casa'] = X_teste_scaled[0]\n",
    "X_teste['Distancia da estacao metro'] = X_teste_scaled[1]\n",
    "X_teste['Numero lojas conveniencia'] = X_teste_scaled[2]"
   ]
  },
  {
   "cell_type": "code",
   "execution_count": 38,
   "metadata": {},
   "outputs": [
    {
     "name": "stdout",
     "output_type": "stream",
     "text": [
      "Desvio Padrao: Idade casa                    1.001797\n",
      "Distancia da estacao metro    1.001797\n",
      "Numero lojas conveniencia     1.001797\n",
      "Ano Transacao_2013            0.461090\n",
      "Mes Transacao_Q2              0.416487\n",
      "Mes Transacao_Q3              0.327716\n",
      "Mes Transacao_Q4              0.371734\n",
      "dtype: float64\n",
      "Média: Idade casa                    3.541572e-17\n",
      "Distancia da estacao metro   -1.412649e-16\n",
      "Numero lojas conveniencia    -9.729374e-17\n",
      "Ano Transacao_2013            6.953405e-01\n",
      "Mes Transacao_Q2              2.222222e-01\n",
      "Mes Transacao_Q3              1.218638e-01\n",
      "Mes Transacao_Q4              1.648746e-01\n",
      "dtype: float64\n"
     ]
    }
   ],
   "source": [
    "# Verificar se foi devidamente padronizado\n",
    "print(f'Desvio Padrao: {X_train.std()}')\n",
    "print(f'Média: {X_train.mean()}')"
   ]
  },
  {
   "cell_type": "code",
   "execution_count": 39,
   "metadata": {},
   "outputs": [
    {
     "data": {
      "text/plain": [
       "LinearRegression()"
      ]
     },
     "execution_count": 39,
     "metadata": {},
     "output_type": "execute_result"
    }
   ],
   "source": [
    "# Modelo\n",
    "modelo = LinearRegression()\n",
    "modelo.fit(X_train, y_train)"
   ]
  },
  {
   "cell_type": "code",
   "execution_count": 40,
   "metadata": {},
   "outputs": [
    {
     "data": {
      "text/html": [
       "<div>\n",
       "<style scoped>\n",
       "    .dataframe tbody tr th:only-of-type {\n",
       "        vertical-align: middle;\n",
       "    }\n",
       "\n",
       "    .dataframe tbody tr th {\n",
       "        vertical-align: top;\n",
       "    }\n",
       "\n",
       "    .dataframe thead th {\n",
       "        text-align: right;\n",
       "    }\n",
       "</style>\n",
       "<table border=\"1\" class=\"dataframe\">\n",
       "  <thead>\n",
       "    <tr style=\"text-align: right;\">\n",
       "      <th></th>\n",
       "      <th>Coeficientes</th>\n",
       "    </tr>\n",
       "  </thead>\n",
       "  <tbody>\n",
       "    <tr>\n",
       "      <th>Idade casa</th>\n",
       "      <td>-3.582941</td>\n",
       "    </tr>\n",
       "    <tr>\n",
       "      <th>Distancia da estacao metro</th>\n",
       "      <td>-6.261917</td>\n",
       "    </tr>\n",
       "    <tr>\n",
       "      <th>Numero lojas conveniencia</th>\n",
       "      <td>2.658074</td>\n",
       "    </tr>\n",
       "    <tr>\n",
       "      <th>Ano Transacao_2013</th>\n",
       "      <td>3.496763</td>\n",
       "    </tr>\n",
       "    <tr>\n",
       "      <th>Mes Transacao_Q2</th>\n",
       "      <td>-2.087325</td>\n",
       "    </tr>\n",
       "    <tr>\n",
       "      <th>Mes Transacao_Q3</th>\n",
       "      <td>1.067348</td>\n",
       "    </tr>\n",
       "    <tr>\n",
       "      <th>Mes Transacao_Q4</th>\n",
       "      <td>0.698602</td>\n",
       "    </tr>\n",
       "  </tbody>\n",
       "</table>\n",
       "</div>"
      ],
      "text/plain": [
       "                            Coeficientes\n",
       "Idade casa                     -3.582941\n",
       "Distancia da estacao metro     -6.261917\n",
       "Numero lojas conveniencia       2.658074\n",
       "Ano Transacao_2013              3.496763\n",
       "Mes Transacao_Q2               -2.087325\n",
       "Mes Transacao_Q3                1.067348\n",
       "Mes Transacao_Q4                0.698602"
      ]
     },
     "execution_count": 40,
     "metadata": {},
     "output_type": "execute_result"
    }
   ],
   "source": [
    "# Coeficientes\n",
    "coef = modelo.coef_\n",
    "pd.DataFrame(data = coef, index = X.columns, columns=['Coeficientes'])"
   ]
  },
  {
   "cell_type": "code",
   "execution_count": 41,
   "metadata": {},
   "outputs": [
    {
     "data": {
      "text/plain": [
       "36.4423536203209"
      ]
     },
     "execution_count": 41,
     "metadata": {},
     "output_type": "execute_result"
    }
   ],
   "source": [
    "# Intercepto\n",
    "modelo.intercept_"
   ]
  },
  {
   "cell_type": "code",
   "execution_count": 42,
   "metadata": {},
   "outputs": [],
   "source": [
    "y_predicted = modelo.predict(X_teste)"
   ]
  },
  {
   "cell_type": "code",
   "execution_count": 43,
   "metadata": {},
   "outputs": [
    {
     "data": {
      "image/png": "[encoded data removed]",
      "text/plain": [
       "<Figure size 1000x800 with 1 Axes>"
      ]
     },
     "metadata": {},
     "output_type": "display_data"
    }
   ],
   "source": [
    "# Plot dos dados previstos com os reais\n",
    "plt.figure(figsize=(10,8))\n",
    "\n",
    "plt.scatter(x = y_teste, y = y_predicted, color = 'green', edgecolors= 'black')\n",
    "plt.xlabel('Valores reais de Y', fontdict={'fontsize': 16})\n",
    "plt.ylabel('Valores Previstos de Y', fontdict={'fontsize': 16})\n",
    "plt.grid(True)"
   ]
  },
  {
   "cell_type": "code",
   "execution_count": 44,
   "metadata": {},
   "outputs": [
    {
     "data": {
      "text/plain": [
       "67.93689321579627"
      ]
     },
     "execution_count": 44,
     "metadata": {},
     "output_type": "execute_result"
    }
   ],
   "source": [
    "# Métricas de avaliação do modelo\n",
    "mean_squared_error(y_teste, y_predicted)# Mean Squared Error"
   ]
  },
  {
   "cell_type": "code",
   "execution_count": 45,
   "metadata": {},
   "outputs": [
    {
     "data": {
      "text/plain": [
       "5.836129222608775"
      ]
     },
     "execution_count": 45,
     "metadata": {},
     "output_type": "execute_result"
    }
   ],
   "source": [
    "mean_absolute_error(y_teste, y_predicted)# MAE - Mean Absolute Error"
   ]
  },
  {
   "cell_type": "code",
   "execution_count": 46,
   "metadata": {},
   "outputs": [
    {
     "name": "stdout",
     "output_type": "stream",
     "text": [
      "Valor de R²: 0.549\n"
     ]
    }
   ],
   "source": [
    "R2 = r2_score(y_teste, y_predicted) # R²\n",
    "print(f'Valor de R²: {round(R2,3)}')"
   ]
  },
  {
   "attachments": {},
   "cell_type": "markdown",
   "metadata": {},
   "source": [
    "> Refazer esse Modelo1, agora com a remoção de algumas das variáveis preditivas não relevantes"
   ]
  },
  {
   "cell_type": "code",
   "execution_count": 47,
   "metadata": {},
   "outputs": [
    {
     "data": {
      "text/html": [
       "<div>\n",
       "<style scoped>\n",
       "    .dataframe tbody tr th:only-of-type {\n",
       "        vertical-align: middle;\n",
       "    }\n",
       "\n",
       "    .dataframe tbody tr th {\n",
       "        vertical-align: top;\n",
       "    }\n",
       "\n",
       "    .dataframe thead th {\n",
       "        text-align: right;\n",
       "    }\n",
       "</style>\n",
       "<table border=\"1\" class=\"dataframe\">\n",
       "  <thead>\n",
       "    <tr style=\"text-align: right;\">\n",
       "      <th></th>\n",
       "      <th>Idade casa</th>\n",
       "      <th>Distancia da estacao metro</th>\n",
       "      <th>Numero lojas conveniencia</th>\n",
       "      <th>Preco por unidade de area</th>\n",
       "      <th>Ano Transacao_2013</th>\n",
       "      <th>Mes Transacao_Q2</th>\n",
       "      <th>Mes Transacao_Q3</th>\n",
       "      <th>Mes Transacao_Q4</th>\n",
       "    </tr>\n",
       "  </thead>\n",
       "  <tbody>\n",
       "    <tr>\n",
       "      <th>Idade casa</th>\n",
       "      <td>1.000000</td>\n",
       "      <td>-0.066745</td>\n",
       "      <td>0.064660</td>\n",
       "      <td>-0.238996</td>\n",
       "      <td>0.046681</td>\n",
       "      <td>-0.053168</td>\n",
       "      <td>0.056346</td>\n",
       "      <td>-0.037724</td>\n",
       "    </tr>\n",
       "    <tr>\n",
       "      <th>Distancia da estacao metro</th>\n",
       "      <td>-0.066745</td>\n",
       "      <td>1.000000</td>\n",
       "      <td>-0.553205</td>\n",
       "      <td>-0.658970</td>\n",
       "      <td>0.003508</td>\n",
       "      <td>0.025666</td>\n",
       "      <td>-0.024690</td>\n",
       "      <td>0.060761</td>\n",
       "    </tr>\n",
       "    <tr>\n",
       "      <th>Numero lojas conveniencia</th>\n",
       "      <td>0.064660</td>\n",
       "      <td>-0.553205</td>\n",
       "      <td>1.000000</td>\n",
       "      <td>0.524921</td>\n",
       "      <td>0.001155</td>\n",
       "      <td>0.042709</td>\n",
       "      <td>0.066555</td>\n",
       "      <td>-0.050837</td>\n",
       "    </tr>\n",
       "    <tr>\n",
       "      <th>Preco por unidade de area</th>\n",
       "      <td>-0.238996</td>\n",
       "      <td>-0.658970</td>\n",
       "      <td>0.524921</td>\n",
       "      <td>1.000000</td>\n",
       "      <td>0.075785</td>\n",
       "      <td>-0.012184</td>\n",
       "      <td>0.028666</td>\n",
       "      <td>-0.091836</td>\n",
       "    </tr>\n",
       "    <tr>\n",
       "      <th>Ano Transacao_2013</th>\n",
       "      <td>0.046681</td>\n",
       "      <td>0.003508</td>\n",
       "      <td>0.001155</td>\n",
       "      <td>0.075785</td>\n",
       "      <td>1.000000</td>\n",
       "      <td>0.348259</td>\n",
       "      <td>-0.226103</td>\n",
       "      <td>-0.677405</td>\n",
       "    </tr>\n",
       "    <tr>\n",
       "      <th>Mes Transacao_Q2</th>\n",
       "      <td>-0.053168</td>\n",
       "      <td>0.025666</td>\n",
       "      <td>0.042709</td>\n",
       "      <td>-0.012184</td>\n",
       "      <td>0.348259</td>\n",
       "      <td>1.000000</td>\n",
       "      <td>-0.199214</td>\n",
       "      <td>-0.235912</td>\n",
       "    </tr>\n",
       "    <tr>\n",
       "      <th>Mes Transacao_Q3</th>\n",
       "      <td>0.056346</td>\n",
       "      <td>-0.024690</td>\n",
       "      <td>0.066555</td>\n",
       "      <td>0.028666</td>\n",
       "      <td>-0.226103</td>\n",
       "      <td>-0.199214</td>\n",
       "      <td>1.000000</td>\n",
       "      <td>-0.174900</td>\n",
       "    </tr>\n",
       "    <tr>\n",
       "      <th>Mes Transacao_Q4</th>\n",
       "      <td>-0.037724</td>\n",
       "      <td>0.060761</td>\n",
       "      <td>-0.050837</td>\n",
       "      <td>-0.091836</td>\n",
       "      <td>-0.677405</td>\n",
       "      <td>-0.235912</td>\n",
       "      <td>-0.174900</td>\n",
       "      <td>1.000000</td>\n",
       "    </tr>\n",
       "  </tbody>\n",
       "</table>\n",
       "</div>"
      ],
      "text/plain": [
       "                            Idade casa  Distancia da estacao metro  \\\n",
       "Idade casa                    1.000000                   -0.066745   \n",
       "Distancia da estacao metro   -0.066745                    1.000000   \n",
       "Numero lojas conveniencia     0.064660                   -0.553205   \n",
       "Preco por unidade de area    -0.238996                   -0.658970   \n",
       "Ano Transacao_2013            0.046681                    0.003508   \n",
       "Mes Transacao_Q2             -0.053168                    0.025666   \n",
       "Mes Transacao_Q3              0.056346                   -0.024690   \n",
       "Mes Transacao_Q4             -0.037724                    0.060761   \n",
       "\n",
       "                            Numero lojas conveniencia  \\\n",
       "Idade casa                                   0.064660   \n",
       "Distancia da estacao metro                  -0.553205   \n",
       "Numero lojas conveniencia                    1.000000   \n",
       "Preco por unidade de area                    0.524921   \n",
       "Ano Transacao_2013                           0.001155   \n",
       "Mes Transacao_Q2                             0.042709   \n",
       "Mes Transacao_Q3                             0.066555   \n",
       "Mes Transacao_Q4                            -0.050837   \n",
       "\n",
       "                            Preco por unidade de area  Ano Transacao_2013  \\\n",
       "Idade casa                                  -0.238996            0.046681   \n",
       "Distancia da estacao metro                  -0.658970            0.003508   \n",
       "Numero lojas conveniencia                    0.524921            0.001155   \n",
       "Preco por unidade de area                    1.000000            0.075785   \n",
       "Ano Transacao_2013                           0.075785            1.000000   \n",
       "Mes Transacao_Q2                            -0.012184            0.348259   \n",
       "Mes Transacao_Q3                             0.028666           -0.226103   \n",
       "Mes Transacao_Q4                            -0.091836           -0.677405   \n",
       "\n",
       "                            Mes Transacao_Q2  Mes Transacao_Q3  \\\n",
       "Idade casa                         -0.053168          0.056346   \n",
       "Distancia da estacao metro          0.025666         -0.024690   \n",
       "Numero lojas conveniencia           0.042709          0.066555   \n",
       "Preco por unidade de area          -0.012184          0.028666   \n",
       "Ano Transacao_2013                  0.348259         -0.226103   \n",
       "Mes Transacao_Q2                    1.000000         -0.199214   \n",
       "Mes Transacao_Q3                   -0.199214          1.000000   \n",
       "Mes Transacao_Q4                   -0.235912         -0.174900   \n",
       "\n",
       "                            Mes Transacao_Q4  \n",
       "Idade casa                         -0.037724  \n",
       "Distancia da estacao metro          0.060761  \n",
       "Numero lojas conveniencia          -0.050837  \n",
       "Preco por unidade de area          -0.091836  \n",
       "Ano Transacao_2013                 -0.677405  \n",
       "Mes Transacao_Q2                   -0.235912  \n",
       "Mes Transacao_Q3                   -0.174900  \n",
       "Mes Transacao_Q4                    1.000000  "
      ]
     },
     "execution_count": 47,
     "metadata": {},
     "output_type": "execute_result"
    }
   ],
   "source": [
    "# Visualização novamente do mapa de correlação\n",
    "df_dummies.corr()\n"
   ]
  },
  {
   "cell_type": "code",
   "execution_count": 48,
   "metadata": {},
   "outputs": [],
   "source": [
    "# Procedimento stepwise\n",
    "step = SequentialFeatureSelector(modelo, direction='forward', scoring='r2')"
   ]
  },
  {
   "cell_type": "code",
   "execution_count": 49,
   "metadata": {},
   "outputs": [
    {
     "data": {
      "text/plain": [
       "SequentialFeatureSelector(estimator=LinearRegression(), scoring='r2')"
      ]
     },
     "execution_count": 49,
     "metadata": {},
     "output_type": "execute_result"
    }
   ],
   "source": [
    "step.fit(X_train, y_train)"
   ]
  },
  {
   "cell_type": "code",
   "execution_count": 50,
   "metadata": {},
   "outputs": [
    {
     "data": {
      "text/plain": [
       "array(['Idade casa', 'Distancia da estacao metro',\n",
       "       'Numero lojas conveniencia'], dtype=object)"
      ]
     },
     "execution_count": 50,
     "metadata": {},
     "output_type": "execute_result"
    }
   ],
   "source": [
    "# Variáveis de Saída\n",
    "variaveis_entrada = step.feature_names_in_\n",
    "variaveis_saida = step.get_feature_names_out(input_features= variaveis_entrada)\n",
    "variaveis_saida"
   ]
  },
  {
   "cell_type": "code",
   "execution_count": 51,
   "metadata": {},
   "outputs": [],
   "source": [
    "X_train_final = X_train[['Idade casa', 'Distancia da estacao metro','Numero lojas conveniencia']]\n",
    "X_teste_final = X_teste[['Idade casa', 'Distancia da estacao metro','Numero lojas conveniencia']]"
   ]
  },
  {
   "cell_type": "code",
   "execution_count": 52,
   "metadata": {},
   "outputs": [
    {
     "data": {
      "text/plain": [
       "LinearRegression()"
      ]
     },
     "execution_count": 52,
     "metadata": {},
     "output_type": "execute_result"
    }
   ],
   "source": [
    "modelo1 = LinearRegression()\n",
    "modelo1.fit(X_train_final, y_train)"
   ]
  },
  {
   "cell_type": "code",
   "execution_count": 53,
   "metadata": {},
   "outputs": [
    {
     "data": {
      "text/html": [
       "<div>\n",
       "<style scoped>\n",
       "    .dataframe tbody tr th:only-of-type {\n",
       "        vertical-align: middle;\n",
       "    }\n",
       "\n",
       "    .dataframe tbody tr th {\n",
       "        vertical-align: top;\n",
       "    }\n",
       "\n",
       "    .dataframe thead th {\n",
       "        text-align: right;\n",
       "    }\n",
       "</style>\n",
       "<table border=\"1\" class=\"dataframe\">\n",
       "  <thead>\n",
       "    <tr style=\"text-align: right;\">\n",
       "      <th></th>\n",
       "      <th>Coeficientes</th>\n",
       "    </tr>\n",
       "  </thead>\n",
       "  <tbody>\n",
       "    <tr>\n",
       "      <th>Idade casa</th>\n",
       "      <td>-3.507464</td>\n",
       "    </tr>\n",
       "    <tr>\n",
       "      <th>Distancia da estacao metro</th>\n",
       "      <td>-6.340336</td>\n",
       "    </tr>\n",
       "    <tr>\n",
       "      <th>Numero lojas conveniencia</th>\n",
       "      <td>2.518358</td>\n",
       "    </tr>\n",
       "  </tbody>\n",
       "</table>\n",
       "</div>"
      ],
      "text/plain": [
       "                            Coeficientes\n",
       "Idade casa                     -3.507464\n",
       "Distancia da estacao metro     -6.340336\n",
       "Numero lojas conveniencia       2.518358"
      ]
     },
     "execution_count": 53,
     "metadata": {},
     "output_type": "execute_result"
    }
   ],
   "source": [
    "# Coeficientes\n",
    "coef = modelo1.coef_\n",
    "pd.DataFrame(data = coef, index = X_train_final.columns, columns=['Coeficientes'])"
   ]
  },
  {
   "cell_type": "code",
   "execution_count": 54,
   "metadata": {},
   "outputs": [
    {
     "data": {
      "text/plain": [
       "36.4423536203209"
      ]
     },
     "execution_count": 54,
     "metadata": {},
     "output_type": "execute_result"
    }
   ],
   "source": [
    "# Intercepto\n",
    "modelo.intercept_"
   ]
  },
  {
   "cell_type": "code",
   "execution_count": 55,
   "metadata": {},
   "outputs": [],
   "source": [
    "# Predição dos valores\n",
    "y_predicted = modelo1.predict(X_teste_final)"
   ]
  },
  {
   "cell_type": "code",
   "execution_count": 56,
   "metadata": {},
   "outputs": [
    {
     "data": {
      "image/png": "[encoded data removed]",
      "text/plain": [
       "<Figure size 1000x800 with 1 Axes>"
      ]
     },
     "metadata": {},
     "output_type": "display_data"
    }
   ],
   "source": [
    "# Plot dos dados previstos com os reais\n",
    "plt.figure(figsize=(10,8))\n",
    "\n",
    "plt.scatter(x = y_teste, y = y_predicted, color = 'green', edgecolors= 'black')\n",
    "plt.xlabel('Valores reais de Y', fontdict={'fontsize': 16})\n",
    "plt.ylabel('Valores Previstos de Y', fontdict={'fontsize': 16})\n",
    "plt.grid(True)"
   ]
  },
  {
   "cell_type": "code",
   "execution_count": 57,
   "metadata": {},
   "outputs": [
    {
     "name": "stdout",
     "output_type": "stream",
     "text": [
      "Valor de R²: 0.539\n"
     ]
    }
   ],
   "source": [
    "# R²\n",
    "R2_1 = r2_score(y_teste, y_predicted)\n",
    "print(f'Valor de R²: {round(R2_1,3)}')"
   ]
  },
  {
   "attachments": {},
   "cell_type": "markdown",
   "metadata": {},
   "source": [
    "> R² basicamente se manteve o mesmo, porém é importante remover as variáveis que não sao estatísticamente relevantes "
   ]
  },
  {
   "attachments": {},
   "cell_type": "markdown",
   "metadata": {},
   "source": [
    "## Modelo2"
   ]
  },
  {
   "attachments": {},
   "cell_type": "markdown",
   "metadata": {},
   "source": [
    "> Modelo de Regressão Linear usando o pacote statsmodel.  \n",
    "> Melhor para visualização resultados estatísticos"
   ]
  },
  {
   "cell_type": "code",
   "execution_count": 58,
   "metadata": {},
   "outputs": [],
   "source": [
    "# Será necessário renomear as colunas pra nao ter espaço\n",
    "X.rename(columns={'Mes Transacao_Q3': 'Mes_Transacao_Q3',\n",
    "                  'Mes Transacao_Q4': 'Mes_Transacao_Q4',\n",
    "                  'Mes Transacao_Q2': 'Mes_Transacao_Q2',\n",
    "                  'Ano Transacao_2013': 'Ano_Transacao_2013',\n",
    "                  'Idade casa': 'Idade_casa',\n",
    "                  'Distancia da estacao metro': 'Distancia_da_estacao_metro',\n",
    "                  'Numero lojas conveniencia': 'Numero_lojas_conveniencia',\n",
    "                  }, inplace=True)\n",
    "y = y.rename('Preco_por_unidade_de_area')"
   ]
  },
  {
   "cell_type": "code",
   "execution_count": 59,
   "metadata": {},
   "outputs": [
    {
     "data": {
      "text/plain": [
       "Index(['Idade_casa', 'Distancia_da_estacao_metro', 'Numero_lojas_conveniencia',\n",
       "       'Ano_Transacao_2013', 'Mes_Transacao_Q2', 'Mes_Transacao_Q3',\n",
       "       'Mes_Transacao_Q4'],\n",
       "      dtype='object')"
      ]
     },
     "execution_count": 59,
     "metadata": {},
     "output_type": "execute_result"
    }
   ],
   "source": [
    "X.columns"
   ]
  },
  {
   "cell_type": "code",
   "execution_count": 60,
   "metadata": {},
   "outputs": [
    {
     "data": {
      "text/html": [
       "<div>\n",
       "<style scoped>\n",
       "    .dataframe tbody tr th:only-of-type {\n",
       "        vertical-align: middle;\n",
       "    }\n",
       "\n",
       "    .dataframe tbody tr th {\n",
       "        vertical-align: top;\n",
       "    }\n",
       "\n",
       "    .dataframe thead th {\n",
       "        text-align: right;\n",
       "    }\n",
       "</style>\n",
       "<table border=\"1\" class=\"dataframe\">\n",
       "  <thead>\n",
       "    <tr style=\"text-align: right;\">\n",
       "      <th></th>\n",
       "      <th>Idade_casa</th>\n",
       "      <th>Distancia_da_estacao_metro</th>\n",
       "      <th>Numero_lojas_conveniencia</th>\n",
       "    </tr>\n",
       "  </thead>\n",
       "  <tbody>\n",
       "    <tr>\n",
       "      <th>0</th>\n",
       "      <td>1.244653</td>\n",
       "      <td>-0.959923</td>\n",
       "      <td>1.983040</td>\n",
       "    </tr>\n",
       "    <tr>\n",
       "      <th>1</th>\n",
       "      <td>0.174269</td>\n",
       "      <td>-0.645261</td>\n",
       "      <td>1.625537</td>\n",
       "    </tr>\n",
       "    <tr>\n",
       "      <th>2</th>\n",
       "      <td>-0.356642</td>\n",
       "      <td>-0.282808</td>\n",
       "      <td>0.195525</td>\n",
       "    </tr>\n",
       "    <tr>\n",
       "      <th>3</th>\n",
       "      <td>-0.356642</td>\n",
       "      <td>-0.282808</td>\n",
       "      <td>0.195525</td>\n",
       "    </tr>\n",
       "    <tr>\n",
       "      <th>4</th>\n",
       "      <td>-1.067377</td>\n",
       "      <td>-0.526084</td>\n",
       "      <td>0.195525</td>\n",
       "    </tr>\n",
       "  </tbody>\n",
       "</table>\n",
       "</div>"
      ],
      "text/plain": [
       "   Idade_casa  Distancia_da_estacao_metro  Numero_lojas_conveniencia\n",
       "0    1.244653                   -0.959923                   1.983040\n",
       "1    0.174269                   -0.645261                   1.625537\n",
       "2   -0.356642                   -0.282808                   0.195525\n",
       "3   -0.356642                   -0.282808                   0.195525\n",
       "4   -1.067377                   -0.526084                   0.195525"
      ]
     },
     "execution_count": 60,
     "metadata": {},
     "output_type": "execute_result"
    }
   ],
   "source": [
    "scaler = StandardScaler()\n",
    "X_scaled = scaler.fit_transform(X[['Idade_casa', 'Distancia_da_estacao_metro', 'Numero_lojas_conveniencia']])\n",
    "X_scaled = pd.DataFrame(X_scaled,columns=['Idade_casa', 'Distancia_da_estacao_metro', 'Numero_lojas_conveniencia'])\n",
    "X_scaled.head()"
   ]
  },
  {
   "cell_type": "code",
   "execution_count": 61,
   "metadata": {},
   "outputs": [],
   "source": [
    "# Resetando os index\n",
    "X_scaled.reset_index(drop=True, inplace=True)\n",
    "X.reset_index(drop=True, inplace=True)\n",
    "y.reset_index(drop=True, inplace=True)"
   ]
  },
  {
   "cell_type": "code",
   "execution_count": 62,
   "metadata": {},
   "outputs": [],
   "source": [
    "colunas = ['Idade_casa', 'Distancia_da_estacao_metro', 'Numero_lojas_conveniencia']\n",
    "for i in colunas:\n",
    "    X[i] = X_scaled[i]"
   ]
  },
  {
   "cell_type": "code",
   "execution_count": 63,
   "metadata": {},
   "outputs": [
    {
     "data": {
      "text/html": [
       "<div>\n",
       "<style scoped>\n",
       "    .dataframe tbody tr th:only-of-type {\n",
       "        vertical-align: middle;\n",
       "    }\n",
       "\n",
       "    .dataframe tbody tr th {\n",
       "        vertical-align: top;\n",
       "    }\n",
       "\n",
       "    .dataframe thead th {\n",
       "        text-align: right;\n",
       "    }\n",
       "</style>\n",
       "<table border=\"1\" class=\"dataframe\">\n",
       "  <thead>\n",
       "    <tr style=\"text-align: right;\">\n",
       "      <th></th>\n",
       "      <th>Idade_casa</th>\n",
       "      <th>Distancia_da_estacao_metro</th>\n",
       "      <th>Numero_lojas_conveniencia</th>\n",
       "      <th>Ano_Transacao_2013</th>\n",
       "      <th>Mes_Transacao_Q2</th>\n",
       "      <th>Mes_Transacao_Q3</th>\n",
       "      <th>Mes_Transacao_Q4</th>\n",
       "    </tr>\n",
       "  </thead>\n",
       "  <tbody>\n",
       "    <tr>\n",
       "      <th>0</th>\n",
       "      <td>1.244653</td>\n",
       "      <td>-0.959923</td>\n",
       "      <td>1.983040</td>\n",
       "      <td>0</td>\n",
       "      <td>0</td>\n",
       "      <td>0</td>\n",
       "      <td>1</td>\n",
       "    </tr>\n",
       "    <tr>\n",
       "      <th>1</th>\n",
       "      <td>0.174269</td>\n",
       "      <td>-0.645261</td>\n",
       "      <td>1.625537</td>\n",
       "      <td>0</td>\n",
       "      <td>0</td>\n",
       "      <td>0</td>\n",
       "      <td>1</td>\n",
       "    </tr>\n",
       "    <tr>\n",
       "      <th>2</th>\n",
       "      <td>-0.356642</td>\n",
       "      <td>-0.282808</td>\n",
       "      <td>0.195525</td>\n",
       "      <td>1</td>\n",
       "      <td>0</td>\n",
       "      <td>1</td>\n",
       "      <td>0</td>\n",
       "    </tr>\n",
       "    <tr>\n",
       "      <th>3</th>\n",
       "      <td>-0.356642</td>\n",
       "      <td>-0.282808</td>\n",
       "      <td>0.195525</td>\n",
       "      <td>1</td>\n",
       "      <td>0</td>\n",
       "      <td>0</td>\n",
       "      <td>0</td>\n",
       "    </tr>\n",
       "    <tr>\n",
       "      <th>4</th>\n",
       "      <td>-1.067377</td>\n",
       "      <td>-0.526084</td>\n",
       "      <td>0.195525</td>\n",
       "      <td>0</td>\n",
       "      <td>0</td>\n",
       "      <td>0</td>\n",
       "      <td>1</td>\n",
       "    </tr>\n",
       "    <tr>\n",
       "      <th>...</th>\n",
       "      <td>...</td>\n",
       "      <td>...</td>\n",
       "      <td>...</td>\n",
       "      <td>...</td>\n",
       "      <td>...</td>\n",
       "      <td>...</td>\n",
       "      <td>...</td>\n",
       "    </tr>\n",
       "    <tr>\n",
       "      <th>368</th>\n",
       "      <td>0.088638</td>\n",
       "      <td>2.007464</td>\n",
       "      <td>-0.519482</td>\n",
       "      <td>1</td>\n",
       "      <td>1</td>\n",
       "      <td>0</td>\n",
       "      <td>0</td>\n",
       "    </tr>\n",
       "    <tr>\n",
       "      <th>369</th>\n",
       "      <td>-1.015998</td>\n",
       "      <td>-0.952008</td>\n",
       "      <td>1.625537</td>\n",
       "      <td>0</td>\n",
       "      <td>0</td>\n",
       "      <td>1</td>\n",
       "      <td>0</td>\n",
       "    </tr>\n",
       "    <tr>\n",
       "      <th>370</th>\n",
       "      <td>0.114327</td>\n",
       "      <td>-0.525514</td>\n",
       "      <td>0.910531</td>\n",
       "      <td>1</td>\n",
       "      <td>0</td>\n",
       "      <td>0</td>\n",
       "      <td>0</td>\n",
       "    </tr>\n",
       "    <tr>\n",
       "      <th>371</th>\n",
       "      <td>-0.801921</td>\n",
       "      <td>-0.931636</td>\n",
       "      <td>0.195525</td>\n",
       "      <td>1</td>\n",
       "      <td>0</td>\n",
       "      <td>0</td>\n",
       "      <td>0</td>\n",
       "    </tr>\n",
       "    <tr>\n",
       "      <th>372</th>\n",
       "      <td>-0.938930</td>\n",
       "      <td>-0.952008</td>\n",
       "      <td>1.625537</td>\n",
       "      <td>1</td>\n",
       "      <td>0</td>\n",
       "      <td>0</td>\n",
       "      <td>0</td>\n",
       "    </tr>\n",
       "  </tbody>\n",
       "</table>\n",
       "<p>373 rows × 7 columns</p>\n",
       "</div>"
      ],
      "text/plain": [
       "     Idade_casa  Distancia_da_estacao_metro  Numero_lojas_conveniencia  \\\n",
       "0      1.244653                   -0.959923                   1.983040   \n",
       "1      0.174269                   -0.645261                   1.625537   \n",
       "2     -0.356642                   -0.282808                   0.195525   \n",
       "3     -0.356642                   -0.282808                   0.195525   \n",
       "4     -1.067377                   -0.526084                   0.195525   \n",
       "..          ...                         ...                        ...   \n",
       "368    0.088638                    2.007464                  -0.519482   \n",
       "369   -1.015998                   -0.952008                   1.625537   \n",
       "370    0.114327                   -0.525514                   0.910531   \n",
       "371   -0.801921                   -0.931636                   0.195525   \n",
       "372   -0.938930                   -0.952008                   1.625537   \n",
       "\n",
       "     Ano_Transacao_2013  Mes_Transacao_Q2  Mes_Transacao_Q3  Mes_Transacao_Q4  \n",
       "0                     0                 0                 0                 1  \n",
       "1                     0                 0                 0                 1  \n",
       "2                     1                 0                 1                 0  \n",
       "3                     1                 0                 0                 0  \n",
       "4                     0                 0                 0                 1  \n",
       "..                  ...               ...               ...               ...  \n",
       "368                   1                 1                 0                 0  \n",
       "369                   0                 0                 1                 0  \n",
       "370                   1                 0                 0                 0  \n",
       "371                   1                 0                 0                 0  \n",
       "372                   1                 0                 0                 0  \n",
       "\n",
       "[373 rows x 7 columns]"
      ]
     },
     "execution_count": 63,
     "metadata": {},
     "output_type": "execute_result"
    }
   ],
   "source": [
    "X"
   ]
  },
  {
   "cell_type": "code",
   "execution_count": 64,
   "metadata": {},
   "outputs": [],
   "source": [
    "# # Padronizar os dados que nao são binários\n",
    "# X = scaler.fit_transform(X)\n",
    "# X = pd.DataFrame(X, columns=['Idade_casa', 'Distancia_da_estacao_metro', 'Numero_lojas_conveniencia',\n",
    "#        'Ano_Transacao_2013', 'Mes_Transacao_Q2', 'Mes_Transacao_Q3',\n",
    "#        'Mes_Transacao_Q4'])\n",
    "# X.sample(10)"
   ]
  },
  {
   "cell_type": "code",
   "execution_count": 65,
   "metadata": {},
   "outputs": [
    {
     "data": {
      "text/html": [
       "<div>\n",
       "<style scoped>\n",
       "    .dataframe tbody tr th:only-of-type {\n",
       "        vertical-align: middle;\n",
       "    }\n",
       "\n",
       "    .dataframe tbody tr th {\n",
       "        vertical-align: top;\n",
       "    }\n",
       "\n",
       "    .dataframe thead th {\n",
       "        text-align: right;\n",
       "    }\n",
       "</style>\n",
       "<table border=\"1\" class=\"dataframe\">\n",
       "  <thead>\n",
       "    <tr style=\"text-align: right;\">\n",
       "      <th></th>\n",
       "      <th>Idade_casa</th>\n",
       "      <th>Distancia_da_estacao_metro</th>\n",
       "      <th>Numero_lojas_conveniencia</th>\n",
       "      <th>Ano_Transacao_2013</th>\n",
       "      <th>Mes_Transacao_Q2</th>\n",
       "      <th>Mes_Transacao_Q3</th>\n",
       "      <th>Mes_Transacao_Q4</th>\n",
       "      <th>Preco_por_unidade_de_area</th>\n",
       "    </tr>\n",
       "  </thead>\n",
       "  <tbody>\n",
       "    <tr>\n",
       "      <th>0</th>\n",
       "      <td>1.244653</td>\n",
       "      <td>-0.959923</td>\n",
       "      <td>1.983040</td>\n",
       "      <td>0</td>\n",
       "      <td>0</td>\n",
       "      <td>0</td>\n",
       "      <td>1</td>\n",
       "      <td>37.9</td>\n",
       "    </tr>\n",
       "    <tr>\n",
       "      <th>1</th>\n",
       "      <td>0.174269</td>\n",
       "      <td>-0.645261</td>\n",
       "      <td>1.625537</td>\n",
       "      <td>0</td>\n",
       "      <td>0</td>\n",
       "      <td>0</td>\n",
       "      <td>1</td>\n",
       "      <td>42.2</td>\n",
       "    </tr>\n",
       "    <tr>\n",
       "      <th>2</th>\n",
       "      <td>-0.356642</td>\n",
       "      <td>-0.282808</td>\n",
       "      <td>0.195525</td>\n",
       "      <td>1</td>\n",
       "      <td>0</td>\n",
       "      <td>1</td>\n",
       "      <td>0</td>\n",
       "      <td>47.3</td>\n",
       "    </tr>\n",
       "    <tr>\n",
       "      <th>3</th>\n",
       "      <td>-0.356642</td>\n",
       "      <td>-0.282808</td>\n",
       "      <td>0.195525</td>\n",
       "      <td>1</td>\n",
       "      <td>0</td>\n",
       "      <td>0</td>\n",
       "      <td>0</td>\n",
       "      <td>54.8</td>\n",
       "    </tr>\n",
       "    <tr>\n",
       "      <th>4</th>\n",
       "      <td>-1.067377</td>\n",
       "      <td>-0.526084</td>\n",
       "      <td>0.195525</td>\n",
       "      <td>0</td>\n",
       "      <td>0</td>\n",
       "      <td>0</td>\n",
       "      <td>1</td>\n",
       "      <td>43.1</td>\n",
       "    </tr>\n",
       "    <tr>\n",
       "      <th>...</th>\n",
       "      <td>...</td>\n",
       "      <td>...</td>\n",
       "      <td>...</td>\n",
       "      <td>...</td>\n",
       "      <td>...</td>\n",
       "      <td>...</td>\n",
       "      <td>...</td>\n",
       "      <td>...</td>\n",
       "    </tr>\n",
       "    <tr>\n",
       "      <th>368</th>\n",
       "      <td>0.088638</td>\n",
       "      <td>2.007464</td>\n",
       "      <td>-0.519482</td>\n",
       "      <td>1</td>\n",
       "      <td>1</td>\n",
       "      <td>0</td>\n",
       "      <td>0</td>\n",
       "      <td>28.1</td>\n",
       "    </tr>\n",
       "    <tr>\n",
       "      <th>369</th>\n",
       "      <td>-1.015998</td>\n",
       "      <td>-0.952008</td>\n",
       "      <td>1.625537</td>\n",
       "      <td>0</td>\n",
       "      <td>0</td>\n",
       "      <td>1</td>\n",
       "      <td>0</td>\n",
       "      <td>50.0</td>\n",
       "    </tr>\n",
       "    <tr>\n",
       "      <th>370</th>\n",
       "      <td>0.114327</td>\n",
       "      <td>-0.525514</td>\n",
       "      <td>0.910531</td>\n",
       "      <td>1</td>\n",
       "      <td>0</td>\n",
       "      <td>0</td>\n",
       "      <td>0</td>\n",
       "      <td>40.6</td>\n",
       "    </tr>\n",
       "    <tr>\n",
       "      <th>371</th>\n",
       "      <td>-0.801921</td>\n",
       "      <td>-0.931636</td>\n",
       "      <td>0.195525</td>\n",
       "      <td>1</td>\n",
       "      <td>0</td>\n",
       "      <td>0</td>\n",
       "      <td>0</td>\n",
       "      <td>52.5</td>\n",
       "    </tr>\n",
       "    <tr>\n",
       "      <th>372</th>\n",
       "      <td>-0.938930</td>\n",
       "      <td>-0.952008</td>\n",
       "      <td>1.625537</td>\n",
       "      <td>1</td>\n",
       "      <td>0</td>\n",
       "      <td>0</td>\n",
       "      <td>0</td>\n",
       "      <td>63.9</td>\n",
       "    </tr>\n",
       "  </tbody>\n",
       "</table>\n",
       "<p>373 rows × 8 columns</p>\n",
       "</div>"
      ],
      "text/plain": [
       "     Idade_casa  Distancia_da_estacao_metro  Numero_lojas_conveniencia  \\\n",
       "0      1.244653                   -0.959923                   1.983040   \n",
       "1      0.174269                   -0.645261                   1.625537   \n",
       "2     -0.356642                   -0.282808                   0.195525   \n",
       "3     -0.356642                   -0.282808                   0.195525   \n",
       "4     -1.067377                   -0.526084                   0.195525   \n",
       "..          ...                         ...                        ...   \n",
       "368    0.088638                    2.007464                  -0.519482   \n",
       "369   -1.015998                   -0.952008                   1.625537   \n",
       "370    0.114327                   -0.525514                   0.910531   \n",
       "371   -0.801921                   -0.931636                   0.195525   \n",
       "372   -0.938930                   -0.952008                   1.625537   \n",
       "\n",
       "     Ano_Transacao_2013  Mes_Transacao_Q2  Mes_Transacao_Q3  Mes_Transacao_Q4  \\\n",
       "0                     0                 0                 0                 1   \n",
       "1                     0                 0                 0                 1   \n",
       "2                     1                 0                 1                 0   \n",
       "3                     1                 0                 0                 0   \n",
       "4                     0                 0                 0                 1   \n",
       "..                  ...               ...               ...               ...   \n",
       "368                   1                 1                 0                 0   \n",
       "369                   0                 0                 1                 0   \n",
       "370                   1                 0                 0                 0   \n",
       "371                   1                 0                 0                 0   \n",
       "372                   1                 0                 0                 0   \n",
       "\n",
       "     Preco_por_unidade_de_area  \n",
       "0                         37.9  \n",
       "1                         42.2  \n",
       "2                         47.3  \n",
       "3                         54.8  \n",
       "4                         43.1  \n",
       "..                         ...  \n",
       "368                       28.1  \n",
       "369                       50.0  \n",
       "370                       40.6  \n",
       "371                       52.5  \n",
       "372                       63.9  \n",
       "\n",
       "[373 rows x 8 columns]"
      ]
     },
     "execution_count": 65,
     "metadata": {},
     "output_type": "execute_result"
    }
   ],
   "source": [
    "# Nesse tipo de algoritmo que iremos usar (do pacote statsmodel) não é necessário separar a variável preditora da target, portanto irei juntá-las novamente\n",
    "df_modelo = pd.concat([X, y], axis = 1)\n",
    "df_modelo"
   ]
  },
  {
   "cell_type": "code",
   "execution_count": 66,
   "metadata": {},
   "outputs": [],
   "source": [
    "modelo_sm = sm.OLS.from_formula('Preco_por_unidade_de_area ~ Idade_casa + Distancia_da_estacao_metro +\\\n",
    "                                            Numero_lojas_conveniencia + Ano_Transacao_2013 + Mes_Transacao_Q2 +\\\n",
    "                                            Mes_Transacao_Q3 + Mes_Transacao_Q4', df_modelo).fit()"
   ]
  },
  {
   "cell_type": "code",
   "execution_count": 67,
   "metadata": {},
   "outputs": [
    {
     "data": {
      "text/html": [
       "<table class=\"simpletable\">\n",
       "<caption>OLS Regression Results</caption>\n",
       "<tr>\n",
       "  <th>Dep. Variable:</th>    <td>Preco_por_unidade_de_area</td> <th>  R-squared:         </th> <td>   0.569</td>\n",
       "</tr>\n",
       "<tr>\n",
       "  <th>Model:</th>                       <td>OLS</td>            <th>  Adj. R-squared:    </th> <td>   0.561</td>\n",
       "</tr>\n",
       "<tr>\n",
       "  <th>Method:</th>                 <td>Least Squares</td>       <th>  F-statistic:       </th> <td>   68.78</td>\n",
       "</tr>\n",
       "<tr>\n",
       "  <th>Date:</th>                 <td>Thu, 23 Mar 2023</td>      <th>  Prob (F-statistic):</th> <td>7.29e-63</td>\n",
       "</tr>\n",
       "<tr>\n",
       "  <th>Time:</th>                     <td>11:22:40</td>          <th>  Log-Likelihood:    </th> <td> -1284.6</td>\n",
       "</tr>\n",
       "<tr>\n",
       "  <th>No. Observations:</th>          <td>   373</td>           <th>  AIC:               </th> <td>   2585.</td>\n",
       "</tr>\n",
       "<tr>\n",
       "  <th>Df Residuals:</th>              <td>   365</td>           <th>  BIC:               </th> <td>   2617.</td>\n",
       "</tr>\n",
       "<tr>\n",
       "  <th>Df Model:</th>                  <td>     7</td>           <th>                     </th>     <td> </td>   \n",
       "</tr>\n",
       "<tr>\n",
       "  <th>Covariance Type:</th>          <td>nonrobust</td>         <th>                     </th>     <td> </td>   \n",
       "</tr>\n",
       "</table>\n",
       "<table class=\"simpletable\">\n",
       "<tr>\n",
       "               <td></td>                 <th>coef</th>     <th>std err</th>      <th>t</th>      <th>P>|t|</th>  <th>[0.025</th>    <th>0.975]</th>  \n",
       "</tr>\n",
       "<tr>\n",
       "  <th>Intercept</th>                  <td>   36.8689</td> <td>    1.302</td> <td>   28.309</td> <td> 0.000</td> <td>   34.308</td> <td>   39.430</td>\n",
       "</tr>\n",
       "<tr>\n",
       "  <th>Idade_casa</th>                 <td>   -3.4855</td> <td>    0.400</td> <td>   -8.714</td> <td> 0.000</td> <td>   -4.272</td> <td>   -2.699</td>\n",
       "</tr>\n",
       "<tr>\n",
       "  <th>Distancia_da_estacao_metro</th> <td>   -6.2720</td> <td>    0.479</td> <td>  -13.099</td> <td> 0.000</td> <td>   -7.214</td> <td>   -5.330</td>\n",
       "</tr>\n",
       "<tr>\n",
       "  <th>Numero_lojas_conveniencia</th>  <td>    2.8254</td> <td>    0.479</td> <td>    5.899</td> <td> 0.000</td> <td>    1.884</td> <td>    3.767</td>\n",
       "</tr>\n",
       "<tr>\n",
       "  <th>Ano_Transacao_2013</th>         <td>    3.6023</td> <td>    1.349</td> <td>    2.670</td> <td> 0.008</td> <td>    0.949</td> <td>    6.255</td>\n",
       "</tr>\n",
       "<tr>\n",
       "  <th>Mes_Transacao_Q2</th>           <td>   -1.6534</td> <td>    1.053</td> <td>   -1.570</td> <td> 0.117</td> <td>   -3.724</td> <td>    0.417</td>\n",
       "</tr>\n",
       "<tr>\n",
       "  <th>Mes_Transacao_Q3</th>           <td>    1.4781</td> <td>    1.389</td> <td>    1.064</td> <td> 0.288</td> <td>   -1.254</td> <td>    4.210</td>\n",
       "</tr>\n",
       "<tr>\n",
       "  <th>Mes_Transacao_Q4</th>           <td>    1.0358</td> <td>    1.619</td> <td>    0.640</td> <td> 0.523</td> <td>   -2.147</td> <td>    4.219</td>\n",
       "</tr>\n",
       "</table>\n",
       "<table class=\"simpletable\">\n",
       "<tr>\n",
       "  <th>Omnibus:</th>       <td>55.275</td> <th>  Durbin-Watson:     </th> <td>   1.998</td>\n",
       "</tr>\n",
       "<tr>\n",
       "  <th>Prob(Omnibus):</th> <td> 0.000</td> <th>  Jarque-Bera (JB):  </th> <td> 211.209</td>\n",
       "</tr>\n",
       "<tr>\n",
       "  <th>Skew:</th>          <td> 0.582</td> <th>  Prob(JB):          </th> <td>1.37e-46</td>\n",
       "</tr>\n",
       "<tr>\n",
       "  <th>Kurtosis:</th>      <td> 6.498</td> <th>  Cond. No.          </th> <td>    7.92</td>\n",
       "</tr>\n",
       "</table><br/><br/>Notes:<br/>[1] Standard Errors assume that the covariance matrix of the errors is correctly specified."
      ],
      "text/plain": [
       "<class 'statsmodels.iolib.summary.Summary'>\n",
       "\"\"\"\n",
       "                                OLS Regression Results                               \n",
       "=====================================================================================\n",
       "Dep. Variable:     Preco_por_unidade_de_area   R-squared:                       0.569\n",
       "Model:                                   OLS   Adj. R-squared:                  0.561\n",
       "Method:                        Least Squares   F-statistic:                     68.78\n",
       "Date:                       Thu, 23 Mar 2023   Prob (F-statistic):           7.29e-63\n",
       "Time:                               11:22:40   Log-Likelihood:                -1284.6\n",
       "No. Observations:                        373   AIC:                             2585.\n",
       "Df Residuals:                            365   BIC:                             2617.\n",
       "Df Model:                                  7                                         \n",
       "Covariance Type:                   nonrobust                                         \n",
       "==============================================================================================\n",
       "                                 coef    std err          t      P>|t|      [0.025      0.975]\n",
       "----------------------------------------------------------------------------------------------\n",
       "Intercept                     36.8689      1.302     28.309      0.000      34.308      39.430\n",
       "Idade_casa                    -3.4855      0.400     -8.714      0.000      -4.272      -2.699\n",
       "Distancia_da_estacao_metro    -6.2720      0.479    -13.099      0.000      -7.214      -5.330\n",
       "Numero_lojas_conveniencia      2.8254      0.479      5.899      0.000       1.884       3.767\n",
       "Ano_Transacao_2013             3.6023      1.349      2.670      0.008       0.949       6.255\n",
       "Mes_Transacao_Q2              -1.6534      1.053     -1.570      0.117      -3.724       0.417\n",
       "Mes_Transacao_Q3               1.4781      1.389      1.064      0.288      -1.254       4.210\n",
       "Mes_Transacao_Q4               1.0358      1.619      0.640      0.523      -2.147       4.219\n",
       "==============================================================================\n",
       "Omnibus:                       55.275   Durbin-Watson:                   1.998\n",
       "Prob(Omnibus):                  0.000   Jarque-Bera (JB):              211.209\n",
       "Skew:                           0.582   Prob(JB):                     1.37e-46\n",
       "Kurtosis:                       6.498   Cond. No.                         7.92\n",
       "==============================================================================\n",
       "\n",
       "Notes:\n",
       "[1] Standard Errors assume that the covariance matrix of the errors is correctly specified.\n",
       "\"\"\""
      ]
     },
     "execution_count": 67,
     "metadata": {},
     "output_type": "execute_result"
    }
   ],
   "source": [
    "# summary do modelo\n",
    "modelo_sm.summary()"
   ]
  },
  {
   "attachments": {},
   "cell_type": "markdown",
   "metadata": {},
   "source": [
    "> Segundo esse summary, as únicas variáveis que não passaram no teste t foram as de 'Mes_Transacao' (não foram estatísticamente significante).  \n",
    "> Iremos aplicar então o procedimento stepwise que deve retirar todas as variáveis que não são estatisticamente siognificantes"
   ]
  },
  {
   "attachments": {},
   "cell_type": "markdown",
   "metadata": {},
   "source": [
    "### StepWise"
   ]
  },
  {
   "attachments": {},
   "cell_type": "markdown",
   "metadata": {},
   "source": [
    "> Irei aplicar o procedimento stepwise para decidir quais variáveis devem ficar no modelo"
   ]
  },
  {
   "cell_type": "code",
   "execution_count": 68,
   "metadata": {},
   "outputs": [
    {
     "name": "stdout",
     "output_type": "stream",
     "text": [
      "Regression type: OLS \n",
      "\n",
      "Estimating model...: \n",
      " Preco_por_unidade_de_area ~ Idade_casa + Distancia_da_estacao_metro + Numero_lojas_conveniencia + Ano_Transacao_2013 + Mes_Transacao_Q2 + Mes_Transacao_Q3 + Mes_Transacao_Q4\n",
      "\n",
      " Discarding atribute \"Mes_Transacao_Q4\" with p-value equal to 0.5226339926714523 \n",
      "\n",
      "Estimating model...: \n",
      " Preco_por_unidade_de_area ~ Idade_casa + Distancia_da_estacao_metro + Numero_lojas_conveniencia + Ano_Transacao_2013 + Mes_Transacao_Q2 + Mes_Transacao_Q3\n",
      "\n",
      " Discarding atribute \"Mes_Transacao_Q3\" with p-value equal to 0.3865726792996991 \n",
      "\n",
      "Estimating model...: \n",
      " Preco_por_unidade_de_area ~ Idade_casa + Distancia_da_estacao_metro + Numero_lojas_conveniencia + Ano_Transacao_2013 + Mes_Transacao_Q2\n",
      "\n",
      " Discarding atribute \"Mes_Transacao_Q2\" with p-value equal to 0.08083431492839993 \n",
      "\n",
      "Estimating model...: \n",
      " Preco_por_unidade_de_area ~ Idade_casa + Distancia_da_estacao_metro + Numero_lojas_conveniencia + Ano_Transacao_2013\n",
      "\n",
      " No more atributes with p-value higher than 0.05\n",
      "\n",
      " Atributes discarded on the process...: \n",
      "\n",
      "{'atribute': 'Mes_Transacao_Q4', 'p-value': 0.5226339926714523}\n",
      "{'atribute': 'Mes_Transacao_Q3', 'p-value': 0.3865726792996991}\n",
      "{'atribute': 'Mes_Transacao_Q2', 'p-value': 0.08083431492839993}\n",
      "\n",
      " Model after stepwise process...: \n",
      " Preco_por_unidade_de_area ~ Idade_casa + Distancia_da_estacao_metro + Numero_lojas_conveniencia + Ano_Transacao_2013 \n",
      "\n",
      "                                OLS Regression Results                               \n",
      "=====================================================================================\n",
      "Dep. Variable:     Preco_por_unidade_de_area   R-squared:                       0.564\n",
      "Model:                                   OLS   Adj. R-squared:                  0.559\n",
      "Method:                        Least Squares   F-statistic:                     118.9\n",
      "Date:                       Thu, 23 Mar 2023   Prob (F-statistic):           5.24e-65\n",
      "Time:                               11:22:40   Log-Likelihood:                -1286.7\n",
      "No. Observations:                        373   AIC:                             2583.\n",
      "Df Residuals:                            368   BIC:                             2603.\n",
      "Df Model:                                  4                                         \n",
      "Covariance Type:                   nonrobust                                         \n",
      "==============================================================================================\n",
      "                                 coef    std err          t      P>|t|      [0.025      0.975]\n",
      "----------------------------------------------------------------------------------------------\n",
      "Intercept                     37.8025      0.713     53.036      0.000      36.401      39.204\n",
      "Idade_casa                    -3.4068      0.399     -8.544      0.000      -4.191      -2.623\n",
      "Distancia_da_estacao_metro    -6.2858      0.477    -13.174      0.000      -7.224      -5.348\n",
      "Numero_lojas_conveniencia      2.7976      0.477      5.864      0.000       1.860       3.736\n",
      "Ano_Transacao_2013             2.2730      0.859      2.646      0.008       0.584       3.962\n",
      "==============================================================================\n",
      "Omnibus:                       56.519   Durbin-Watson:                   1.981\n",
      "Prob(Omnibus):                  0.000   Jarque-Bera (JB):              225.223\n",
      "Skew:                           0.583   Prob(JB):                     1.24e-49\n",
      "Kurtosis:                       6.624   Cond. No.                         3.37\n",
      "==============================================================================\n",
      "\n",
      "Notes:\n",
      "[1] Standard Errors assume that the covariance matrix of the errors is correctly specified.\n"
     ]
    }
   ],
   "source": [
    "# Estimação do modelo por meio do procedimento Stepwise\n",
    "modelo_sm_step = stepwise(modelo_sm, pvalue_limit=0.05)"
   ]
  },
  {
   "cell_type": "code",
   "execution_count": 69,
   "metadata": {},
   "outputs": [
    {
     "data": {
      "text/html": [
       "<table class=\"simpletable\">\n",
       "<caption>OLS Regression Results</caption>\n",
       "<tr>\n",
       "  <th>Dep. Variable:</th>    <td>Preco_por_unidade_de_area</td> <th>  R-squared:         </th> <td>   0.564</td>\n",
       "</tr>\n",
       "<tr>\n",
       "  <th>Model:</th>                       <td>OLS</td>            <th>  Adj. R-squared:    </th> <td>   0.559</td>\n",
       "</tr>\n",
       "<tr>\n",
       "  <th>Method:</th>                 <td>Least Squares</td>       <th>  F-statistic:       </th> <td>   118.9</td>\n",
       "</tr>\n",
       "<tr>\n",
       "  <th>Date:</th>                 <td>Thu, 23 Mar 2023</td>      <th>  Prob (F-statistic):</th> <td>5.24e-65</td>\n",
       "</tr>\n",
       "<tr>\n",
       "  <th>Time:</th>                     <td>11:22:40</td>          <th>  Log-Likelihood:    </th> <td> -1286.7</td>\n",
       "</tr>\n",
       "<tr>\n",
       "  <th>No. Observations:</th>          <td>   373</td>           <th>  AIC:               </th> <td>   2583.</td>\n",
       "</tr>\n",
       "<tr>\n",
       "  <th>Df Residuals:</th>              <td>   368</td>           <th>  BIC:               </th> <td>   2603.</td>\n",
       "</tr>\n",
       "<tr>\n",
       "  <th>Df Model:</th>                  <td>     4</td>           <th>                     </th>     <td> </td>   \n",
       "</tr>\n",
       "<tr>\n",
       "  <th>Covariance Type:</th>          <td>nonrobust</td>         <th>                     </th>     <td> </td>   \n",
       "</tr>\n",
       "</table>\n",
       "<table class=\"simpletable\">\n",
       "<tr>\n",
       "               <td></td>                 <th>coef</th>     <th>std err</th>      <th>t</th>      <th>P>|t|</th>  <th>[0.025</th>    <th>0.975]</th>  \n",
       "</tr>\n",
       "<tr>\n",
       "  <th>Intercept</th>                  <td>   37.8025</td> <td>    0.713</td> <td>   53.036</td> <td> 0.000</td> <td>   36.401</td> <td>   39.204</td>\n",
       "</tr>\n",
       "<tr>\n",
       "  <th>Idade_casa</th>                 <td>   -3.4068</td> <td>    0.399</td> <td>   -8.544</td> <td> 0.000</td> <td>   -4.191</td> <td>   -2.623</td>\n",
       "</tr>\n",
       "<tr>\n",
       "  <th>Distancia_da_estacao_metro</th> <td>   -6.2858</td> <td>    0.477</td> <td>  -13.174</td> <td> 0.000</td> <td>   -7.224</td> <td>   -5.348</td>\n",
       "</tr>\n",
       "<tr>\n",
       "  <th>Numero_lojas_conveniencia</th>  <td>    2.7976</td> <td>    0.477</td> <td>    5.864</td> <td> 0.000</td> <td>    1.860</td> <td>    3.736</td>\n",
       "</tr>\n",
       "<tr>\n",
       "  <th>Ano_Transacao_2013</th>         <td>    2.2730</td> <td>    0.859</td> <td>    2.646</td> <td> 0.008</td> <td>    0.584</td> <td>    3.962</td>\n",
       "</tr>\n",
       "</table>\n",
       "<table class=\"simpletable\">\n",
       "<tr>\n",
       "  <th>Omnibus:</th>       <td>56.519</td> <th>  Durbin-Watson:     </th> <td>   1.981</td>\n",
       "</tr>\n",
       "<tr>\n",
       "  <th>Prob(Omnibus):</th> <td> 0.000</td> <th>  Jarque-Bera (JB):  </th> <td> 225.223</td>\n",
       "</tr>\n",
       "<tr>\n",
       "  <th>Skew:</th>          <td> 0.583</td> <th>  Prob(JB):          </th> <td>1.24e-49</td>\n",
       "</tr>\n",
       "<tr>\n",
       "  <th>Kurtosis:</th>      <td> 6.624</td> <th>  Cond. No.          </th> <td>    3.37</td>\n",
       "</tr>\n",
       "</table><br/><br/>Notes:<br/>[1] Standard Errors assume that the covariance matrix of the errors is correctly specified."
      ],
      "text/plain": [
       "<class 'statsmodels.iolib.summary.Summary'>\n",
       "\"\"\"\n",
       "                                OLS Regression Results                               \n",
       "=====================================================================================\n",
       "Dep. Variable:     Preco_por_unidade_de_area   R-squared:                       0.564\n",
       "Model:                                   OLS   Adj. R-squared:                  0.559\n",
       "Method:                        Least Squares   F-statistic:                     118.9\n",
       "Date:                       Thu, 23 Mar 2023   Prob (F-statistic):           5.24e-65\n",
       "Time:                               11:22:40   Log-Likelihood:                -1286.7\n",
       "No. Observations:                        373   AIC:                             2583.\n",
       "Df Residuals:                            368   BIC:                             2603.\n",
       "Df Model:                                  4                                         \n",
       "Covariance Type:                   nonrobust                                         \n",
       "==============================================================================================\n",
       "                                 coef    std err          t      P>|t|      [0.025      0.975]\n",
       "----------------------------------------------------------------------------------------------\n",
       "Intercept                     37.8025      0.713     53.036      0.000      36.401      39.204\n",
       "Idade_casa                    -3.4068      0.399     -8.544      0.000      -4.191      -2.623\n",
       "Distancia_da_estacao_metro    -6.2858      0.477    -13.174      0.000      -7.224      -5.348\n",
       "Numero_lojas_conveniencia      2.7976      0.477      5.864      0.000       1.860       3.736\n",
       "Ano_Transacao_2013             2.2730      0.859      2.646      0.008       0.584       3.962\n",
       "==============================================================================\n",
       "Omnibus:                       56.519   Durbin-Watson:                   1.981\n",
       "Prob(Omnibus):                  0.000   Jarque-Bera (JB):              225.223\n",
       "Skew:                           0.583   Prob(JB):                     1.24e-49\n",
       "Kurtosis:                       6.624   Cond. No.                         3.37\n",
       "==============================================================================\n",
       "\n",
       "Notes:\n",
       "[1] Standard Errors assume that the covariance matrix of the errors is correctly specified.\n",
       "\"\"\""
      ]
     },
     "execution_count": 69,
     "metadata": {},
     "output_type": "execute_result"
    }
   ],
   "source": [
    "# O modelo \n",
    "modelo_sm_step.summary()"
   ]
  },
  {
   "attachments": {},
   "cell_type": "markdown",
   "metadata": {},
   "source": [
    "### Aderência dos Resíduos à normalidade (Teste Shapiro-Francia) "
   ]
  },
  {
   "cell_type": "code",
   "execution_count": 70,
   "metadata": {},
   "outputs": [
    {
     "data": {
      "text/plain": [
       "{'method': 'Shapiro-Francia normality test',\n",
       " 'statistics W': 0.9392267341466474,\n",
       " 'statistics z': 6.094030964532772,\n",
       " 'p-value': 5.505117435611334e-10}"
      ]
     },
     "execution_count": 70,
     "metadata": {},
     "output_type": "execute_result"
    }
   ],
   "source": [
    "# Teste de Shapiro-Francia\n",
    "shapiroFrancia(modelo_sm_step.resid)"
   ]
  },
  {
   "attachments": {},
   "cell_type": "markdown",
   "metadata": {},
   "source": [
    "> p-val < 0.05 indica uma NÃO aderência dos Resíduos à normal!!!"
   ]
  },
  {
   "cell_type": "code",
   "execution_count": 71,
   "metadata": {},
   "outputs": [
    {
     "data": {
      "image/png": "[encoded data removed]",
      "text/plain": [
       "<Figure size 1500x1000 with 1 Axes>"
      ]
     },
     "metadata": {},
     "output_type": "display_data"
    }
   ],
   "source": [
    "plt.figure(figsize=(15,10))\n",
    "sns.distplot(modelo_sm_step.resid, fit=norm, kde=True, bins=15)\n",
    "plt.xlabel('Resíduos', fontsize=16)\n",
    "plt.ylabel('Frequências', fontsize=16)\n",
    "plt.show()"
   ]
  },
  {
   "attachments": {},
   "cell_type": "markdown",
   "metadata": {},
   "source": [
    "> Iremos fazer a transformação de Box-Cox\n"
   ]
  },
  {
   "attachments": {},
   "cell_type": "markdown",
   "metadata": {},
   "source": [
    "### Heterocedasticidade (Teste de Breusch Pagan)"
   ]
  },
  {
   "cell_type": "code",
   "execution_count": 72,
   "metadata": {},
   "outputs": [],
   "source": [
    "# Criando Função para Teste de Breusch Pagan\n",
    "def breusch_pagan_test(modelo):\n",
    "\n",
    "    df = pd.DataFrame({'yhat':modelo.fittedvalues,\n",
    "                       'resid':modelo.resid})\n",
    "   \n",
    "    df['up'] = (np.square(df.resid))/np.sum(((np.square(df.resid))/df.shape[0]))\n",
    "   \n",
    "    modelo_aux = sm.OLS.from_formula('up ~ yhat', df).fit()\n",
    "   \n",
    "    anova_table = sm.stats.anova_lm(modelo_aux, typ=2)\n",
    "   \n",
    "    anova_table['sum_sq'] = anova_table['sum_sq']/2\n",
    "    \n",
    "    chisq = anova_table['sum_sq'].iloc[0]\n",
    "   \n",
    "    p_value = stats.chi2.pdf(chisq, 1)*2\n",
    "    \n",
    "    print(f\"chisq: {chisq}\")\n",
    "    \n",
    "    print(f\"p-value: {p_value}\")\n",
    "    \n",
    "    return chisq, p_value"
   ]
  },
  {
   "cell_type": "code",
   "execution_count": 73,
   "metadata": {},
   "outputs": [
    {
     "name": "stdout",
     "output_type": "stream",
     "text": [
      "chisq: 3.9241409207892106\n",
      "p-value: 0.05661759140598009\n"
     ]
    },
    {
     "data": {
      "text/plain": [
       "(3.9241409207892106, 0.05661759140598009)"
      ]
     },
     "execution_count": 73,
     "metadata": {},
     "output_type": "execute_result"
    }
   ],
   "source": [
    "breusch_pagan_test(modelo_sm_step)"
   ]
  },
  {
   "attachments": {},
   "cell_type": "markdown",
   "metadata": {},
   "source": [
    "> Resultou um p-val >0.05 , portanto o modelo NÃO apresentou HETEROCEDASTICIDADE!!!"
   ]
  },
  {
   "attachments": {},
   "cell_type": "markdown",
   "metadata": {},
   "source": [
    "### Transformação de Box-Cox"
   ]
  },
  {
   "attachments": {},
   "cell_type": "markdown",
   "metadata": {},
   "source": [
    "> Irei fazer a transformação de Box-Cox para tentar fazer com que os resíduos do modelo seja aderente à normal"
   ]
  },
  {
   "cell_type": "code",
   "execution_count": 74,
   "metadata": {},
   "outputs": [
    {
     "name": "stdout",
     "output_type": "stream",
     "text": [
      "Primeiros valores da variável target:  [21.53618779 23.57681468 25.94347743 29.33277212 23.99848251]\n",
      "lambda 0.7979813782707401\n"
     ]
    }
   ],
   "source": [
    "# Transformação de Box-Cox\n",
    "x, lmbda = boxcox(df_modelo['Preco_por_unidade_de_area'])\n",
    "\n",
    "print('Primeiros valores da variável target: ', x[:5])\n",
    "print('lambda', lmbda)"
   ]
  },
  {
   "cell_type": "code",
   "execution_count": 75,
   "metadata": {},
   "outputs": [
    {
     "data": {
      "text/html": [
       "<div>\n",
       "<style scoped>\n",
       "    .dataframe tbody tr th:only-of-type {\n",
       "        vertical-align: middle;\n",
       "    }\n",
       "\n",
       "    .dataframe tbody tr th {\n",
       "        vertical-align: top;\n",
       "    }\n",
       "\n",
       "    .dataframe thead th {\n",
       "        text-align: right;\n",
       "    }\n",
       "</style>\n",
       "<table border=\"1\" class=\"dataframe\">\n",
       "  <thead>\n",
       "    <tr style=\"text-align: right;\">\n",
       "      <th></th>\n",
       "      <th>Idade_casa</th>\n",
       "      <th>Distancia_da_estacao_metro</th>\n",
       "      <th>Numero_lojas_conveniencia</th>\n",
       "      <th>Ano_Transacao_2013</th>\n",
       "      <th>Mes_Transacao_Q2</th>\n",
       "      <th>Mes_Transacao_Q3</th>\n",
       "      <th>Mes_Transacao_Q4</th>\n",
       "      <th>Preco_por_unidade_de_area</th>\n",
       "    </tr>\n",
       "  </thead>\n",
       "  <tbody>\n",
       "    <tr>\n",
       "      <th>0</th>\n",
       "      <td>1.244653</td>\n",
       "      <td>-0.959923</td>\n",
       "      <td>1.983040</td>\n",
       "      <td>0</td>\n",
       "      <td>0</td>\n",
       "      <td>0</td>\n",
       "      <td>1</td>\n",
       "      <td>37.9</td>\n",
       "    </tr>\n",
       "    <tr>\n",
       "      <th>1</th>\n",
       "      <td>0.174269</td>\n",
       "      <td>-0.645261</td>\n",
       "      <td>1.625537</td>\n",
       "      <td>0</td>\n",
       "      <td>0</td>\n",
       "      <td>0</td>\n",
       "      <td>1</td>\n",
       "      <td>42.2</td>\n",
       "    </tr>\n",
       "    <tr>\n",
       "      <th>2</th>\n",
       "      <td>-0.356642</td>\n",
       "      <td>-0.282808</td>\n",
       "      <td>0.195525</td>\n",
       "      <td>1</td>\n",
       "      <td>0</td>\n",
       "      <td>1</td>\n",
       "      <td>0</td>\n",
       "      <td>47.3</td>\n",
       "    </tr>\n",
       "    <tr>\n",
       "      <th>3</th>\n",
       "      <td>-0.356642</td>\n",
       "      <td>-0.282808</td>\n",
       "      <td>0.195525</td>\n",
       "      <td>1</td>\n",
       "      <td>0</td>\n",
       "      <td>0</td>\n",
       "      <td>0</td>\n",
       "      <td>54.8</td>\n",
       "    </tr>\n",
       "    <tr>\n",
       "      <th>4</th>\n",
       "      <td>-1.067377</td>\n",
       "      <td>-0.526084</td>\n",
       "      <td>0.195525</td>\n",
       "      <td>0</td>\n",
       "      <td>0</td>\n",
       "      <td>0</td>\n",
       "      <td>1</td>\n",
       "      <td>43.1</td>\n",
       "    </tr>\n",
       "    <tr>\n",
       "      <th>...</th>\n",
       "      <td>...</td>\n",
       "      <td>...</td>\n",
       "      <td>...</td>\n",
       "      <td>...</td>\n",
       "      <td>...</td>\n",
       "      <td>...</td>\n",
       "      <td>...</td>\n",
       "      <td>...</td>\n",
       "    </tr>\n",
       "    <tr>\n",
       "      <th>368</th>\n",
       "      <td>0.088638</td>\n",
       "      <td>2.007464</td>\n",
       "      <td>-0.519482</td>\n",
       "      <td>1</td>\n",
       "      <td>1</td>\n",
       "      <td>0</td>\n",
       "      <td>0</td>\n",
       "      <td>28.1</td>\n",
       "    </tr>\n",
       "    <tr>\n",
       "      <th>369</th>\n",
       "      <td>-1.015998</td>\n",
       "      <td>-0.952008</td>\n",
       "      <td>1.625537</td>\n",
       "      <td>0</td>\n",
       "      <td>0</td>\n",
       "      <td>1</td>\n",
       "      <td>0</td>\n",
       "      <td>50.0</td>\n",
       "    </tr>\n",
       "    <tr>\n",
       "      <th>370</th>\n",
       "      <td>0.114327</td>\n",
       "      <td>-0.525514</td>\n",
       "      <td>0.910531</td>\n",
       "      <td>1</td>\n",
       "      <td>0</td>\n",
       "      <td>0</td>\n",
       "      <td>0</td>\n",
       "      <td>40.6</td>\n",
       "    </tr>\n",
       "    <tr>\n",
       "      <th>371</th>\n",
       "      <td>-0.801921</td>\n",
       "      <td>-0.931636</td>\n",
       "      <td>0.195525</td>\n",
       "      <td>1</td>\n",
       "      <td>0</td>\n",
       "      <td>0</td>\n",
       "      <td>0</td>\n",
       "      <td>52.5</td>\n",
       "    </tr>\n",
       "    <tr>\n",
       "      <th>372</th>\n",
       "      <td>-0.938930</td>\n",
       "      <td>-0.952008</td>\n",
       "      <td>1.625537</td>\n",
       "      <td>1</td>\n",
       "      <td>0</td>\n",
       "      <td>0</td>\n",
       "      <td>0</td>\n",
       "      <td>63.9</td>\n",
       "    </tr>\n",
       "  </tbody>\n",
       "</table>\n",
       "<p>373 rows × 8 columns</p>\n",
       "</div>"
      ],
      "text/plain": [
       "     Idade_casa  Distancia_da_estacao_metro  Numero_lojas_conveniencia  \\\n",
       "0      1.244653                   -0.959923                   1.983040   \n",
       "1      0.174269                   -0.645261                   1.625537   \n",
       "2     -0.356642                   -0.282808                   0.195525   \n",
       "3     -0.356642                   -0.282808                   0.195525   \n",
       "4     -1.067377                   -0.526084                   0.195525   \n",
       "..          ...                         ...                        ...   \n",
       "368    0.088638                    2.007464                  -0.519482   \n",
       "369   -1.015998                   -0.952008                   1.625537   \n",
       "370    0.114327                   -0.525514                   0.910531   \n",
       "371   -0.801921                   -0.931636                   0.195525   \n",
       "372   -0.938930                   -0.952008                   1.625537   \n",
       "\n",
       "     Ano_Transacao_2013  Mes_Transacao_Q2  Mes_Transacao_Q3  Mes_Transacao_Q4  \\\n",
       "0                     0                 0                 0                 1   \n",
       "1                     0                 0                 0                 1   \n",
       "2                     1                 0                 1                 0   \n",
       "3                     1                 0                 0                 0   \n",
       "4                     0                 0                 0                 1   \n",
       "..                  ...               ...               ...               ...   \n",
       "368                   1                 1                 0                 0   \n",
       "369                   0                 0                 1                 0   \n",
       "370                   1                 0                 0                 0   \n",
       "371                   1                 0                 0                 0   \n",
       "372                   1                 0                 0                 0   \n",
       "\n",
       "     Preco_por_unidade_de_area  \n",
       "0                         37.9  \n",
       "1                         42.2  \n",
       "2                         47.3  \n",
       "3                         54.8  \n",
       "4                         43.1  \n",
       "..                         ...  \n",
       "368                       28.1  \n",
       "369                       50.0  \n",
       "370                       40.6  \n",
       "371                       52.5  \n",
       "372                       63.9  \n",
       "\n",
       "[373 rows x 8 columns]"
      ]
     },
     "execution_count": 75,
     "metadata": {},
     "output_type": "execute_result"
    }
   ],
   "source": [
    "df_modelo"
   ]
  },
  {
   "cell_type": "code",
   "execution_count": 76,
   "metadata": {},
   "outputs": [],
   "source": [
    "# Inserindo o lambda de Box-Cox no dataset para a estimação de um novo modelo (após a transformação)\n",
    "df_modelo_bc = df_modelo.copy()\n",
    "df_modelo_bc['Preco_por_unidade_de_area'] = x"
   ]
  },
  {
   "cell_type": "code",
   "execution_count": 77,
   "metadata": {},
   "outputs": [],
   "source": [
    "# Criando modelo com os novos dados\n",
    "modelo_sm_bc = sm.OLS.from_formula('Preco_por_unidade_de_area ~ Idade_casa + Distancia_da_estacao_metro +\\\n",
    "                                            Numero_lojas_conveniencia + Ano_Transacao_2013 + Mes_Transacao_Q2 +\\\n",
    "                                            Mes_Transacao_Q3 + Mes_Transacao_Q4', df_modelo_bc).fit()"
   ]
  },
  {
   "cell_type": "code",
   "execution_count": 78,
   "metadata": {},
   "outputs": [
    {
     "data": {
      "text/html": [
       "<table class=\"simpletable\">\n",
       "<caption>OLS Regression Results</caption>\n",
       "<tr>\n",
       "  <th>Dep. Variable:</th>    <td>Preco_por_unidade_de_area</td> <th>  R-squared:         </th> <td>   0.573</td>\n",
       "</tr>\n",
       "<tr>\n",
       "  <th>Model:</th>                       <td>OLS</td>            <th>  Adj. R-squared:    </th> <td>   0.564</td>\n",
       "</tr>\n",
       "<tr>\n",
       "  <th>Method:</th>                 <td>Least Squares</td>       <th>  F-statistic:       </th> <td>   69.84</td>\n",
       "</tr>\n",
       "<tr>\n",
       "  <th>Date:</th>                 <td>Thu, 23 Mar 2023</td>      <th>  Prob (F-statistic):</th> <td>1.50e-63</td>\n",
       "</tr>\n",
       "<tr>\n",
       "  <th>Time:</th>                     <td>11:22:41</td>          <th>  Log-Likelihood:    </th> <td> -1008.8</td>\n",
       "</tr>\n",
       "<tr>\n",
       "  <th>No. Observations:</th>          <td>   373</td>           <th>  AIC:               </th> <td>   2034.</td>\n",
       "</tr>\n",
       "<tr>\n",
       "  <th>Df Residuals:</th>              <td>   365</td>           <th>  BIC:               </th> <td>   2065.</td>\n",
       "</tr>\n",
       "<tr>\n",
       "  <th>Df Model:</th>                  <td>     7</td>           <th>                     </th>     <td> </td>   \n",
       "</tr>\n",
       "<tr>\n",
       "  <th>Covariance Type:</th>          <td>nonrobust</td>         <th>                     </th>     <td> </td>   \n",
       "</tr>\n",
       "</table>\n",
       "<table class=\"simpletable\">\n",
       "<tr>\n",
       "               <td></td>                 <th>coef</th>     <th>std err</th>      <th>t</th>      <th>P>|t|</th>  <th>[0.025</th>    <th>0.975]</th>  \n",
       "</tr>\n",
       "<tr>\n",
       "  <th>Intercept</th>                  <td>   20.9534</td> <td>    0.622</td> <td>   33.699</td> <td> 0.000</td> <td>   19.731</td> <td>   22.176</td>\n",
       "</tr>\n",
       "<tr>\n",
       "  <th>Idade_casa</th>                 <td>   -1.6434</td> <td>    0.191</td> <td>   -8.606</td> <td> 0.000</td> <td>   -2.019</td> <td>   -1.268</td>\n",
       "</tr>\n",
       "<tr>\n",
       "  <th>Distancia_da_estacao_metro</th> <td>   -3.0325</td> <td>    0.229</td> <td>  -13.266</td> <td> 0.000</td> <td>   -3.482</td> <td>   -2.583</td>\n",
       "</tr>\n",
       "<tr>\n",
       "  <th>Numero_lojas_conveniencia</th>  <td>    1.3541</td> <td>    0.229</td> <td>    5.922</td> <td> 0.000</td> <td>    0.904</td> <td>    1.804</td>\n",
       "</tr>\n",
       "<tr>\n",
       "  <th>Ano_Transacao_2013</th>         <td>    1.6425</td> <td>    0.644</td> <td>    2.550</td> <td> 0.011</td> <td>    0.376</td> <td>    2.909</td>\n",
       "</tr>\n",
       "<tr>\n",
       "  <th>Mes_Transacao_Q2</th>           <td>   -0.7784</td> <td>    0.503</td> <td>   -1.548</td> <td> 0.122</td> <td>   -1.767</td> <td>    0.210</td>\n",
       "</tr>\n",
       "<tr>\n",
       "  <th>Mes_Transacao_Q3</th>           <td>    0.6561</td> <td>    0.663</td> <td>    0.989</td> <td> 0.323</td> <td>   -0.648</td> <td>    1.960</td>\n",
       "</tr>\n",
       "<tr>\n",
       "  <th>Mes_Transacao_Q4</th>           <td>    0.3744</td> <td>    0.773</td> <td>    0.484</td> <td> 0.628</td> <td>   -1.145</td> <td>    1.894</td>\n",
       "</tr>\n",
       "</table>\n",
       "<table class=\"simpletable\">\n",
       "<tr>\n",
       "  <th>Omnibus:</th>       <td>48.874</td> <th>  Durbin-Watson:     </th> <td>   2.001</td>\n",
       "</tr>\n",
       "<tr>\n",
       "  <th>Prob(Omnibus):</th> <td> 0.000</td> <th>  Jarque-Bera (JB):  </th> <td> 262.947</td>\n",
       "</tr>\n",
       "<tr>\n",
       "  <th>Skew:</th>          <td> 0.355</td> <th>  Prob(JB):          </th> <td>7.98e-58</td>\n",
       "</tr>\n",
       "<tr>\n",
       "  <th>Kurtosis:</th>      <td> 7.051</td> <th>  Cond. No.          </th> <td>    7.92</td>\n",
       "</tr>\n",
       "</table><br/><br/>Notes:<br/>[1] Standard Errors assume that the covariance matrix of the errors is correctly specified."
      ],
      "text/plain": [
       "<class 'statsmodels.iolib.summary.Summary'>\n",
       "\"\"\"\n",
       "                                OLS Regression Results                               \n",
       "=====================================================================================\n",
       "Dep. Variable:     Preco_por_unidade_de_area   R-squared:                       0.573\n",
       "Model:                                   OLS   Adj. R-squared:                  0.564\n",
       "Method:                        Least Squares   F-statistic:                     69.84\n",
       "Date:                       Thu, 23 Mar 2023   Prob (F-statistic):           1.50e-63\n",
       "Time:                               11:22:41   Log-Likelihood:                -1008.8\n",
       "No. Observations:                        373   AIC:                             2034.\n",
       "Df Residuals:                            365   BIC:                             2065.\n",
       "Df Model:                                  7                                         \n",
       "Covariance Type:                   nonrobust                                         \n",
       "==============================================================================================\n",
       "                                 coef    std err          t      P>|t|      [0.025      0.975]\n",
       "----------------------------------------------------------------------------------------------\n",
       "Intercept                     20.9534      0.622     33.699      0.000      19.731      22.176\n",
       "Idade_casa                    -1.6434      0.191     -8.606      0.000      -2.019      -1.268\n",
       "Distancia_da_estacao_metro    -3.0325      0.229    -13.266      0.000      -3.482      -2.583\n",
       "Numero_lojas_conveniencia      1.3541      0.229      5.922      0.000       0.904       1.804\n",
       "Ano_Transacao_2013             1.6425      0.644      2.550      0.011       0.376       2.909\n",
       "Mes_Transacao_Q2              -0.7784      0.503     -1.548      0.122      -1.767       0.210\n",
       "Mes_Transacao_Q3               0.6561      0.663      0.989      0.323      -0.648       1.960\n",
       "Mes_Transacao_Q4               0.3744      0.773      0.484      0.628      -1.145       1.894\n",
       "==============================================================================\n",
       "Omnibus:                       48.874   Durbin-Watson:                   2.001\n",
       "Prob(Omnibus):                  0.000   Jarque-Bera (JB):              262.947\n",
       "Skew:                           0.355   Prob(JB):                     7.98e-58\n",
       "Kurtosis:                       7.051   Cond. No.                         7.92\n",
       "==============================================================================\n",
       "\n",
       "Notes:\n",
       "[1] Standard Errors assume that the covariance matrix of the errors is correctly specified.\n",
       "\"\"\""
      ]
     },
     "execution_count": 78,
     "metadata": {},
     "output_type": "execute_result"
    }
   ],
   "source": [
    "# Summary\n",
    "modelo_sm_bc.summary()"
   ]
  },
  {
   "cell_type": "code",
   "execution_count": 79,
   "metadata": {},
   "outputs": [
    {
     "name": "stdout",
     "output_type": "stream",
     "text": [
      "Regression type: OLS \n",
      "\n",
      "Estimating model...: \n",
      " Preco_por_unidade_de_area ~ Idade_casa + Distancia_da_estacao_metro + Numero_lojas_conveniencia + Ano_Transacao_2013 + Mes_Transacao_Q2 + Mes_Transacao_Q3 + Mes_Transacao_Q4\n",
      "\n",
      " Discarding atribute \"Mes_Transacao_Q4\" with p-value equal to 0.6283356353521704 \n",
      "\n",
      "Estimating model...: \n",
      " Preco_por_unidade_de_area ~ Idade_casa + Distancia_da_estacao_metro + Numero_lojas_conveniencia + Ano_Transacao_2013 + Mes_Transacao_Q2 + Mes_Transacao_Q3\n",
      "\n",
      " Discarding atribute \"Mes_Transacao_Q3\" with p-value equal to 0.3882753234291486 \n",
      "\n",
      "Estimating model...: \n",
      " Preco_por_unidade_de_area ~ Idade_casa + Distancia_da_estacao_metro + Numero_lojas_conveniencia + Ano_Transacao_2013 + Mes_Transacao_Q2\n",
      "\n",
      " Discarding atribute \"Mes_Transacao_Q2\" with p-value equal to 0.08671375249898838 \n",
      "\n",
      "Estimating model...: \n",
      " Preco_por_unidade_de_area ~ Idade_casa + Distancia_da_estacao_metro + Numero_lojas_conveniencia + Ano_Transacao_2013\n",
      "\n",
      " No more atributes with p-value higher than 0.05\n",
      "\n",
      " Atributes discarded on the process...: \n",
      "\n",
      "{'atribute': 'Mes_Transacao_Q4', 'p-value': 0.6283356353521704}\n",
      "{'atribute': 'Mes_Transacao_Q3', 'p-value': 0.3882753234291486}\n",
      "{'atribute': 'Mes_Transacao_Q2', 'p-value': 0.08671375249898838}\n",
      "\n",
      " Model after stepwise process...: \n",
      " Preco_por_unidade_de_area ~ Idade_casa + Distancia_da_estacao_metro + Numero_lojas_conveniencia + Ano_Transacao_2013 \n",
      "\n",
      "                                OLS Regression Results                               \n",
      "=====================================================================================\n",
      "Dep. Variable:     Preco_por_unidade_de_area   R-squared:                       0.568\n",
      "Model:                                   OLS   Adj. R-squared:                  0.563\n",
      "Method:                        Least Squares   F-statistic:                     120.9\n",
      "Date:                       Thu, 23 Mar 2023   Prob (F-statistic):           9.10e-66\n",
      "Time:                               11:22:41   Log-Likelihood:                -1010.8\n",
      "No. Observations:                        373   AIC:                             2032.\n",
      "Df Residuals:                            368   BIC:                             2051.\n",
      "Df Model:                                  4                                         \n",
      "Covariance Type:                   nonrobust                                         \n",
      "==============================================================================================\n",
      "                                 coef    std err          t      P>|t|      [0.025      0.975]\n",
      "----------------------------------------------------------------------------------------------\n",
      "Intercept                     21.3208      0.340     62.680      0.000      20.652      21.990\n",
      "Idade_casa                    -1.6072      0.190     -8.446      0.000      -1.981      -1.233\n",
      "Distancia_da_estacao_metro    -3.0415      0.228    -13.358      0.000      -3.489      -2.594\n",
      "Numero_lojas_conveniencia      1.3409      0.228      5.890      0.000       0.893       1.789\n",
      "Ano_Transacao_2013             1.0858      0.410      2.649      0.008       0.280       1.892\n",
      "==============================================================================\n",
      "Omnibus:                       50.060   Durbin-Watson:                   1.984\n",
      "Prob(Omnibus):                  0.000   Jarque-Bera (JB):              284.104\n",
      "Skew:                           0.350   Prob(JB):                     2.03e-62\n",
      "Kurtosis:                       7.218   Cond. No.                         3.37\n",
      "==============================================================================\n",
      "\n",
      "Notes:\n",
      "[1] Standard Errors assume that the covariance matrix of the errors is correctly specified.\n"
     ]
    }
   ],
   "source": [
    "# Procedimento stepwise\n",
    "modelo_sm_bc_step = stepwise(modelo_sm_bc, pvalue_limit= 0.05)"
   ]
  },
  {
   "cell_type": "code",
   "execution_count": 80,
   "metadata": {},
   "outputs": [
    {
     "data": {
      "text/html": [
       "<table class=\"simpletable\">\n",
       "<caption>OLS Regression Results</caption>\n",
       "<tr>\n",
       "  <th>Dep. Variable:</th>    <td>Preco_por_unidade_de_area</td> <th>  R-squared:         </th> <td>   0.568</td>\n",
       "</tr>\n",
       "<tr>\n",
       "  <th>Model:</th>                       <td>OLS</td>            <th>  Adj. R-squared:    </th> <td>   0.563</td>\n",
       "</tr>\n",
       "<tr>\n",
       "  <th>Method:</th>                 <td>Least Squares</td>       <th>  F-statistic:       </th> <td>   120.9</td>\n",
       "</tr>\n",
       "<tr>\n",
       "  <th>Date:</th>                 <td>Thu, 23 Mar 2023</td>      <th>  Prob (F-statistic):</th> <td>9.10e-66</td>\n",
       "</tr>\n",
       "<tr>\n",
       "  <th>Time:</th>                     <td>11:22:41</td>          <th>  Log-Likelihood:    </th> <td> -1010.8</td>\n",
       "</tr>\n",
       "<tr>\n",
       "  <th>No. Observations:</th>          <td>   373</td>           <th>  AIC:               </th> <td>   2032.</td>\n",
       "</tr>\n",
       "<tr>\n",
       "  <th>Df Residuals:</th>              <td>   368</td>           <th>  BIC:               </th> <td>   2051.</td>\n",
       "</tr>\n",
       "<tr>\n",
       "  <th>Df Model:</th>                  <td>     4</td>           <th>                     </th>     <td> </td>   \n",
       "</tr>\n",
       "<tr>\n",
       "  <th>Covariance Type:</th>          <td>nonrobust</td>         <th>                     </th>     <td> </td>   \n",
       "</tr>\n",
       "</table>\n",
       "<table class=\"simpletable\">\n",
       "<tr>\n",
       "               <td></td>                 <th>coef</th>     <th>std err</th>      <th>t</th>      <th>P>|t|</th>  <th>[0.025</th>    <th>0.975]</th>  \n",
       "</tr>\n",
       "<tr>\n",
       "  <th>Intercept</th>                  <td>   21.3208</td> <td>    0.340</td> <td>   62.680</td> <td> 0.000</td> <td>   20.652</td> <td>   21.990</td>\n",
       "</tr>\n",
       "<tr>\n",
       "  <th>Idade_casa</th>                 <td>   -1.6072</td> <td>    0.190</td> <td>   -8.446</td> <td> 0.000</td> <td>   -1.981</td> <td>   -1.233</td>\n",
       "</tr>\n",
       "<tr>\n",
       "  <th>Distancia_da_estacao_metro</th> <td>   -3.0415</td> <td>    0.228</td> <td>  -13.358</td> <td> 0.000</td> <td>   -3.489</td> <td>   -2.594</td>\n",
       "</tr>\n",
       "<tr>\n",
       "  <th>Numero_lojas_conveniencia</th>  <td>    1.3409</td> <td>    0.228</td> <td>    5.890</td> <td> 0.000</td> <td>    0.893</td> <td>    1.789</td>\n",
       "</tr>\n",
       "<tr>\n",
       "  <th>Ano_Transacao_2013</th>         <td>    1.0858</td> <td>    0.410</td> <td>    2.649</td> <td> 0.008</td> <td>    0.280</td> <td>    1.892</td>\n",
       "</tr>\n",
       "</table>\n",
       "<table class=\"simpletable\">\n",
       "<tr>\n",
       "  <th>Omnibus:</th>       <td>50.060</td> <th>  Durbin-Watson:     </th> <td>   1.984</td>\n",
       "</tr>\n",
       "<tr>\n",
       "  <th>Prob(Omnibus):</th> <td> 0.000</td> <th>  Jarque-Bera (JB):  </th> <td> 284.104</td>\n",
       "</tr>\n",
       "<tr>\n",
       "  <th>Skew:</th>          <td> 0.350</td> <th>  Prob(JB):          </th> <td>2.03e-62</td>\n",
       "</tr>\n",
       "<tr>\n",
       "  <th>Kurtosis:</th>      <td> 7.218</td> <th>  Cond. No.          </th> <td>    3.37</td>\n",
       "</tr>\n",
       "</table><br/><br/>Notes:<br/>[1] Standard Errors assume that the covariance matrix of the errors is correctly specified."
      ],
      "text/plain": [
       "<class 'statsmodels.iolib.summary.Summary'>\n",
       "\"\"\"\n",
       "                                OLS Regression Results                               \n",
       "=====================================================================================\n",
       "Dep. Variable:     Preco_por_unidade_de_area   R-squared:                       0.568\n",
       "Model:                                   OLS   Adj. R-squared:                  0.563\n",
       "Method:                        Least Squares   F-statistic:                     120.9\n",
       "Date:                       Thu, 23 Mar 2023   Prob (F-statistic):           9.10e-66\n",
       "Time:                               11:22:41   Log-Likelihood:                -1010.8\n",
       "No. Observations:                        373   AIC:                             2032.\n",
       "Df Residuals:                            368   BIC:                             2051.\n",
       "Df Model:                                  4                                         \n",
       "Covariance Type:                   nonrobust                                         \n",
       "==============================================================================================\n",
       "                                 coef    std err          t      P>|t|      [0.025      0.975]\n",
       "----------------------------------------------------------------------------------------------\n",
       "Intercept                     21.3208      0.340     62.680      0.000      20.652      21.990\n",
       "Idade_casa                    -1.6072      0.190     -8.446      0.000      -1.981      -1.233\n",
       "Distancia_da_estacao_metro    -3.0415      0.228    -13.358      0.000      -3.489      -2.594\n",
       "Numero_lojas_conveniencia      1.3409      0.228      5.890      0.000       0.893       1.789\n",
       "Ano_Transacao_2013             1.0858      0.410      2.649      0.008       0.280       1.892\n",
       "==============================================================================\n",
       "Omnibus:                       50.060   Durbin-Watson:                   1.984\n",
       "Prob(Omnibus):                  0.000   Jarque-Bera (JB):              284.104\n",
       "Skew:                           0.350   Prob(JB):                     2.03e-62\n",
       "Kurtosis:                       7.218   Cond. No.                         3.37\n",
       "==============================================================================\n",
       "\n",
       "Notes:\n",
       "[1] Standard Errors assume that the covariance matrix of the errors is correctly specified.\n",
       "\"\"\""
      ]
     },
     "execution_count": 80,
     "metadata": {},
     "output_type": "execute_result"
    }
   ],
   "source": [
    "# Summary do modelo pós stepwise\n",
    "modelo_sm_bc_step.summary()"
   ]
  },
  {
   "attachments": {},
   "cell_type": "markdown",
   "metadata": {},
   "source": [
    "> Fazendo teste Shapiro Francia novamente pra ver se o problema de aderência dos Resíduos à normalidade foi solucionado"
   ]
  },
  {
   "cell_type": "code",
   "execution_count": 81,
   "metadata": {},
   "outputs": [
    {
     "data": {
      "text/plain": [
       "{'method': 'Shapiro-Francia normality test',\n",
       " 'statistics W': 0.9388818381971293,\n",
       " 'statistics z': 6.106213956711571,\n",
       " 'p-value': 5.101111241811176e-10}"
      ]
     },
     "execution_count": 81,
     "metadata": {},
     "output_type": "execute_result"
    }
   ],
   "source": [
    "shapiroFrancia(modelo_sm_bc_step.resid)"
   ]
  },
  {
   "attachments": {},
   "cell_type": "markdown",
   "metadata": {},
   "source": [
    "## Conclusão"
   ]
  },
  {
   "attachments": {},
   "cell_type": "markdown",
   "metadata": {},
   "source": [
    "> Apesar de o modelo não apresentar mais heterocedasticidade, o modelo continuou com o problema de não aderência à normalidade dos resíduos.  \n",
    "> Portanto isso pode afetar as estimativas dos coeficientes de regressão, além de afetar a validade dos testes estatítisticos como o teste t e F por exemplo.  "
   ]
  },
  {
   "attachments": {},
   "cell_type": "markdown",
   "metadata": {},
   "source": [
    "> Logo, o ideal é procurar outros modelos mais sofisticados para fazer a predição dessa base de dados em específico (como RNN, Ensemble, modelos hierárquicos, mistos, etc).  >\n",
    "> Além disso, mesmo que tivessemos tido um modelo adequado, nossa acurácia não foi tão alta, com um valor de aproximadamente 56%"
   ]
  }
 ],
 "metadata": {
  "kernelspec": {
   "display_name": "base",
   "language": "python",
   "name": "python3"
  },
  "language_info": {
   "codemirror_mode": {
    "name": "ipython",
    "version": 3
   },
   "file_extension": ".py",
   "mimetype": "text/x-python",
   "name": "python",
   "nbconvert_exporter": "python",
   "pygments_lexer": "ipython3",
   "version": "3.9.13"
  },
  "orig_nbformat": 4
 },
 "nbformat": 4,
 "nbformat_minor": 2
}
