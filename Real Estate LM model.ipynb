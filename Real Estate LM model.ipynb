{
 "cells": [
  {
   "attachments": {},
   "cell_type": "markdown",
   "metadata": {},
   "source": [
    "# Real Estate Price Predictions"
   ]
  },
  {
   "attachments": {},
   "cell_type": "markdown",
   "metadata": {},
   "source": [
    "Notebook com predição do preço por unidade de área de casas.  \n",
    "Dataset extraído do kaggle (https://www.kaggle.com/datasets/quantbruce/real-estate-price-prediction)"
   ]
  },
  {
   "cell_type": "code",
   "execution_count": 1,
   "metadata": {},
   "outputs": [],
   "source": [
    "# Importando pacotes\n",
    "import pandas as pd\n",
    "import numpy as np\n",
    "import seaborn as sns\n",
    "import matplotlib.pyplot as plt\n",
    "from scipy import stats\n",
    "from scipy.stats import pearsonr\n",
    "from sklearn.preprocessing import StandardScaler\n",
    "from sklearn.model_selection import train_test_split\n",
    "from sklearn.linear_model import LinearRegression\n",
    "import statsmodels.api as sm\n",
    "from sklearn.metrics import mean_absolute_error, mean_squared_error, r2_score, explained_variance_score\n",
    "from stepwise_process.statsmodels import stepwise\n",
    "import re\n",
    "import warnings\n",
    "\n",
    "warnings.filterwarnings(\"ignore\")"
   ]
  },
  {
   "cell_type": "code",
   "execution_count": 2,
   "metadata": {},
   "outputs": [],
   "source": [
    "# Visualizando os dados\n",
    "df = pd.read_csv('Real estate.csv')"
   ]
  },
  {
   "cell_type": "code",
   "execution_count": 3,
   "metadata": {},
   "outputs": [
    {
     "data": {
      "text/html": [
       "<div>\n",
       "<style scoped>\n",
       "    .dataframe tbody tr th:only-of-type {\n",
       "        vertical-align: middle;\n",
       "    }\n",
       "\n",
       "    .dataframe tbody tr th {\n",
       "        vertical-align: top;\n",
       "    }\n",
       "\n",
       "    .dataframe thead th {\n",
       "        text-align: right;\n",
       "    }\n",
       "</style>\n",
       "<table border=\"1\" class=\"dataframe\">\n",
       "  <thead>\n",
       "    <tr style=\"text-align: right;\">\n",
       "      <th></th>\n",
       "      <th>No</th>\n",
       "      <th>X1 transaction date</th>\n",
       "      <th>X2 house age</th>\n",
       "      <th>X3 distance to the nearest MRT station</th>\n",
       "      <th>X4 number of convenience stores</th>\n",
       "      <th>X5 latitude</th>\n",
       "      <th>X6 longitude</th>\n",
       "      <th>Y house price of unit area</th>\n",
       "    </tr>\n",
       "  </thead>\n",
       "  <tbody>\n",
       "    <tr>\n",
       "      <th>0</th>\n",
       "      <td>1</td>\n",
       "      <td>2012.917</td>\n",
       "      <td>32.0</td>\n",
       "      <td>84.87882</td>\n",
       "      <td>10</td>\n",
       "      <td>24.98298</td>\n",
       "      <td>121.54024</td>\n",
       "      <td>37.9</td>\n",
       "    </tr>\n",
       "    <tr>\n",
       "      <th>1</th>\n",
       "      <td>2</td>\n",
       "      <td>2012.917</td>\n",
       "      <td>19.5</td>\n",
       "      <td>306.59470</td>\n",
       "      <td>9</td>\n",
       "      <td>24.98034</td>\n",
       "      <td>121.53951</td>\n",
       "      <td>42.2</td>\n",
       "    </tr>\n",
       "    <tr>\n",
       "      <th>2</th>\n",
       "      <td>3</td>\n",
       "      <td>2013.583</td>\n",
       "      <td>13.3</td>\n",
       "      <td>561.98450</td>\n",
       "      <td>5</td>\n",
       "      <td>24.98746</td>\n",
       "      <td>121.54391</td>\n",
       "      <td>47.3</td>\n",
       "    </tr>\n",
       "    <tr>\n",
       "      <th>3</th>\n",
       "      <td>4</td>\n",
       "      <td>2013.500</td>\n",
       "      <td>13.3</td>\n",
       "      <td>561.98450</td>\n",
       "      <td>5</td>\n",
       "      <td>24.98746</td>\n",
       "      <td>121.54391</td>\n",
       "      <td>54.8</td>\n",
       "    </tr>\n",
       "    <tr>\n",
       "      <th>4</th>\n",
       "      <td>5</td>\n",
       "      <td>2012.833</td>\n",
       "      <td>5.0</td>\n",
       "      <td>390.56840</td>\n",
       "      <td>5</td>\n",
       "      <td>24.97937</td>\n",
       "      <td>121.54245</td>\n",
       "      <td>43.1</td>\n",
       "    </tr>\n",
       "  </tbody>\n",
       "</table>\n",
       "</div>"
      ],
      "text/plain": [
       "   No  X1 transaction date  X2 house age  \\\n",
       "0   1             2012.917          32.0   \n",
       "1   2             2012.917          19.5   \n",
       "2   3             2013.583          13.3   \n",
       "3   4             2013.500          13.3   \n",
       "4   5             2012.833           5.0   \n",
       "\n",
       "   X3 distance to the nearest MRT station  X4 number of convenience stores  \\\n",
       "0                                84.87882                               10   \n",
       "1                               306.59470                                9   \n",
       "2                               561.98450                                5   \n",
       "3                               561.98450                                5   \n",
       "4                               390.56840                                5   \n",
       "\n",
       "   X5 latitude  X6 longitude  Y house price of unit area  \n",
       "0     24.98298     121.54024                        37.9  \n",
       "1     24.98034     121.53951                        42.2  \n",
       "2     24.98746     121.54391                        47.3  \n",
       "3     24.98746     121.54391                        54.8  \n",
       "4     24.97937     121.54245                        43.1  "
      ]
     },
     "execution_count": 3,
     "metadata": {},
     "output_type": "execute_result"
    }
   ],
   "source": [
    "df.head()"
   ]
  },
  {
   "cell_type": "markdown",
   "metadata": {},
   "source": [
    "#"
   ]
  },
  {
   "attachments": {},
   "cell_type": "markdown",
   "metadata": {},
   "source": [
    "## Data Cleaning"
   ]
  },
  {
   "cell_type": "code",
   "execution_count": 4,
   "metadata": {},
   "outputs": [],
   "source": [
    "# Drop da primeira coluna\n",
    "df.drop('No', axis=1, inplace = True)"
   ]
  },
  {
   "cell_type": "code",
   "execution_count": 5,
   "metadata": {},
   "outputs": [],
   "source": [
    "# Renomeando as colunas\n",
    "df.rename(columns= {'X1 transaction date': 'Data Transacao',\n",
    "                    'X2 house age': 'Idade casa',\n",
    "                    'X3 distance to the nearest MRT station': 'Distancia da estacao metro',\n",
    "                    'X4 number of convenience stores': 'Numero lojas conveniencia',\n",
    "                    'X5 latitude': 'Latitude',\n",
    "                    'X6 longitude': 'Longitude',\n",
    "                    'Y house price of unit area': 'Preco por unidade de area'}, inplace=True)"
   ]
  },
  {
   "cell_type": "code",
   "execution_count": 6,
   "metadata": {},
   "outputs": [
    {
     "data": {
      "text/html": [
       "<div>\n",
       "<style scoped>\n",
       "    .dataframe tbody tr th:only-of-type {\n",
       "        vertical-align: middle;\n",
       "    }\n",
       "\n",
       "    .dataframe tbody tr th {\n",
       "        vertical-align: top;\n",
       "    }\n",
       "\n",
       "    .dataframe thead th {\n",
       "        text-align: right;\n",
       "    }\n",
       "</style>\n",
       "<table border=\"1\" class=\"dataframe\">\n",
       "  <thead>\n",
       "    <tr style=\"text-align: right;\">\n",
       "      <th></th>\n",
       "      <th>Data Transacao</th>\n",
       "      <th>Idade casa</th>\n",
       "      <th>Distancia da estacao metro</th>\n",
       "      <th>Numero lojas conveniencia</th>\n",
       "      <th>Latitude</th>\n",
       "      <th>Longitude</th>\n",
       "      <th>Preco por unidade de area</th>\n",
       "    </tr>\n",
       "  </thead>\n",
       "  <tbody>\n",
       "    <tr>\n",
       "      <th>0</th>\n",
       "      <td>2012.917</td>\n",
       "      <td>32.0</td>\n",
       "      <td>84.87882</td>\n",
       "      <td>10</td>\n",
       "      <td>24.98298</td>\n",
       "      <td>121.54024</td>\n",
       "      <td>37.9</td>\n",
       "    </tr>\n",
       "    <tr>\n",
       "      <th>1</th>\n",
       "      <td>2012.917</td>\n",
       "      <td>19.5</td>\n",
       "      <td>306.59470</td>\n",
       "      <td>9</td>\n",
       "      <td>24.98034</td>\n",
       "      <td>121.53951</td>\n",
       "      <td>42.2</td>\n",
       "    </tr>\n",
       "    <tr>\n",
       "      <th>2</th>\n",
       "      <td>2013.583</td>\n",
       "      <td>13.3</td>\n",
       "      <td>561.98450</td>\n",
       "      <td>5</td>\n",
       "      <td>24.98746</td>\n",
       "      <td>121.54391</td>\n",
       "      <td>47.3</td>\n",
       "    </tr>\n",
       "    <tr>\n",
       "      <th>3</th>\n",
       "      <td>2013.500</td>\n",
       "      <td>13.3</td>\n",
       "      <td>561.98450</td>\n",
       "      <td>5</td>\n",
       "      <td>24.98746</td>\n",
       "      <td>121.54391</td>\n",
       "      <td>54.8</td>\n",
       "    </tr>\n",
       "    <tr>\n",
       "      <th>4</th>\n",
       "      <td>2012.833</td>\n",
       "      <td>5.0</td>\n",
       "      <td>390.56840</td>\n",
       "      <td>5</td>\n",
       "      <td>24.97937</td>\n",
       "      <td>121.54245</td>\n",
       "      <td>43.1</td>\n",
       "    </tr>\n",
       "  </tbody>\n",
       "</table>\n",
       "</div>"
      ],
      "text/plain": [
       "   Data Transacao  Idade casa  Distancia da estacao metro  \\\n",
       "0        2012.917        32.0                    84.87882   \n",
       "1        2012.917        19.5                   306.59470   \n",
       "2        2013.583        13.3                   561.98450   \n",
       "3        2013.500        13.3                   561.98450   \n",
       "4        2012.833         5.0                   390.56840   \n",
       "\n",
       "   Numero lojas conveniencia  Latitude  Longitude  Preco por unidade de area  \n",
       "0                         10  24.98298  121.54024                       37.9  \n",
       "1                          9  24.98034  121.53951                       42.2  \n",
       "2                          5  24.98746  121.54391                       47.3  \n",
       "3                          5  24.98746  121.54391                       54.8  \n",
       "4                          5  24.97937  121.54245                       43.1  "
      ]
     },
     "execution_count": 6,
     "metadata": {},
     "output_type": "execute_result"
    }
   ],
   "source": [
    "df.head()"
   ]
  },
  {
   "cell_type": "code",
   "execution_count": 7,
   "metadata": {},
   "outputs": [
    {
     "data": {
      "text/plain": [
       "0"
      ]
     },
     "execution_count": 7,
     "metadata": {},
     "output_type": "execute_result"
    }
   ],
   "source": [
    "# Verificação de registros duplicados\n",
    "df.duplicated().sum() # Não há"
   ]
  },
  {
   "cell_type": "code",
   "execution_count": 8,
   "metadata": {},
   "outputs": [
    {
     "data": {
      "text/plain": [
       "Data Transacao                0\n",
       "Idade casa                    0\n",
       "Distancia da estacao metro    0\n",
       "Numero lojas conveniencia     0\n",
       "Latitude                      0\n",
       "Longitude                     0\n",
       "Preco por unidade de area     0\n",
       "dtype: int64"
      ]
     },
     "execution_count": 8,
     "metadata": {},
     "output_type": "execute_result"
    }
   ],
   "source": [
    "# Verificação de valores ausentes\n",
    "df.isna().sum() # Não há"
   ]
  },
  {
   "attachments": {},
   "cell_type": "markdown",
   "metadata": {},
   "source": [
    "## Pré-Processamento de Dados"
   ]
  },
  {
   "cell_type": "code",
   "execution_count": 9,
   "metadata": {},
   "outputs": [],
   "source": [
    "# Separando a coluna \"Data Transacao\" em ano e mês.\n",
    "ano_mes = df['Data Transacao'].apply(lambda x: str(x).split('.'))\n",
    "\n",
    "ano = [year[0] for year in ano_mes]\n",
    "mes = [month[1] for month in ano_mes]\n",
    "\n",
    "df['Ano Transacao'] = ano\n",
    "df['Mes Transacao'] = mes\n"
   ]
  },
  {
   "cell_type": "code",
   "execution_count": 10,
   "metadata": {},
   "outputs": [
    {
     "data": {
      "text/html": [
       "<div>\n",
       "<style scoped>\n",
       "    .dataframe tbody tr th:only-of-type {\n",
       "        vertical-align: middle;\n",
       "    }\n",
       "\n",
       "    .dataframe tbody tr th {\n",
       "        vertical-align: top;\n",
       "    }\n",
       "\n",
       "    .dataframe thead th {\n",
       "        text-align: right;\n",
       "    }\n",
       "</style>\n",
       "<table border=\"1\" class=\"dataframe\">\n",
       "  <thead>\n",
       "    <tr style=\"text-align: right;\">\n",
       "      <th></th>\n",
       "      <th>Data Transacao</th>\n",
       "      <th>Idade casa</th>\n",
       "      <th>Distancia da estacao metro</th>\n",
       "      <th>Numero lojas conveniencia</th>\n",
       "      <th>Latitude</th>\n",
       "      <th>Longitude</th>\n",
       "      <th>Preco por unidade de area</th>\n",
       "      <th>Ano Transacao</th>\n",
       "      <th>Mes Transacao</th>\n",
       "    </tr>\n",
       "  </thead>\n",
       "  <tbody>\n",
       "    <tr>\n",
       "      <th>0</th>\n",
       "      <td>2012.917</td>\n",
       "      <td>32.0</td>\n",
       "      <td>84.87882</td>\n",
       "      <td>10</td>\n",
       "      <td>24.98298</td>\n",
       "      <td>121.54024</td>\n",
       "      <td>37.9</td>\n",
       "      <td>2012</td>\n",
       "      <td>917</td>\n",
       "    </tr>\n",
       "    <tr>\n",
       "      <th>1</th>\n",
       "      <td>2012.917</td>\n",
       "      <td>19.5</td>\n",
       "      <td>306.59470</td>\n",
       "      <td>9</td>\n",
       "      <td>24.98034</td>\n",
       "      <td>121.53951</td>\n",
       "      <td>42.2</td>\n",
       "      <td>2012</td>\n",
       "      <td>917</td>\n",
       "    </tr>\n",
       "    <tr>\n",
       "      <th>2</th>\n",
       "      <td>2013.583</td>\n",
       "      <td>13.3</td>\n",
       "      <td>561.98450</td>\n",
       "      <td>5</td>\n",
       "      <td>24.98746</td>\n",
       "      <td>121.54391</td>\n",
       "      <td>47.3</td>\n",
       "      <td>2013</td>\n",
       "      <td>583</td>\n",
       "    </tr>\n",
       "    <tr>\n",
       "      <th>3</th>\n",
       "      <td>2013.500</td>\n",
       "      <td>13.3</td>\n",
       "      <td>561.98450</td>\n",
       "      <td>5</td>\n",
       "      <td>24.98746</td>\n",
       "      <td>121.54391</td>\n",
       "      <td>54.8</td>\n",
       "      <td>2013</td>\n",
       "      <td>5</td>\n",
       "    </tr>\n",
       "    <tr>\n",
       "      <th>4</th>\n",
       "      <td>2012.833</td>\n",
       "      <td>5.0</td>\n",
       "      <td>390.56840</td>\n",
       "      <td>5</td>\n",
       "      <td>24.97937</td>\n",
       "      <td>121.54245</td>\n",
       "      <td>43.1</td>\n",
       "      <td>2012</td>\n",
       "      <td>833</td>\n",
       "    </tr>\n",
       "  </tbody>\n",
       "</table>\n",
       "</div>"
      ],
      "text/plain": [
       "   Data Transacao  Idade casa  Distancia da estacao metro  \\\n",
       "0        2012.917        32.0                    84.87882   \n",
       "1        2012.917        19.5                   306.59470   \n",
       "2        2013.583        13.3                   561.98450   \n",
       "3        2013.500        13.3                   561.98450   \n",
       "4        2012.833         5.0                   390.56840   \n",
       "\n",
       "   Numero lojas conveniencia  Latitude  Longitude  Preco por unidade de area  \\\n",
       "0                         10  24.98298  121.54024                       37.9   \n",
       "1                          9  24.98034  121.53951                       42.2   \n",
       "2                          5  24.98746  121.54391                       47.3   \n",
       "3                          5  24.98746  121.54391                       54.8   \n",
       "4                          5  24.97937  121.54245                       43.1   \n",
       "\n",
       "  Ano Transacao Mes Transacao  \n",
       "0          2012           917  \n",
       "1          2012           917  \n",
       "2          2013           583  \n",
       "3          2013             5  \n",
       "4          2012           833  "
      ]
     },
     "execution_count": 10,
     "metadata": {},
     "output_type": "execute_result"
    }
   ],
   "source": [
    "df.head()"
   ]
  },
  {
   "cell_type": "code",
   "execution_count": 11,
   "metadata": {},
   "outputs": [],
   "source": [
    "# Mudar posiçao das colunas de data e remover a inicial\n",
    "mudar_posicao1 = df.pop('Ano Transacao')\n",
    "mudar_posicao2 = df.pop('Mes Transacao')\n",
    "remove_coluna = df.pop('Data Transacao')\n",
    "\n",
    "df.insert(0, 'Ano Transacao', mudar_posicao1)\n",
    "df.insert(1, 'Mes Transacao', mudar_posicao2)"
   ]
  },
  {
   "cell_type": "code",
   "execution_count": 12,
   "metadata": {},
   "outputs": [
    {
     "data": {
      "text/html": [
       "<div>\n",
       "<style scoped>\n",
       "    .dataframe tbody tr th:only-of-type {\n",
       "        vertical-align: middle;\n",
       "    }\n",
       "\n",
       "    .dataframe tbody tr th {\n",
       "        vertical-align: top;\n",
       "    }\n",
       "\n",
       "    .dataframe thead th {\n",
       "        text-align: right;\n",
       "    }\n",
       "</style>\n",
       "<table border=\"1\" class=\"dataframe\">\n",
       "  <thead>\n",
       "    <tr style=\"text-align: right;\">\n",
       "      <th></th>\n",
       "      <th>Ano Transacao</th>\n",
       "      <th>Mes Transacao</th>\n",
       "      <th>Idade casa</th>\n",
       "      <th>Distancia da estacao metro</th>\n",
       "      <th>Numero lojas conveniencia</th>\n",
       "      <th>Latitude</th>\n",
       "      <th>Longitude</th>\n",
       "      <th>Preco por unidade de area</th>\n",
       "    </tr>\n",
       "  </thead>\n",
       "  <tbody>\n",
       "    <tr>\n",
       "      <th>0</th>\n",
       "      <td>2012</td>\n",
       "      <td>917</td>\n",
       "      <td>32.0</td>\n",
       "      <td>84.87882</td>\n",
       "      <td>10</td>\n",
       "      <td>24.98298</td>\n",
       "      <td>121.54024</td>\n",
       "      <td>37.9</td>\n",
       "    </tr>\n",
       "    <tr>\n",
       "      <th>1</th>\n",
       "      <td>2012</td>\n",
       "      <td>917</td>\n",
       "      <td>19.5</td>\n",
       "      <td>306.59470</td>\n",
       "      <td>9</td>\n",
       "      <td>24.98034</td>\n",
       "      <td>121.53951</td>\n",
       "      <td>42.2</td>\n",
       "    </tr>\n",
       "    <tr>\n",
       "      <th>2</th>\n",
       "      <td>2013</td>\n",
       "      <td>583</td>\n",
       "      <td>13.3</td>\n",
       "      <td>561.98450</td>\n",
       "      <td>5</td>\n",
       "      <td>24.98746</td>\n",
       "      <td>121.54391</td>\n",
       "      <td>47.3</td>\n",
       "    </tr>\n",
       "    <tr>\n",
       "      <th>3</th>\n",
       "      <td>2013</td>\n",
       "      <td>5</td>\n",
       "      <td>13.3</td>\n",
       "      <td>561.98450</td>\n",
       "      <td>5</td>\n",
       "      <td>24.98746</td>\n",
       "      <td>121.54391</td>\n",
       "      <td>54.8</td>\n",
       "    </tr>\n",
       "    <tr>\n",
       "      <th>4</th>\n",
       "      <td>2012</td>\n",
       "      <td>833</td>\n",
       "      <td>5.0</td>\n",
       "      <td>390.56840</td>\n",
       "      <td>5</td>\n",
       "      <td>24.97937</td>\n",
       "      <td>121.54245</td>\n",
       "      <td>43.1</td>\n",
       "    </tr>\n",
       "  </tbody>\n",
       "</table>\n",
       "</div>"
      ],
      "text/plain": [
       "  Ano Transacao Mes Transacao  Idade casa  Distancia da estacao metro  \\\n",
       "0          2012           917        32.0                    84.87882   \n",
       "1          2012           917        19.5                   306.59470   \n",
       "2          2013           583        13.3                   561.98450   \n",
       "3          2013             5        13.3                   561.98450   \n",
       "4          2012           833         5.0                   390.56840   \n",
       "\n",
       "   Numero lojas conveniencia  Latitude  Longitude  Preco por unidade de area  \n",
       "0                         10  24.98298  121.54024                       37.9  \n",
       "1                          9  24.98034  121.53951                       42.2  \n",
       "2                          5  24.98746  121.54391                       47.3  \n",
       "3                          5  24.98746  121.54391                       54.8  \n",
       "4                          5  24.97937  121.54245                       43.1  "
      ]
     },
     "execution_count": 12,
     "metadata": {},
     "output_type": "execute_result"
    }
   ],
   "source": [
    "df.head()"
   ]
  },
  {
   "cell_type": "code",
   "execution_count": 13,
   "metadata": {},
   "outputs": [
    {
     "data": {
      "text/html": [
       "<div>\n",
       "<style scoped>\n",
       "    .dataframe tbody tr th:only-of-type {\n",
       "        vertical-align: middle;\n",
       "    }\n",
       "\n",
       "    .dataframe tbody tr th {\n",
       "        vertical-align: top;\n",
       "    }\n",
       "\n",
       "    .dataframe thead th {\n",
       "        text-align: right;\n",
       "    }\n",
       "</style>\n",
       "<table border=\"1\" class=\"dataframe\">\n",
       "  <thead>\n",
       "    <tr style=\"text-align: right;\">\n",
       "      <th></th>\n",
       "      <th>Ano Transacao</th>\n",
       "      <th>Mes Transacao</th>\n",
       "      <th>Idade casa</th>\n",
       "      <th>Distancia da estacao metro</th>\n",
       "      <th>Numero lojas conveniencia</th>\n",
       "      <th>Latitude</th>\n",
       "      <th>Longitude</th>\n",
       "      <th>Preco por unidade de area</th>\n",
       "    </tr>\n",
       "  </thead>\n",
       "  <tbody>\n",
       "    <tr>\n",
       "      <th>0</th>\n",
       "      <td>2012</td>\n",
       "      <td>11.004440</td>\n",
       "      <td>32.0</td>\n",
       "      <td>84.87882</td>\n",
       "      <td>10</td>\n",
       "      <td>24.98298</td>\n",
       "      <td>121.54024</td>\n",
       "      <td>37.9</td>\n",
       "    </tr>\n",
       "    <tr>\n",
       "      <th>1</th>\n",
       "      <td>2012</td>\n",
       "      <td>11.004440</td>\n",
       "      <td>19.5</td>\n",
       "      <td>306.59470</td>\n",
       "      <td>9</td>\n",
       "      <td>24.98034</td>\n",
       "      <td>121.53951</td>\n",
       "      <td>42.2</td>\n",
       "    </tr>\n",
       "    <tr>\n",
       "      <th>2</th>\n",
       "      <td>2013</td>\n",
       "      <td>6.996280</td>\n",
       "      <td>13.3</td>\n",
       "      <td>561.98450</td>\n",
       "      <td>5</td>\n",
       "      <td>24.98746</td>\n",
       "      <td>121.54391</td>\n",
       "      <td>47.3</td>\n",
       "    </tr>\n",
       "    <tr>\n",
       "      <th>3</th>\n",
       "      <td>2013</td>\n",
       "      <td>0.060002</td>\n",
       "      <td>13.3</td>\n",
       "      <td>561.98450</td>\n",
       "      <td>5</td>\n",
       "      <td>24.98746</td>\n",
       "      <td>121.54391</td>\n",
       "      <td>54.8</td>\n",
       "    </tr>\n",
       "    <tr>\n",
       "      <th>4</th>\n",
       "      <td>2012</td>\n",
       "      <td>9.996400</td>\n",
       "      <td>5.0</td>\n",
       "      <td>390.56840</td>\n",
       "      <td>5</td>\n",
       "      <td>24.97937</td>\n",
       "      <td>121.54245</td>\n",
       "      <td>43.1</td>\n",
       "    </tr>\n",
       "  </tbody>\n",
       "</table>\n",
       "</div>"
      ],
      "text/plain": [
       "  Ano Transacao  Mes Transacao  Idade casa  Distancia da estacao metro  \\\n",
       "0          2012      11.004440        32.0                    84.87882   \n",
       "1          2012      11.004440        19.5                   306.59470   \n",
       "2          2013       6.996280        13.3                   561.98450   \n",
       "3          2013       0.060002        13.3                   561.98450   \n",
       "4          2012       9.996400         5.0                   390.56840   \n",
       "\n",
       "   Numero lojas conveniencia  Latitude  Longitude  Preco por unidade de area  \n",
       "0                         10  24.98298  121.54024                       37.9  \n",
       "1                          9  24.98034  121.53951                       42.2  \n",
       "2                          5  24.98746  121.54391                       47.3  \n",
       "3                          5  24.98746  121.54391                       54.8  \n",
       "4                          5  24.97937  121.54245                       43.1  "
      ]
     },
     "execution_count": 13,
     "metadata": {},
     "output_type": "execute_result"
    }
   ],
   "source": [
    "# Agora é preciso adequar a coluna 'Mes Transacao' para ficar de 0 a 12 (Jan-Dez)\n",
    "df['Mes Transacao'] = [int(mes)/83.33 for mes in df['Mes Transacao']]\n",
    "df.head()"
   ]
  },
  {
   "cell_type": "code",
   "execution_count": 14,
   "metadata": {},
   "outputs": [],
   "source": [
    "for i in range(0, len(df)):\n",
    "    if df['Mes Transacao'][i] < 1:\n",
    "         df['Mes Transacao'][i] = 1\n",
    "    elif df['Mes Transacao'][i] < 2:\n",
    "         df['Mes Transacao'][i] = 2\n",
    "    elif df['Mes Transacao'][i] < 3:\n",
    "         df['Mes Transacao'][i] = 3\n",
    "    elif df['Mes Transacao'][i] < 4:\n",
    "         df['Mes Transacao'][i] = 4\n",
    "    elif df['Mes Transacao'][i] < 5:\n",
    "         df['Mes Transacao'][i] = 5\n",
    "    elif df['Mes Transacao'][i] < 6:\n",
    "         df['Mes Transacao'][i] = 6\n",
    "    elif df['Mes Transacao'][i] < 7:\n",
    "         df['Mes Transacao'][i] = 7\n",
    "    elif df['Mes Transacao'][i] < 8:\n",
    "         df['Mes Transacao'][i] = 8\n",
    "    elif df['Mes Transacao'][i] < 9:\n",
    "         df['Mes Transacao'][i] = 9\n",
    "    elif df['Mes Transacao'][i] < 10:\n",
    "         df['Mes Transacao'][i] = 10\n",
    "    elif df['Mes Transacao'][i] < 11:\n",
    "         df['Mes Transacao'][i] = 11\n",
    "    elif df['Mes Transacao'][i] < 12:\n",
    "         df['Mes Transacao'][i] = 12\n",
    "\n",
    "# Transformndo a coluna de mês em inteiro\n",
    "df = df.astype({'Mes Transacao': 'int'})\n",
    "df = df.astype({'Ano Transacao': 'int'})"
   ]
  },
  {
   "cell_type": "code",
   "execution_count": 15,
   "metadata": {},
   "outputs": [
    {
     "data": {
      "text/html": [
       "<div>\n",
       "<style scoped>\n",
       "    .dataframe tbody tr th:only-of-type {\n",
       "        vertical-align: middle;\n",
       "    }\n",
       "\n",
       "    .dataframe tbody tr th {\n",
       "        vertical-align: top;\n",
       "    }\n",
       "\n",
       "    .dataframe thead th {\n",
       "        text-align: right;\n",
       "    }\n",
       "</style>\n",
       "<table border=\"1\" class=\"dataframe\">\n",
       "  <thead>\n",
       "    <tr style=\"text-align: right;\">\n",
       "      <th></th>\n",
       "      <th>Ano Transacao</th>\n",
       "      <th>Mes Transacao</th>\n",
       "      <th>Idade casa</th>\n",
       "      <th>Distancia da estacao metro</th>\n",
       "      <th>Numero lojas conveniencia</th>\n",
       "      <th>Latitude</th>\n",
       "      <th>Longitude</th>\n",
       "      <th>Preco por unidade de area</th>\n",
       "    </tr>\n",
       "  </thead>\n",
       "  <tbody>\n",
       "  </tbody>\n",
       "</table>\n",
       "</div>"
      ],
      "text/plain": [
       "Empty DataFrame\n",
       "Columns: [Ano Transacao, Mes Transacao, Idade casa, Distancia da estacao metro, Numero lojas conveniencia, Latitude, Longitude, Preco por unidade de area]\n",
       "Index: []"
      ]
     },
     "execution_count": 15,
     "metadata": {},
     "output_type": "execute_result"
    }
   ],
   "source": [
    "df[(df['Mes Transacao']== '1')]"
   ]
  },
  {
   "cell_type": "code",
   "execution_count": 16,
   "metadata": {},
   "outputs": [
    {
     "data": {
      "text/html": [
       "<div>\n",
       "<style scoped>\n",
       "    .dataframe tbody tr th:only-of-type {\n",
       "        vertical-align: middle;\n",
       "    }\n",
       "\n",
       "    .dataframe tbody tr th {\n",
       "        vertical-align: top;\n",
       "    }\n",
       "\n",
       "    .dataframe thead th {\n",
       "        text-align: right;\n",
       "    }\n",
       "</style>\n",
       "<table border=\"1\" class=\"dataframe\">\n",
       "  <thead>\n",
       "    <tr style=\"text-align: right;\">\n",
       "      <th></th>\n",
       "      <th>Ano Transacao</th>\n",
       "      <th>Mes Transacao</th>\n",
       "      <th>Idade casa</th>\n",
       "      <th>Distancia da estacao metro</th>\n",
       "      <th>Numero lojas conveniencia</th>\n",
       "      <th>Latitude</th>\n",
       "      <th>Longitude</th>\n",
       "      <th>Preco por unidade de area</th>\n",
       "    </tr>\n",
       "  </thead>\n",
       "  <tbody>\n",
       "    <tr>\n",
       "      <th>0</th>\n",
       "      <td>2012</td>\n",
       "      <td>12</td>\n",
       "      <td>32.0</td>\n",
       "      <td>84.87882</td>\n",
       "      <td>10</td>\n",
       "      <td>24.98298</td>\n",
       "      <td>121.54024</td>\n",
       "      <td>37.9</td>\n",
       "    </tr>\n",
       "    <tr>\n",
       "      <th>1</th>\n",
       "      <td>2012</td>\n",
       "      <td>12</td>\n",
       "      <td>19.5</td>\n",
       "      <td>306.59470</td>\n",
       "      <td>9</td>\n",
       "      <td>24.98034</td>\n",
       "      <td>121.53951</td>\n",
       "      <td>42.2</td>\n",
       "    </tr>\n",
       "    <tr>\n",
       "      <th>2</th>\n",
       "      <td>2013</td>\n",
       "      <td>7</td>\n",
       "      <td>13.3</td>\n",
       "      <td>561.98450</td>\n",
       "      <td>5</td>\n",
       "      <td>24.98746</td>\n",
       "      <td>121.54391</td>\n",
       "      <td>47.3</td>\n",
       "    </tr>\n",
       "    <tr>\n",
       "      <th>3</th>\n",
       "      <td>2013</td>\n",
       "      <td>1</td>\n",
       "      <td>13.3</td>\n",
       "      <td>561.98450</td>\n",
       "      <td>5</td>\n",
       "      <td>24.98746</td>\n",
       "      <td>121.54391</td>\n",
       "      <td>54.8</td>\n",
       "    </tr>\n",
       "    <tr>\n",
       "      <th>4</th>\n",
       "      <td>2012</td>\n",
       "      <td>10</td>\n",
       "      <td>5.0</td>\n",
       "      <td>390.56840</td>\n",
       "      <td>5</td>\n",
       "      <td>24.97937</td>\n",
       "      <td>121.54245</td>\n",
       "      <td>43.1</td>\n",
       "    </tr>\n",
       "  </tbody>\n",
       "</table>\n",
       "</div>"
      ],
      "text/plain": [
       "   Ano Transacao  Mes Transacao  Idade casa  Distancia da estacao metro  \\\n",
       "0           2012             12        32.0                    84.87882   \n",
       "1           2012             12        19.5                   306.59470   \n",
       "2           2013              7        13.3                   561.98450   \n",
       "3           2013              1        13.3                   561.98450   \n",
       "4           2012             10         5.0                   390.56840   \n",
       "\n",
       "   Numero lojas conveniencia  Latitude  Longitude  Preco por unidade de area  \n",
       "0                         10  24.98298  121.54024                       37.9  \n",
       "1                          9  24.98034  121.53951                       42.2  \n",
       "2                          5  24.98746  121.54391                       47.3  \n",
       "3                          5  24.98746  121.54391                       54.8  \n",
       "4                          5  24.97937  121.54245                       43.1  "
      ]
     },
     "execution_count": 16,
     "metadata": {},
     "output_type": "execute_result"
    }
   ],
   "source": [
    "df.head()"
   ]
  },
  {
   "cell_type": "code",
   "execution_count": 17,
   "metadata": {},
   "outputs": [
    {
     "data": {
      "text/html": [
       "<div>\n",
       "<style scoped>\n",
       "    .dataframe tbody tr th:only-of-type {\n",
       "        vertical-align: middle;\n",
       "    }\n",
       "\n",
       "    .dataframe tbody tr th {\n",
       "        vertical-align: top;\n",
       "    }\n",
       "\n",
       "    .dataframe thead th {\n",
       "        text-align: right;\n",
       "    }\n",
       "</style>\n",
       "<table border=\"1\" class=\"dataframe\">\n",
       "  <thead>\n",
       "    <tr style=\"text-align: right;\">\n",
       "      <th></th>\n",
       "      <th>Ano Transacao</th>\n",
       "      <th>Mes Transacao</th>\n",
       "      <th>Idade casa</th>\n",
       "      <th>Distancia da estacao metro</th>\n",
       "      <th>Numero lojas conveniencia</th>\n",
       "      <th>Preco por unidade de area</th>\n",
       "    </tr>\n",
       "  </thead>\n",
       "  <tbody>\n",
       "    <tr>\n",
       "      <th>0</th>\n",
       "      <td>2012</td>\n",
       "      <td>12</td>\n",
       "      <td>32.0</td>\n",
       "      <td>84.87882</td>\n",
       "      <td>10</td>\n",
       "      <td>37.9</td>\n",
       "    </tr>\n",
       "    <tr>\n",
       "      <th>1</th>\n",
       "      <td>2012</td>\n",
       "      <td>12</td>\n",
       "      <td>19.5</td>\n",
       "      <td>306.59470</td>\n",
       "      <td>9</td>\n",
       "      <td>42.2</td>\n",
       "    </tr>\n",
       "    <tr>\n",
       "      <th>2</th>\n",
       "      <td>2013</td>\n",
       "      <td>7</td>\n",
       "      <td>13.3</td>\n",
       "      <td>561.98450</td>\n",
       "      <td>5</td>\n",
       "      <td>47.3</td>\n",
       "    </tr>\n",
       "    <tr>\n",
       "      <th>3</th>\n",
       "      <td>2013</td>\n",
       "      <td>1</td>\n",
       "      <td>13.3</td>\n",
       "      <td>561.98450</td>\n",
       "      <td>5</td>\n",
       "      <td>54.8</td>\n",
       "    </tr>\n",
       "    <tr>\n",
       "      <th>4</th>\n",
       "      <td>2012</td>\n",
       "      <td>10</td>\n",
       "      <td>5.0</td>\n",
       "      <td>390.56840</td>\n",
       "      <td>5</td>\n",
       "      <td>43.1</td>\n",
       "    </tr>\n",
       "  </tbody>\n",
       "</table>\n",
       "</div>"
      ],
      "text/plain": [
       "   Ano Transacao  Mes Transacao  Idade casa  Distancia da estacao metro  \\\n",
       "0           2012             12        32.0                    84.87882   \n",
       "1           2012             12        19.5                   306.59470   \n",
       "2           2013              7        13.3                   561.98450   \n",
       "3           2013              1        13.3                   561.98450   \n",
       "4           2012             10         5.0                   390.56840   \n",
       "\n",
       "   Numero lojas conveniencia  Preco por unidade de area  \n",
       "0                         10                       37.9  \n",
       "1                          9                       42.2  \n",
       "2                          5                       47.3  \n",
       "3                          5                       54.8  \n",
       "4                          5                       43.1  "
      ]
     },
     "execution_count": 17,
     "metadata": {},
     "output_type": "execute_result"
    }
   ],
   "source": [
    "# Removendo as colunas 'Latitude' e 'Longitude' pois não serão necessárias.\n",
    "df.drop(['Latitude', 'Longitude'],axis =1 , inplace = True)\n",
    "df.head()"
   ]
  },
  {
   "attachments": {},
   "cell_type": "markdown",
   "metadata": {},
   "source": [
    "## Análise Exploratória"
   ]
  },
  {
   "cell_type": "code",
   "execution_count": 18,
   "metadata": {},
   "outputs": [
    {
     "data": {
      "text/html": [
       "<div>\n",
       "<style scoped>\n",
       "    .dataframe tbody tr th:only-of-type {\n",
       "        vertical-align: middle;\n",
       "    }\n",
       "\n",
       "    .dataframe tbody tr th {\n",
       "        vertical-align: top;\n",
       "    }\n",
       "\n",
       "    .dataframe thead th {\n",
       "        text-align: right;\n",
       "    }\n",
       "</style>\n",
       "<table border=\"1\" class=\"dataframe\">\n",
       "  <thead>\n",
       "    <tr style=\"text-align: right;\">\n",
       "      <th></th>\n",
       "      <th>Ano Transacao</th>\n",
       "      <th>Mes Transacao</th>\n",
       "      <th>Idade casa</th>\n",
       "      <th>Distancia da estacao metro</th>\n",
       "      <th>Numero lojas conveniencia</th>\n",
       "      <th>Preco por unidade de area</th>\n",
       "    </tr>\n",
       "  </thead>\n",
       "  <tbody>\n",
       "    <tr>\n",
       "      <th>count</th>\n",
       "      <td>414.000000</td>\n",
       "      <td>414.000000</td>\n",
       "      <td>414.000000</td>\n",
       "      <td>414.000000</td>\n",
       "      <td>414.000000</td>\n",
       "      <td>414.000000</td>\n",
       "    </tr>\n",
       "    <tr>\n",
       "      <th>mean</th>\n",
       "      <td>2012.695652</td>\n",
       "      <td>4.628019</td>\n",
       "      <td>17.712560</td>\n",
       "      <td>1083.885689</td>\n",
       "      <td>4.094203</td>\n",
       "      <td>37.980193</td>\n",
       "    </tr>\n",
       "    <tr>\n",
       "      <th>std</th>\n",
       "      <td>0.460687</td>\n",
       "      <td>3.880389</td>\n",
       "      <td>11.392485</td>\n",
       "      <td>1262.109595</td>\n",
       "      <td>2.945562</td>\n",
       "      <td>13.606488</td>\n",
       "    </tr>\n",
       "    <tr>\n",
       "      <th>min</th>\n",
       "      <td>2012.000000</td>\n",
       "      <td>1.000000</td>\n",
       "      <td>0.000000</td>\n",
       "      <td>23.382840</td>\n",
       "      <td>0.000000</td>\n",
       "      <td>7.600000</td>\n",
       "    </tr>\n",
       "    <tr>\n",
       "      <th>25%</th>\n",
       "      <td>2012.000000</td>\n",
       "      <td>1.000000</td>\n",
       "      <td>9.025000</td>\n",
       "      <td>289.324800</td>\n",
       "      <td>1.000000</td>\n",
       "      <td>27.700000</td>\n",
       "    </tr>\n",
       "    <tr>\n",
       "      <th>50%</th>\n",
       "      <td>2013.000000</td>\n",
       "      <td>4.000000</td>\n",
       "      <td>16.100000</td>\n",
       "      <td>492.231300</td>\n",
       "      <td>4.000000</td>\n",
       "      <td>38.450000</td>\n",
       "    </tr>\n",
       "    <tr>\n",
       "      <th>75%</th>\n",
       "      <td>2013.000000</td>\n",
       "      <td>7.000000</td>\n",
       "      <td>28.150000</td>\n",
       "      <td>1454.279000</td>\n",
       "      <td>6.000000</td>\n",
       "      <td>46.600000</td>\n",
       "    </tr>\n",
       "    <tr>\n",
       "      <th>max</th>\n",
       "      <td>2013.000000</td>\n",
       "      <td>12.000000</td>\n",
       "      <td>43.800000</td>\n",
       "      <td>6488.021000</td>\n",
       "      <td>10.000000</td>\n",
       "      <td>117.500000</td>\n",
       "    </tr>\n",
       "  </tbody>\n",
       "</table>\n",
       "</div>"
      ],
      "text/plain": [
       "       Ano Transacao  Mes Transacao  Idade casa  Distancia da estacao metro  \\\n",
       "count     414.000000     414.000000  414.000000                  414.000000   \n",
       "mean     2012.695652       4.628019   17.712560                 1083.885689   \n",
       "std         0.460687       3.880389   11.392485                 1262.109595   \n",
       "min      2012.000000       1.000000    0.000000                   23.382840   \n",
       "25%      2012.000000       1.000000    9.025000                  289.324800   \n",
       "50%      2013.000000       4.000000   16.100000                  492.231300   \n",
       "75%      2013.000000       7.000000   28.150000                 1454.279000   \n",
       "max      2013.000000      12.000000   43.800000                 6488.021000   \n",
       "\n",
       "       Numero lojas conveniencia  Preco por unidade de area  \n",
       "count                 414.000000                 414.000000  \n",
       "mean                    4.094203                  37.980193  \n",
       "std                     2.945562                  13.606488  \n",
       "min                     0.000000                   7.600000  \n",
       "25%                     1.000000                  27.700000  \n",
       "50%                     4.000000                  38.450000  \n",
       "75%                     6.000000                  46.600000  \n",
       "max                    10.000000                 117.500000  "
      ]
     },
     "execution_count": 18,
     "metadata": {},
     "output_type": "execute_result"
    }
   ],
   "source": [
    "df.describe()"
   ]
  },
  {
   "cell_type": "code",
   "execution_count": 19,
   "metadata": {},
   "outputs": [
    {
     "data": {
      "text/plain": [
       "<Figure size 1500x800 with 0 Axes>"
      ]
     },
     "metadata": {},
     "output_type": "display_data"
    },
    {
     "data": {
      "image/png": "[encoded data removed]",
      "text/plain": [
       "<Figure size 1000x1000 with 20 Axes>"
      ]
     },
     "metadata": {},
     "output_type": "display_data"
    }
   ],
   "source": [
    "def corrfunc(x, y, **kws):\n",
    "    (r, p) = pearsonr(x, y) # r² e p-val\n",
    "    ax = plt.gca()\n",
    "    ax.annotate(\"r = {:.2f} \".format(r),\n",
    "                xy=(.1, .9), xycoords=ax.transAxes)\n",
    "    ax.annotate(\"p = {:.3f}\".format(p),\n",
    "                xy=(.4, .9), xycoords=ax.transAxes)\n",
    "\n",
    "plt.figure(figsize=(15,8))\n",
    "graph = sns.pairplot(df.loc[:,\"Idade casa\":\"Preco por unidade de area\"], diag_kind=\"kde\")\n",
    "graph.map(corrfunc)\n",
    "plt.show()"
   ]
  },
  {
   "cell_type": "code",
   "execution_count": 20,
   "metadata": {},
   "outputs": [
    {
     "data": {
      "image/png": "[encoded data removed]",
      "text/plain": [
       "<Figure size 800x600 with 4 Axes>"
      ]
     },
     "metadata": {},
     "output_type": "display_data"
    }
   ],
   "source": [
    "# Boxplot das variáveis quant contínuas\n",
    "box_columns = ['Idade casa','Distancia da estacao metro', 'Numero lojas conveniencia', 'Preco por unidade de area']\n",
    "fig, ax = plt.subplots(figsize=(8,6), nrows = 2, ncols = 2)\n",
    "\n",
    "for i, col in enumerate(box_columns):\n",
    "    sns.boxplot(y= df[col],ax=ax[i//2, i%2], color = 'green')\n",
    "fig.tight_layout()\n",
    "\n"
   ]
  },
  {
   "attachments": {},
   "cell_type": "markdown",
   "metadata": {},
   "source": [
    "> É possível verificar a presença de alguns outliers nas variáveis 'preco por unidade de area' e 'distancia da estacao'"
   ]
  },
  {
   "cell_type": "code",
   "execution_count": 21,
   "metadata": {},
   "outputs": [
    {
     "name": "stdout",
     "output_type": "stream",
     "text": [
      "Número de outliers na variável 'Distancia da estacao metro': 5\n",
      "Número de outliers na variável 'Preco por unidade de area'': 1\n",
      "Número de outliers na variável 'Numero lojas conveniencia': 0\n",
      "Número de outliers na variável 'Idade casa': 0\n"
     ]
    }
   ],
   "source": [
    "print(f\"Número de outliers na variável 'Distancia da estacao metro': {(stats.zscore(df['Distancia da estacao metro']) > abs(3)).sum()}\")\n",
    "print(f\"Número de outliers na variável 'Preco por unidade de area'': {(stats.zscore(df['Preco por unidade de area']) > abs(3)).sum()}\")\n",
    "print(f\"Número de outliers na variável 'Numero lojas conveniencia': {(stats.zscore(df['Numero lojas conveniencia']) > abs(3)).sum()}\")\n",
    "print(f\"Número de outliers na variável 'Idade casa': {(stats.zscore(df['Idade casa']) > abs(3)).sum()}\")"
   ]
  },
  {
   "attachments": {},
   "cell_type": "markdown",
   "metadata": {},
   "source": [
    "> No entanto, apesar de ser possível tratar outliers via zscore, não será a melhor alternativa nesse caso, pois as variáveis não estão normalmente distribuídas e ao remover os outliers originais, novos podem aparecer, como exemplificado abaixo.  \n",
    "> Ao removermos os 5 outliers que tínhamos, 8 novos outliers aparecem."
   ]
  },
  {
   "cell_type": "code",
   "execution_count": 22,
   "metadata": {},
   "outputs": [
    {
     "name": "stdout",
     "output_type": "stream",
     "text": [
      "Número de outliers na variável 'Distancia da estacao metro': 8\n"
     ]
    }
   ],
   "source": [
    "df_teste = df[(stats.zscore(df['Distancia da estacao metro']) < abs(3))]\n",
    "print(f\"Número de outliers na variável 'Distancia da estacao metro': {(stats.zscore(df_teste['Distancia da estacao metro']) > abs(3)).sum()}\")"
   ]
  },
  {
   "attachments": {},
   "cell_type": "markdown",
   "metadata": {},
   "source": [
    "> Portanto, iremos fazer por IQR"
   ]
  },
  {
   "cell_type": "code",
   "execution_count": 23,
   "metadata": {},
   "outputs": [],
   "source": [
    "# Função para tratar outliers\n",
    "\n",
    "def remove_outliers(df, colunas):\n",
    "    clean_df = df.copy()\n",
    "    \n",
    "    for col in colunas:\n",
    "        # quartil 1, quartil 3 e IQR\n",
    "        Q1 = clean_df[col].quantile(0.25)\n",
    "        Q3 = clean_df[col].quantile(0.75)\n",
    "        IQR = Q3 - Q1\n",
    "    \n",
    "        # Calcular limites superior e inferior\n",
    "        limite_inferior = Q1 - 1.5 * IQR\n",
    "        limite_superior = Q3 + 1.5 * IQR\n",
    "\n",
    "        # Identificar o indice das colunas com outliers para ser removidos posteriormente\n",
    "        \n",
    "        outlier_indices = clean_df[(clean_df[col] < limite_inferior) | (clean_df[col] > limite_superior)].index\n",
    "\n",
    "        # Remove os outliers do dataset nessa coluna\n",
    "        clean_df.drop(outlier_indices, inplace=True)\n",
    "    \n",
    "    return clean_df\n",
    "        "
   ]
  },
  {
   "cell_type": "code",
   "execution_count": 24,
   "metadata": {},
   "outputs": [],
   "source": [
    "#Objeto com as colunas a serem tratados\n",
    "col_outliers = ['Distancia da estacao metro','Preco por unidade de area']\n",
    "df = remove_outliers(df, col_outliers)"
   ]
  },
  {
   "cell_type": "code",
   "execution_count": 25,
   "metadata": {},
   "outputs": [
    {
     "data": {
      "text/plain": [
       "array([12,  7,  1, 10,  9,  6,  4,  3])"
      ]
     },
     "execution_count": 25,
     "metadata": {},
     "output_type": "execute_result"
    }
   ],
   "source": [
    "# Não temos todos os meses do ano. Ao inves de separar por mês, talvez seja ideal separar por quarter (trimestre).\n",
    "df['Mes Transacao'].unique()"
   ]
  },
  {
   "cell_type": "code",
   "execution_count": 26,
   "metadata": {},
   "outputs": [
    {
     "data": {
      "text/html": [
       "<div>\n",
       "<style scoped>\n",
       "    .dataframe tbody tr th:only-of-type {\n",
       "        vertical-align: middle;\n",
       "    }\n",
       "\n",
       "    .dataframe tbody tr th {\n",
       "        vertical-align: top;\n",
       "    }\n",
       "\n",
       "    .dataframe thead th {\n",
       "        text-align: right;\n",
       "    }\n",
       "</style>\n",
       "<table border=\"1\" class=\"dataframe\">\n",
       "  <thead>\n",
       "    <tr style=\"text-align: right;\">\n",
       "      <th></th>\n",
       "      <th>Ano Transacao</th>\n",
       "      <th>Mes Transacao</th>\n",
       "      <th>Idade casa</th>\n",
       "      <th>Distancia da estacao metro</th>\n",
       "      <th>Numero lojas conveniencia</th>\n",
       "      <th>Preco por unidade de area</th>\n",
       "    </tr>\n",
       "  </thead>\n",
       "  <tbody>\n",
       "    <tr>\n",
       "      <th>286</th>\n",
       "      <td>2012</td>\n",
       "      <td>12</td>\n",
       "      <td>5.9</td>\n",
       "      <td>90.45606</td>\n",
       "      <td>9</td>\n",
       "      <td>56.3</td>\n",
       "    </tr>\n",
       "    <tr>\n",
       "      <th>195</th>\n",
       "      <td>2013</td>\n",
       "      <td>4</td>\n",
       "      <td>15.2</td>\n",
       "      <td>461.10160</td>\n",
       "      <td>5</td>\n",
       "      <td>34.6</td>\n",
       "    </tr>\n",
       "    <tr>\n",
       "      <th>202</th>\n",
       "      <td>2012</td>\n",
       "      <td>12</td>\n",
       "      <td>38.3</td>\n",
       "      <td>642.69850</td>\n",
       "      <td>3</td>\n",
       "      <td>31.5</td>\n",
       "    </tr>\n",
       "    <tr>\n",
       "      <th>238</th>\n",
       "      <td>2013</td>\n",
       "      <td>1</td>\n",
       "      <td>12.8</td>\n",
       "      <td>732.85280</td>\n",
       "      <td>0</td>\n",
       "      <td>40.6</td>\n",
       "    </tr>\n",
       "    <tr>\n",
       "      <th>86</th>\n",
       "      <td>2012</td>\n",
       "      <td>10</td>\n",
       "      <td>1.8</td>\n",
       "      <td>1455.79800</td>\n",
       "      <td>1</td>\n",
       "      <td>27.0</td>\n",
       "    </tr>\n",
       "    <tr>\n",
       "      <th>359</th>\n",
       "      <td>2013</td>\n",
       "      <td>1</td>\n",
       "      <td>5.6</td>\n",
       "      <td>2408.99300</td>\n",
       "      <td>0</td>\n",
       "      <td>24.7</td>\n",
       "    </tr>\n",
       "    <tr>\n",
       "      <th>5</th>\n",
       "      <td>2012</td>\n",
       "      <td>9</td>\n",
       "      <td>7.1</td>\n",
       "      <td>2175.03000</td>\n",
       "      <td>3</td>\n",
       "      <td>32.1</td>\n",
       "    </tr>\n",
       "    <tr>\n",
       "      <th>197</th>\n",
       "      <td>2013</td>\n",
       "      <td>1</td>\n",
       "      <td>34.4</td>\n",
       "      <td>126.72860</td>\n",
       "      <td>8</td>\n",
       "      <td>48.2</td>\n",
       "    </tr>\n",
       "    <tr>\n",
       "      <th>181</th>\n",
       "      <td>2013</td>\n",
       "      <td>3</td>\n",
       "      <td>11.6</td>\n",
       "      <td>201.89390</td>\n",
       "      <td>8</td>\n",
       "      <td>55.9</td>\n",
       "    </tr>\n",
       "    <tr>\n",
       "      <th>227</th>\n",
       "      <td>2012</td>\n",
       "      <td>12</td>\n",
       "      <td>32.4</td>\n",
       "      <td>265.06090</td>\n",
       "      <td>8</td>\n",
       "      <td>40.2</td>\n",
       "    </tr>\n",
       "  </tbody>\n",
       "</table>\n",
       "</div>"
      ],
      "text/plain": [
       "     Ano Transacao  Mes Transacao  Idade casa  Distancia da estacao metro  \\\n",
       "286           2012             12         5.9                    90.45606   \n",
       "195           2013              4        15.2                   461.10160   \n",
       "202           2012             12        38.3                   642.69850   \n",
       "238           2013              1        12.8                   732.85280   \n",
       "86            2012             10         1.8                  1455.79800   \n",
       "359           2013              1         5.6                  2408.99300   \n",
       "5             2012              9         7.1                  2175.03000   \n",
       "197           2013              1        34.4                   126.72860   \n",
       "181           2013              3        11.6                   201.89390   \n",
       "227           2012             12        32.4                   265.06090   \n",
       "\n",
       "     Numero lojas conveniencia  Preco por unidade de area  \n",
       "286                          9                       56.3  \n",
       "195                          5                       34.6  \n",
       "202                          3                       31.5  \n",
       "238                          0                       40.6  \n",
       "86                           1                       27.0  \n",
       "359                          0                       24.7  \n",
       "5                            3                       32.1  \n",
       "197                          8                       48.2  \n",
       "181                          8                       55.9  \n",
       "227                          8                       40.2  "
      ]
     },
     "execution_count": 26,
     "metadata": {},
     "output_type": "execute_result"
    }
   ],
   "source": [
    "df.sample(10)"
   ]
  },
  {
   "cell_type": "code",
   "execution_count": 27,
   "metadata": {},
   "outputs": [],
   "source": [
    "# Transformando a coluna mes em trimestre.\n",
    "def trimestre_from_mes(mes):\n",
    "    if mes <= 3:\n",
    "        return 'Q1'\n",
    "    elif mes <= 6:\n",
    "        return 'Q2'\n",
    "    elif mes <= 9:\n",
    "        return 'Q3'    \n",
    "    elif mes <= 12:\n",
    "        return 'Q4'\n",
    "\n",
    "df['Mes Transacao'] = df['Mes Transacao'].apply(lambda x: trimestre_from_mes(x))"
   ]
  },
  {
   "cell_type": "code",
   "execution_count": null,
   "metadata": {},
   "outputs": [],
   "source": [
    "# Temos apenas dois anos diferentes\n",
    "df['Ano Transacao'].value_counts()"
   ]
  },
  {
   "cell_type": "code",
   "execution_count": null,
   "metadata": {},
   "outputs": [],
   "source": [
    "# Correlação\n",
    "correlacao = df.corr()\n",
    "sns.heatmap(correlacao, cmap = 'PiYG', annot = True, fmt = '.2f')"
   ]
  },
  {
   "cell_type": "code",
   "execution_count": null,
   "metadata": {},
   "outputs": [],
   "source": [
    "# Visualização das variáveis preditoras\n",
    "fig, axs = plt.subplots(nrows = 1, ncols = 4, figsize=(12,5))\n",
    "\n",
    "# Numero de bins\n",
    "bins = 20\n",
    "\n",
    "for i, data in enumerate([df['Idade casa'], df['Distancia da estacao metro'], df['Numero lojas conveniencia'], df['Preco por unidade de area']]):\n",
    "    axs[i].hist(data, bins = bins, alpha = 0.7)\n",
    "    axs[i].set_xlabel('Valor')\n",
    "    axs[i].set_ylabel('Frequencia')\n",
    "    axs[i].set_title(f'{df.columns[i+2]}')\n",
    "    \n",
    "plt.tight_layout()\n",
    "    \n",
    "plt.show()"
   ]
  },
  {
   "cell_type": "code",
   "execution_count": null,
   "metadata": {},
   "outputs": [],
   "source": [
    "df.head()"
   ]
  },
  {
   "attachments": {},
   "cell_type": "markdown",
   "metadata": {},
   "source": [
    "### Dummização das variáveis Ano e Mês"
   ]
  },
  {
   "cell_type": "code",
   "execution_count": null,
   "metadata": {},
   "outputs": [],
   "source": [
    "df_dummies = pd.get_dummies(df, columns=['Ano Transacao', 'Mes Transacao'], drop_first= True)\n",
    "df_dummies.head()"
   ]
  },
  {
   "attachments": {},
   "cell_type": "markdown",
   "metadata": {},
   "source": [
    "## Modelo"
   ]
  },
  {
   "cell_type": "code",
   "execution_count": null,
   "metadata": {},
   "outputs": [],
   "source": [
    "# Separando os dados em dados de treino e dados de teste\n",
    "X = df_dummies.drop('Preco por unidade de area', axis = 1)\n",
    "y = df_dummies['Preco por unidade de area']\n",
    "\n",
    "X_train, X_teste, y_train, y_teste = train_test_split(X, y, test_size=0.25)"
   ]
  },
  {
   "cell_type": "code",
   "execution_count": null,
   "metadata": {},
   "outputs": [],
   "source": [
    "# Vamos fazer a padronização dos dados visto que as variáveis se encontram em grandezas diferentes\n",
    "scaler = StandardScaler()\n",
    "X_train = scaler.fit_transform(X_train)\n",
    "X_teste = scaler.transform(X_teste)"
   ]
  },
  {
   "cell_type": "code",
   "execution_count": null,
   "metadata": {},
   "outputs": [],
   "source": [
    "# Verificar se foi devidamente padronizado\n",
    "print(f'Desvio Padrao: {X_train.std()}')\n",
    "print(f'Média: {X_train.mean()}')"
   ]
  },
  {
   "cell_type": "code",
   "execution_count": null,
   "metadata": {},
   "outputs": [],
   "source": [
    "# Modelo\n",
    "modelo = LinearRegression()\n",
    "modelo.fit(X_train, y_train)"
   ]
  },
  {
   "cell_type": "code",
   "execution_count": null,
   "metadata": {},
   "outputs": [],
   "source": [
    "# Coeficientes\n",
    "coef = modelo.coef_\n",
    "pd.DataFrame(data = coef, index = X.columns, columns=['Coeficientes'])"
   ]
  },
  {
   "cell_type": "code",
   "execution_count": null,
   "metadata": {},
   "outputs": [],
   "source": [
    "modelo.intercept_\n",
    "y_predicted = modelo.predict(X_teste)"
   ]
  },
  {
   "cell_type": "code",
   "execution_count": null,
   "metadata": {},
   "outputs": [],
   "source": [
    "# Plot dos dados previstos com os reais\n",
    "plt.figure(figsize=(10,8))\n",
    "\n",
    "plt.scatter(x = y_teste, y = y_predicted, color = 'green', edgecolors= 'black')\n",
    "plt.xlabel('Valores reais de Y', fontdict={'fontsize': 16})\n",
    "plt.ylabel('Valores Previstos de Y', fontdict={'fontsize': 16})\n",
    "plt.grid(True)"
   ]
  },
  {
   "cell_type": "code",
   "execution_count": null,
   "metadata": {},
   "outputs": [],
   "source": [
    "# Métricas de avaliação do modelo\n",
    "mean_squared_error(y_teste, y_predicted)# Mean Squared Error"
   ]
  },
  {
   "cell_type": "code",
   "execution_count": null,
   "metadata": {},
   "outputs": [],
   "source": [
    "mean_absolute_error(y_teste, y_predicted)# MAE - Mean Absolute Error"
   ]
  },
  {
   "cell_type": "code",
   "execution_count": null,
   "metadata": {},
   "outputs": [],
   "source": [
    "r2_score(y_teste, y_predicted) # R²"
   ]
  },
  {
   "attachments": {},
   "cell_type": "markdown",
   "metadata": {},
   "source": [
    "## Modelo2"
   ]
  },
  {
   "attachments": {},
   "cell_type": "markdown",
   "metadata": {},
   "source": [
    "> Modelo para ver resultados estatísticos"
   ]
  },
  {
   "cell_type": "code",
   "execution_count": null,
   "metadata": {},
   "outputs": [],
   "source": [
    "# Será necessário renomear as colunas pra nao ter espaço\n",
    "X.rename(columns={'Mes Transacao_Q3': 'Mes_Transacao_Q3',\n",
    "                  'Mes Transacao_Q4': 'Mes_Transacao_Q4',\n",
    "                  'Mes Transacao_Q2': 'Mes_Transacao_Q2',\n",
    "                  'Ano Transacao_2013': 'Ano_Transacao_2013',\n",
    "                  'Idade casa': 'Idade_casa',\n",
    "                  'Distancia da estacao metro': 'Distancia_da_estacao_metro',\n",
    "                  'Numero lojas conveniencia': 'Numero_lojas_conveniencia',\n",
    "                  }, inplace=True)\n",
    "y = y.rename('Preco_por_unidade_de_area')"
   ]
  },
  {
   "cell_type": "code",
   "execution_count": null,
   "metadata": {},
   "outputs": [],
   "source": [
    "X.columns"
   ]
  },
  {
   "cell_type": "code",
   "execution_count": null,
   "metadata": {},
   "outputs": [],
   "source": [
    "# Padronizar os dados de input(X)\n",
    "X = scaler.fit_transform(X)\n",
    "X = pd.DataFrame(X, columns=['Idade_casa', 'Distancia_da_estacao_metro', 'Numero_lojas_conveniencia',\n",
    "       'Ano_Transacao_2013', 'Mes_Transacao_Q2', 'Mes_Transacao_Q3',\n",
    "       'Mes_Transacao_Q4'])\n",
    "X.sample(10)"
   ]
  },
  {
   "cell_type": "code",
   "execution_count": null,
   "metadata": {},
   "outputs": [],
   "source": [
    "X.head()"
   ]
  },
  {
   "cell_type": "code",
   "execution_count": null,
   "metadata": {},
   "outputs": [],
   "source": [
    "# Criando o modelo com a função OLS do o pacote statsmodel\n",
    "modelo_sm = sm.OLS(y,X).fit()"
   ]
  },
  {
   "cell_type": "code",
   "execution_count": null,
   "metadata": {},
   "outputs": [],
   "source": [
    "# summary do modelo\n",
    "modelo_sm.summary()"
   ]
  },
  {
   "cell_type": "code",
   "execution_count": null,
   "metadata": {},
   "outputs": [],
   "source": [
    "# Procedimento step wise\n",
    "\n",
    "# Estimação do modelo por meio do procedimento Stepwise\n",
    "modelo_sm_stepwise = stepwise(modelo_sm, pvalue_limit=0.05)"
   ]
  },
  {
   "cell_type": "code",
   "execution_count": null,
   "metadata": {},
   "outputs": [],
   "source": [
    "# O modelo \n",
    "modelo_sm_stepwise.summary()"
   ]
  }
 ],
 "metadata": {
  "kernelspec": {
   "display_name": "base",
   "language": "python",
   "name": "python3"
  },
  "language_info": {
   "codemirror_mode": {
    "name": "ipython",
    "version": 3
   },
   "file_extension": ".py",
   "mimetype": "text/x-python",
   "name": "python",
   "nbconvert_exporter": "python",
   "pygments_lexer": "ipython3",
   "version": "3.9.13"
  },
  "orig_nbformat": 4
 },
 "nbformat": 4,
 "nbformat_minor": 2
}
